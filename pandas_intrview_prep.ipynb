{
 "cells": [
  {
   "cell_type": "code",
   "execution_count": 3,
   "id": "6e693320",
   "metadata": {},
   "outputs": [],
   "source": [
    "# Q1: How to create new columns derived from existing columns in Pandas?\n",
    "import pandas as pd\n",
    "import numpy as np\n",
    "dict1 = {\"A\" : [10,20,30,40],\n",
    "         \"B\" :  [2,3,4,5]\n",
    "        }\n",
    "data = pd.DataFrame(dict1)\n",
    "data['C'] = data[\"A\"] * data['B']"
   ]
  },
  {
   "cell_type": "code",
   "execution_count": 49,
   "id": "5b21b94e",
   "metadata": {},
   "outputs": [
    {
     "data": {
      "text/html": [
       "<div>\n",
       "<style scoped>\n",
       "    .dataframe tbody tr th:only-of-type {\n",
       "        vertical-align: middle;\n",
       "    }\n",
       "\n",
       "    .dataframe tbody tr th {\n",
       "        vertical-align: top;\n",
       "    }\n",
       "\n",
       "    .dataframe thead th {\n",
       "        text-align: right;\n",
       "    }\n",
       "</style>\n",
       "<table border=\"1\" class=\"dataframe\">\n",
       "  <thead>\n",
       "    <tr style=\"text-align: right;\">\n",
       "      <th></th>\n",
       "      <th>A</th>\n",
       "      <th>B</th>\n",
       "      <th>C</th>\n",
       "    </tr>\n",
       "  </thead>\n",
       "  <tbody>\n",
       "    <tr>\n",
       "      <th>0</th>\n",
       "      <td>10</td>\n",
       "      <td>2</td>\n",
       "      <td>20</td>\n",
       "    </tr>\n",
       "    <tr>\n",
       "      <th>1</th>\n",
       "      <td>20</td>\n",
       "      <td>3</td>\n",
       "      <td>60</td>\n",
       "    </tr>\n",
       "    <tr>\n",
       "      <th>2</th>\n",
       "      <td>30</td>\n",
       "      <td>4</td>\n",
       "      <td>120</td>\n",
       "    </tr>\n",
       "    <tr>\n",
       "      <th>3</th>\n",
       "      <td>40</td>\n",
       "      <td>5</td>\n",
       "      <td>200</td>\n",
       "    </tr>\n",
       "  </tbody>\n",
       "</table>\n",
       "</div>"
      ],
      "text/plain": [
       "    A  B    C\n",
       "0  10  2   20\n",
       "1  20  3   60\n",
       "2  30  4  120\n",
       "3  40  5  200"
      ]
     },
     "execution_count": 49,
     "metadata": {},
     "output_type": "execute_result"
    }
   ],
   "source": [
    "data"
   ]
  },
  {
   "cell_type": "code",
   "execution_count": 89,
   "id": "14387017",
   "metadata": {},
   "outputs": [],
   "source": [
    "# Q2: A column in a df has boolean True/False values, \n",
    "# but for further calculations, we need 1/0 representation. How would you transform it?\n",
    "dict1 = {\"Emp_name\" : [\"Rohit\",\"Rahul\",\"Banky\",\"Shubham\",\"Rajan\"],\n",
    "         \"Age\": [28,27,35,26,26],\n",
    "         \"Doamin\":[\"DS\",\"Full_stack\",\"Education_learning_platform\",\"DS\",\"Developer\"],\n",
    "         \"loc\" :[\"Bangalore\",\"hyderabad\",\"Kolkata\",\"Tirundpuram\",\"Ranchi\"],\n",
    "         \"collage\":[\"HIT\",\"NSIT\",\"IIT\",\"NIT\",\"MIT\"],\n",
    "         \"CGPA\" : [8.2,6,6.5,8,8.5],\n",
    "         \"Placed\":[True,False,True,False,False]\n",
    "        }\n",
    "df = pd.DataFrame(dict1)"
   ]
  },
  {
   "cell_type": "code",
   "execution_count": 90,
   "id": "c53fed15",
   "metadata": {},
   "outputs": [
    {
     "data": {
      "text/html": [
       "<div>\n",
       "<style scoped>\n",
       "    .dataframe tbody tr th:only-of-type {\n",
       "        vertical-align: middle;\n",
       "    }\n",
       "\n",
       "    .dataframe tbody tr th {\n",
       "        vertical-align: top;\n",
       "    }\n",
       "\n",
       "    .dataframe thead th {\n",
       "        text-align: right;\n",
       "    }\n",
       "</style>\n",
       "<table border=\"1\" class=\"dataframe\">\n",
       "  <thead>\n",
       "    <tr style=\"text-align: right;\">\n",
       "      <th></th>\n",
       "      <th>Emp_name</th>\n",
       "      <th>Age</th>\n",
       "      <th>Doamin</th>\n",
       "      <th>loc</th>\n",
       "      <th>collage</th>\n",
       "      <th>CGPA</th>\n",
       "      <th>Placed</th>\n",
       "    </tr>\n",
       "  </thead>\n",
       "  <tbody>\n",
       "    <tr>\n",
       "      <th>0</th>\n",
       "      <td>Rohit</td>\n",
       "      <td>28</td>\n",
       "      <td>DS</td>\n",
       "      <td>Bangalore</td>\n",
       "      <td>HIT</td>\n",
       "      <td>8.2</td>\n",
       "      <td>True</td>\n",
       "    </tr>\n",
       "    <tr>\n",
       "      <th>1</th>\n",
       "      <td>Rahul</td>\n",
       "      <td>27</td>\n",
       "      <td>Full_stack</td>\n",
       "      <td>hyderabad</td>\n",
       "      <td>NSIT</td>\n",
       "      <td>6.0</td>\n",
       "      <td>False</td>\n",
       "    </tr>\n",
       "    <tr>\n",
       "      <th>2</th>\n",
       "      <td>Banky</td>\n",
       "      <td>35</td>\n",
       "      <td>Education_learning_platform</td>\n",
       "      <td>Kolkata</td>\n",
       "      <td>IIT</td>\n",
       "      <td>6.5</td>\n",
       "      <td>True</td>\n",
       "    </tr>\n",
       "    <tr>\n",
       "      <th>3</th>\n",
       "      <td>Shubham</td>\n",
       "      <td>26</td>\n",
       "      <td>DS</td>\n",
       "      <td>Tirundpuram</td>\n",
       "      <td>NIT</td>\n",
       "      <td>8.0</td>\n",
       "      <td>False</td>\n",
       "    </tr>\n",
       "    <tr>\n",
       "      <th>4</th>\n",
       "      <td>Rajan</td>\n",
       "      <td>26</td>\n",
       "      <td>Developer</td>\n",
       "      <td>Ranchi</td>\n",
       "      <td>MIT</td>\n",
       "      <td>8.5</td>\n",
       "      <td>False</td>\n",
       "    </tr>\n",
       "  </tbody>\n",
       "</table>\n",
       "</div>"
      ],
      "text/plain": [
       "  Emp_name  Age                       Doamin          loc collage  CGPA  \\\n",
       "0    Rohit   28                           DS    Bangalore     HIT   8.2   \n",
       "1    Rahul   27                   Full_stack    hyderabad    NSIT   6.0   \n",
       "2    Banky   35  Education_learning_platform      Kolkata     IIT   6.5   \n",
       "3  Shubham   26                           DS  Tirundpuram     NIT   8.0   \n",
       "4    Rajan   26                    Developer       Ranchi     MIT   8.5   \n",
       "\n",
       "   Placed  \n",
       "0    True  \n",
       "1   False  \n",
       "2    True  \n",
       "3   False  \n",
       "4   False  "
      ]
     },
     "execution_count": 90,
     "metadata": {},
     "output_type": "execute_result"
    }
   ],
   "source": [
    "df"
   ]
  },
  {
   "cell_type": "code",
   "execution_count": 91,
   "id": "61a19bfb",
   "metadata": {},
   "outputs": [],
   "source": [
    "df[\"Placed\"] = df[\"Placed\"].astype(int)"
   ]
  },
  {
   "cell_type": "code",
   "execution_count": 92,
   "id": "191f0f53",
   "metadata": {},
   "outputs": [
    {
     "data": {
      "text/html": [
       "<div>\n",
       "<style scoped>\n",
       "    .dataframe tbody tr th:only-of-type {\n",
       "        vertical-align: middle;\n",
       "    }\n",
       "\n",
       "    .dataframe tbody tr th {\n",
       "        vertical-align: top;\n",
       "    }\n",
       "\n",
       "    .dataframe thead th {\n",
       "        text-align: right;\n",
       "    }\n",
       "</style>\n",
       "<table border=\"1\" class=\"dataframe\">\n",
       "  <thead>\n",
       "    <tr style=\"text-align: right;\">\n",
       "      <th></th>\n",
       "      <th>Emp_name</th>\n",
       "      <th>Age</th>\n",
       "      <th>Doamin</th>\n",
       "      <th>loc</th>\n",
       "      <th>collage</th>\n",
       "      <th>CGPA</th>\n",
       "      <th>Placed</th>\n",
       "    </tr>\n",
       "  </thead>\n",
       "  <tbody>\n",
       "    <tr>\n",
       "      <th>0</th>\n",
       "      <td>Rohit</td>\n",
       "      <td>28</td>\n",
       "      <td>DS</td>\n",
       "      <td>Bangalore</td>\n",
       "      <td>HIT</td>\n",
       "      <td>8.2</td>\n",
       "      <td>1</td>\n",
       "    </tr>\n",
       "    <tr>\n",
       "      <th>1</th>\n",
       "      <td>Rahul</td>\n",
       "      <td>27</td>\n",
       "      <td>Full_stack</td>\n",
       "      <td>hyderabad</td>\n",
       "      <td>NSIT</td>\n",
       "      <td>6.0</td>\n",
       "      <td>0</td>\n",
       "    </tr>\n",
       "    <tr>\n",
       "      <th>2</th>\n",
       "      <td>Banky</td>\n",
       "      <td>35</td>\n",
       "      <td>Education_learning_platform</td>\n",
       "      <td>Kolkata</td>\n",
       "      <td>IIT</td>\n",
       "      <td>6.5</td>\n",
       "      <td>1</td>\n",
       "    </tr>\n",
       "    <tr>\n",
       "      <th>3</th>\n",
       "      <td>Shubham</td>\n",
       "      <td>26</td>\n",
       "      <td>DS</td>\n",
       "      <td>Tirundpuram</td>\n",
       "      <td>NIT</td>\n",
       "      <td>8.0</td>\n",
       "      <td>0</td>\n",
       "    </tr>\n",
       "    <tr>\n",
       "      <th>4</th>\n",
       "      <td>Rajan</td>\n",
       "      <td>26</td>\n",
       "      <td>Developer</td>\n",
       "      <td>Ranchi</td>\n",
       "      <td>MIT</td>\n",
       "      <td>8.5</td>\n",
       "      <td>0</td>\n",
       "    </tr>\n",
       "  </tbody>\n",
       "</table>\n",
       "</div>"
      ],
      "text/plain": [
       "  Emp_name  Age                       Doamin          loc collage  CGPA  \\\n",
       "0    Rohit   28                           DS    Bangalore     HIT   8.2   \n",
       "1    Rahul   27                   Full_stack    hyderabad    NSIT   6.0   \n",
       "2    Banky   35  Education_learning_platform      Kolkata     IIT   6.5   \n",
       "3  Shubham   26                           DS  Tirundpuram     NIT   8.0   \n",
       "4    Rajan   26                    Developer       Ranchi     MIT   8.5   \n",
       "\n",
       "   Placed  \n",
       "0       1  \n",
       "1       0  \n",
       "2       1  \n",
       "3       0  \n",
       "4       0  "
      ]
     },
     "execution_count": 92,
     "metadata": {},
     "output_type": "execute_result"
    }
   ],
   "source": [
    "df"
   ]
  },
  {
   "cell_type": "code",
   "execution_count": 93,
   "id": "6764bad4",
   "metadata": {},
   "outputs": [
    {
     "name": "stdout",
     "output_type": "stream",
     "text": [
      "Emp_name\n",
      "Age\n",
      "Doamin\n",
      "loc\n",
      "collage\n",
      "CGPA\n",
      "Placed\n"
     ]
    }
   ],
   "source": [
    "# Q3: Describe how you will get the names of columns of a DataFrame in Pandas\n",
    "for i in df.columns:\n",
    "    print(i)"
   ]
  },
  {
   "cell_type": "code",
   "execution_count": 94,
   "id": "90825d69",
   "metadata": {},
   "outputs": [
    {
     "data": {
      "text/plain": [
       "['Emp_name', 'Age', 'Doamin', 'loc', 'collage', 'CGPA', 'Placed']"
      ]
     },
     "execution_count": 94,
     "metadata": {},
     "output_type": "execute_result"
    }
   ],
   "source": [
    "list(df.columns)"
   ]
  },
  {
   "cell_type": "code",
   "execution_count": 95,
   "id": "0b590fe8",
   "metadata": {},
   "outputs": [
    {
     "data": {
      "text/plain": [
       "['Emp_name', 'Age', 'Doamin', 'loc', 'collage', 'CGPA', 'Placed']"
      ]
     },
     "execution_count": 95,
     "metadata": {},
     "output_type": "execute_result"
    }
   ],
   "source": [
    "# Using the column.values() method to return an array of index.\n",
    "list(df.columns.values)"
   ]
  },
  {
   "cell_type": "code",
   "execution_count": 96,
   "id": "c6aed7af",
   "metadata": {},
   "outputs": [
    {
     "data": {
      "text/plain": [
       "['Age', 'CGPA', 'Doamin', 'Emp_name', 'Placed', 'collage', 'loc']"
      ]
     },
     "execution_count": 96,
     "metadata": {},
     "output_type": "execute_result"
    }
   ],
   "source": [
    "sorted(df)"
   ]
  },
  {
   "cell_type": "code",
   "execution_count": 97,
   "id": "6519ff8f",
   "metadata": {},
   "outputs": [
    {
     "name": "stdout",
     "output_type": "stream",
     "text": [
      "Emp_name        Rohit\n",
      "Age                28\n",
      "Doamin             DS\n",
      "loc         Bangalore\n",
      "collage           HIT\n",
      "CGPA              8.2\n",
      "Placed              1\n",
      "Name: 0, dtype: object\n",
      "\n",
      "\n",
      "Emp_name         Rahul\n",
      "Age                 27\n",
      "Doamin      Full_stack\n",
      "loc          hyderabad\n",
      "collage           NSIT\n",
      "CGPA               6.0\n",
      "Placed               0\n",
      "Name: 1, dtype: object\n",
      "\n",
      "\n",
      "Emp_name                          Banky\n",
      "Age                                  35\n",
      "Doamin      Education_learning_platform\n",
      "loc                             Kolkata\n",
      "collage                             IIT\n",
      "CGPA                                6.5\n",
      "Placed                                1\n",
      "Name: 2, dtype: object\n",
      "\n",
      "\n",
      "Emp_name        Shubham\n",
      "Age                  26\n",
      "Doamin               DS\n",
      "loc         Tirundpuram\n",
      "collage             NIT\n",
      "CGPA                8.0\n",
      "Placed                0\n",
      "Name: 3, dtype: object\n"
     ]
    }
   ],
   "source": [
    "# Q4: How are iloc() and loc() different?\n",
    "# DataFrame.iloc is a method used to retrieve data from a Data frame, and it is an \n",
    "# integer position-based locator (from 0 to length-1 of the axis), but may also be used with a boolean array. \n",
    "# It takes input as integer, arrays of integers, a slice object, boolean array and functions.\n",
    "print(df.iloc[0])\n",
    "print(\"\\n\")\n",
    "print(df.iloc[1])\n",
    "print(\"\\n\")\n",
    "print(df.iloc[2])\n",
    "print(\"\\n\")\n",
    "print(df.iloc[3])"
   ]
  },
  {
   "cell_type": "code",
   "execution_count": 98,
   "id": "e9de246b",
   "metadata": {},
   "outputs": [
    {
     "data": {
      "text/html": [
       "<div>\n",
       "<style scoped>\n",
       "    .dataframe tbody tr th:only-of-type {\n",
       "        vertical-align: middle;\n",
       "    }\n",
       "\n",
       "    .dataframe tbody tr th {\n",
       "        vertical-align: top;\n",
       "    }\n",
       "\n",
       "    .dataframe thead th {\n",
       "        text-align: right;\n",
       "    }\n",
       "</style>\n",
       "<table border=\"1\" class=\"dataframe\">\n",
       "  <thead>\n",
       "    <tr style=\"text-align: right;\">\n",
       "      <th></th>\n",
       "      <th>Emp_name</th>\n",
       "      <th>Age</th>\n",
       "      <th>Doamin</th>\n",
       "      <th>loc</th>\n",
       "      <th>collage</th>\n",
       "      <th>CGPA</th>\n",
       "      <th>Placed</th>\n",
       "    </tr>\n",
       "  </thead>\n",
       "  <tbody>\n",
       "    <tr>\n",
       "      <th>3</th>\n",
       "      <td>Shubham</td>\n",
       "      <td>26</td>\n",
       "      <td>DS</td>\n",
       "      <td>Tirundpuram</td>\n",
       "      <td>NIT</td>\n",
       "      <td>8.0</td>\n",
       "      <td>0</td>\n",
       "    </tr>\n",
       "    <tr>\n",
       "      <th>4</th>\n",
       "      <td>Rajan</td>\n",
       "      <td>26</td>\n",
       "      <td>Developer</td>\n",
       "      <td>Ranchi</td>\n",
       "      <td>MIT</td>\n",
       "      <td>8.5</td>\n",
       "      <td>0</td>\n",
       "    </tr>\n",
       "  </tbody>\n",
       "</table>\n",
       "</div>"
      ],
      "text/plain": [
       "  Emp_name  Age     Doamin          loc collage  CGPA  Placed\n",
       "3  Shubham   26         DS  Tirundpuram     NIT   8.0       0\n",
       "4    Rajan   26  Developer       Ranchi     MIT   8.5       0"
      ]
     },
     "execution_count": 98,
     "metadata": {},
     "output_type": "execute_result"
    }
   ],
   "source": [
    "df.iloc[-2:]"
   ]
  },
  {
   "cell_type": "code",
   "execution_count": 99,
   "id": "af3217e7",
   "metadata": {},
   "outputs": [
    {
     "data": {
      "text/html": [
       "<div>\n",
       "<style scoped>\n",
       "    .dataframe tbody tr th:only-of-type {\n",
       "        vertical-align: middle;\n",
       "    }\n",
       "\n",
       "    .dataframe tbody tr th {\n",
       "        vertical-align: top;\n",
       "    }\n",
       "\n",
       "    .dataframe thead th {\n",
       "        text-align: right;\n",
       "    }\n",
       "</style>\n",
       "<table border=\"1\" class=\"dataframe\">\n",
       "  <thead>\n",
       "    <tr style=\"text-align: right;\">\n",
       "      <th></th>\n",
       "      <th>Emp_name</th>\n",
       "      <th>Age</th>\n",
       "      <th>Doamin</th>\n",
       "      <th>loc</th>\n",
       "      <th>collage</th>\n",
       "      <th>CGPA</th>\n",
       "      <th>Placed</th>\n",
       "    </tr>\n",
       "  </thead>\n",
       "  <tbody>\n",
       "    <tr>\n",
       "      <th>2</th>\n",
       "      <td>Banky</td>\n",
       "      <td>35</td>\n",
       "      <td>Education_learning_platform</td>\n",
       "      <td>Kolkata</td>\n",
       "      <td>IIT</td>\n",
       "      <td>6.5</td>\n",
       "      <td>1</td>\n",
       "    </tr>\n",
       "    <tr>\n",
       "      <th>3</th>\n",
       "      <td>Shubham</td>\n",
       "      <td>26</td>\n",
       "      <td>DS</td>\n",
       "      <td>Tirundpuram</td>\n",
       "      <td>NIT</td>\n",
       "      <td>8.0</td>\n",
       "      <td>0</td>\n",
       "    </tr>\n",
       "    <tr>\n",
       "      <th>4</th>\n",
       "      <td>Rajan</td>\n",
       "      <td>26</td>\n",
       "      <td>Developer</td>\n",
       "      <td>Ranchi</td>\n",
       "      <td>MIT</td>\n",
       "      <td>8.5</td>\n",
       "      <td>0</td>\n",
       "    </tr>\n",
       "  </tbody>\n",
       "</table>\n",
       "</div>"
      ],
      "text/plain": [
       "  Emp_name  Age                       Doamin          loc collage  CGPA  \\\n",
       "2    Banky   35  Education_learning_platform      Kolkata     IIT   6.5   \n",
       "3  Shubham   26                           DS  Tirundpuram     NIT   8.0   \n",
       "4    Rajan   26                    Developer       Ranchi     MIT   8.5   \n",
       "\n",
       "   Placed  \n",
       "2       1  \n",
       "3       0  \n",
       "4       0  "
      ]
     },
     "execution_count": 99,
     "metadata": {},
     "output_type": "execute_result"
    }
   ],
   "source": [
    "df[-3:]"
   ]
  },
  {
   "cell_type": "code",
   "execution_count": 100,
   "id": "4f7e7621",
   "metadata": {},
   "outputs": [
    {
     "data": {
      "text/html": [
       "<div>\n",
       "<style scoped>\n",
       "    .dataframe tbody tr th:only-of-type {\n",
       "        vertical-align: middle;\n",
       "    }\n",
       "\n",
       "    .dataframe tbody tr th {\n",
       "        vertical-align: top;\n",
       "    }\n",
       "\n",
       "    .dataframe thead th {\n",
       "        text-align: right;\n",
       "    }\n",
       "</style>\n",
       "<table border=\"1\" class=\"dataframe\">\n",
       "  <thead>\n",
       "    <tr style=\"text-align: right;\">\n",
       "      <th></th>\n",
       "      <th>Emp_name</th>\n",
       "      <th>Age</th>\n",
       "      <th>Doamin</th>\n",
       "      <th>loc</th>\n",
       "      <th>collage</th>\n",
       "      <th>CGPA</th>\n",
       "      <th>Placed</th>\n",
       "    </tr>\n",
       "  </thead>\n",
       "  <tbody>\n",
       "    <tr>\n",
       "      <th>2</th>\n",
       "      <td>Banky</td>\n",
       "      <td>35</td>\n",
       "      <td>Education_learning_platform</td>\n",
       "      <td>Kolkata</td>\n",
       "      <td>IIT</td>\n",
       "      <td>6.5</td>\n",
       "      <td>1</td>\n",
       "    </tr>\n",
       "    <tr>\n",
       "      <th>3</th>\n",
       "      <td>Shubham</td>\n",
       "      <td>26</td>\n",
       "      <td>DS</td>\n",
       "      <td>Tirundpuram</td>\n",
       "      <td>NIT</td>\n",
       "      <td>8.0</td>\n",
       "      <td>0</td>\n",
       "    </tr>\n",
       "    <tr>\n",
       "      <th>4</th>\n",
       "      <td>Rajan</td>\n",
       "      <td>26</td>\n",
       "      <td>Developer</td>\n",
       "      <td>Ranchi</td>\n",
       "      <td>MIT</td>\n",
       "      <td>8.5</td>\n",
       "      <td>0</td>\n",
       "    </tr>\n",
       "  </tbody>\n",
       "</table>\n",
       "</div>"
      ],
      "text/plain": [
       "  Emp_name  Age                       Doamin          loc collage  CGPA  \\\n",
       "2    Banky   35  Education_learning_platform      Kolkata     IIT   6.5   \n",
       "3  Shubham   26                           DS  Tirundpuram     NIT   8.0   \n",
       "4    Rajan   26                    Developer       Ranchi     MIT   8.5   \n",
       "\n",
       "   Placed  \n",
       "2       1  \n",
       "3       0  \n",
       "4       0  "
      ]
     },
     "execution_count": 100,
     "metadata": {},
     "output_type": "execute_result"
    }
   ],
   "source": [
    "df.iloc[-3:]"
   ]
  },
  {
   "cell_type": "code",
   "execution_count": 101,
   "id": "63a5ea59",
   "metadata": {},
   "outputs": [
    {
     "data": {
      "text/html": [
       "<div>\n",
       "<style scoped>\n",
       "    .dataframe tbody tr th:only-of-type {\n",
       "        vertical-align: middle;\n",
       "    }\n",
       "\n",
       "    .dataframe tbody tr th {\n",
       "        vertical-align: top;\n",
       "    }\n",
       "\n",
       "    .dataframe thead th {\n",
       "        text-align: right;\n",
       "    }\n",
       "</style>\n",
       "<table border=\"1\" class=\"dataframe\">\n",
       "  <thead>\n",
       "    <tr style=\"text-align: right;\">\n",
       "      <th></th>\n",
       "      <th>Emp_name</th>\n",
       "      <th>Age</th>\n",
       "      <th>Doamin</th>\n",
       "      <th>loc</th>\n",
       "      <th>collage</th>\n",
       "      <th>CGPA</th>\n",
       "      <th>Placed</th>\n",
       "    </tr>\n",
       "  </thead>\n",
       "  <tbody>\n",
       "    <tr>\n",
       "      <th>0</th>\n",
       "      <td>Rohit</td>\n",
       "      <td>28</td>\n",
       "      <td>DS</td>\n",
       "      <td>Bangalore</td>\n",
       "      <td>HIT</td>\n",
       "      <td>8.2</td>\n",
       "      <td>1</td>\n",
       "    </tr>\n",
       "    <tr>\n",
       "      <th>1</th>\n",
       "      <td>Rahul</td>\n",
       "      <td>27</td>\n",
       "      <td>Full_stack</td>\n",
       "      <td>hyderabad</td>\n",
       "      <td>NSIT</td>\n",
       "      <td>6.0</td>\n",
       "      <td>0</td>\n",
       "    </tr>\n",
       "  </tbody>\n",
       "</table>\n",
       "</div>"
      ],
      "text/plain": [
       "  Emp_name  Age      Doamin        loc collage  CGPA  Placed\n",
       "0    Rohit   28          DS  Bangalore     HIT   8.2       1\n",
       "1    Rahul   27  Full_stack  hyderabad    NSIT   6.0       0"
      ]
     },
     "execution_count": 101,
     "metadata": {},
     "output_type": "execute_result"
    }
   ],
   "source": [
    "df[:2]"
   ]
  },
  {
   "cell_type": "code",
   "execution_count": 102,
   "id": "76851dc0",
   "metadata": {},
   "outputs": [
    {
     "data": {
      "text/html": [
       "<div>\n",
       "<style scoped>\n",
       "    .dataframe tbody tr th:only-of-type {\n",
       "        vertical-align: middle;\n",
       "    }\n",
       "\n",
       "    .dataframe tbody tr th {\n",
       "        vertical-align: top;\n",
       "    }\n",
       "\n",
       "    .dataframe thead th {\n",
       "        text-align: right;\n",
       "    }\n",
       "</style>\n",
       "<table border=\"1\" class=\"dataframe\">\n",
       "  <thead>\n",
       "    <tr style=\"text-align: right;\">\n",
       "      <th></th>\n",
       "      <th>Emp_name</th>\n",
       "      <th>Age</th>\n",
       "      <th>Doamin</th>\n",
       "      <th>loc</th>\n",
       "      <th>collage</th>\n",
       "      <th>CGPA</th>\n",
       "      <th>Placed</th>\n",
       "    </tr>\n",
       "  </thead>\n",
       "  <tbody>\n",
       "    <tr>\n",
       "      <th>0</th>\n",
       "      <td>Rohit</td>\n",
       "      <td>28</td>\n",
       "      <td>DS</td>\n",
       "      <td>Bangalore</td>\n",
       "      <td>HIT</td>\n",
       "      <td>8.2</td>\n",
       "      <td>1</td>\n",
       "    </tr>\n",
       "    <tr>\n",
       "      <th>1</th>\n",
       "      <td>Rahul</td>\n",
       "      <td>27</td>\n",
       "      <td>Full_stack</td>\n",
       "      <td>hyderabad</td>\n",
       "      <td>NSIT</td>\n",
       "      <td>6.0</td>\n",
       "      <td>0</td>\n",
       "    </tr>\n",
       "  </tbody>\n",
       "</table>\n",
       "</div>"
      ],
      "text/plain": [
       "  Emp_name  Age      Doamin        loc collage  CGPA  Placed\n",
       "0    Rohit   28          DS  Bangalore     HIT   8.2       1\n",
       "1    Rahul   27  Full_stack  hyderabad    NSIT   6.0       0"
      ]
     },
     "execution_count": 102,
     "metadata": {},
     "output_type": "execute_result"
    }
   ],
   "source": [
    "df.iloc[:2]"
   ]
  },
  {
   "cell_type": "code",
   "execution_count": 103,
   "id": "95d0150d",
   "metadata": {},
   "outputs": [
    {
     "data": {
      "text/html": [
       "<div>\n",
       "<style scoped>\n",
       "    .dataframe tbody tr th:only-of-type {\n",
       "        vertical-align: middle;\n",
       "    }\n",
       "\n",
       "    .dataframe tbody tr th {\n",
       "        vertical-align: top;\n",
       "    }\n",
       "\n",
       "    .dataframe thead th {\n",
       "        text-align: right;\n",
       "    }\n",
       "</style>\n",
       "<table border=\"1\" class=\"dataframe\">\n",
       "  <thead>\n",
       "    <tr style=\"text-align: right;\">\n",
       "      <th></th>\n",
       "      <th>Emp_name</th>\n",
       "      <th>Age</th>\n",
       "      <th>Doamin</th>\n",
       "      <th>loc</th>\n",
       "      <th>collage</th>\n",
       "      <th>CGPA</th>\n",
       "      <th>Placed</th>\n",
       "    </tr>\n",
       "  </thead>\n",
       "  <tbody>\n",
       "    <tr>\n",
       "      <th>4</th>\n",
       "      <td>Rajan</td>\n",
       "      <td>26</td>\n",
       "      <td>Developer</td>\n",
       "      <td>Ranchi</td>\n",
       "      <td>MIT</td>\n",
       "      <td>8.5</td>\n",
       "      <td>0</td>\n",
       "    </tr>\n",
       "    <tr>\n",
       "      <th>3</th>\n",
       "      <td>Shubham</td>\n",
       "      <td>26</td>\n",
       "      <td>DS</td>\n",
       "      <td>Tirundpuram</td>\n",
       "      <td>NIT</td>\n",
       "      <td>8.0</td>\n",
       "      <td>0</td>\n",
       "    </tr>\n",
       "    <tr>\n",
       "      <th>2</th>\n",
       "      <td>Banky</td>\n",
       "      <td>35</td>\n",
       "      <td>Education_learning_platform</td>\n",
       "      <td>Kolkata</td>\n",
       "      <td>IIT</td>\n",
       "      <td>6.5</td>\n",
       "      <td>1</td>\n",
       "    </tr>\n",
       "    <tr>\n",
       "      <th>1</th>\n",
       "      <td>Rahul</td>\n",
       "      <td>27</td>\n",
       "      <td>Full_stack</td>\n",
       "      <td>hyderabad</td>\n",
       "      <td>NSIT</td>\n",
       "      <td>6.0</td>\n",
       "      <td>0</td>\n",
       "    </tr>\n",
       "    <tr>\n",
       "      <th>0</th>\n",
       "      <td>Rohit</td>\n",
       "      <td>28</td>\n",
       "      <td>DS</td>\n",
       "      <td>Bangalore</td>\n",
       "      <td>HIT</td>\n",
       "      <td>8.2</td>\n",
       "      <td>1</td>\n",
       "    </tr>\n",
       "  </tbody>\n",
       "</table>\n",
       "</div>"
      ],
      "text/plain": [
       "  Emp_name  Age                       Doamin          loc collage  CGPA  \\\n",
       "4    Rajan   26                    Developer       Ranchi     MIT   8.5   \n",
       "3  Shubham   26                           DS  Tirundpuram     NIT   8.0   \n",
       "2    Banky   35  Education_learning_platform      Kolkata     IIT   6.5   \n",
       "1    Rahul   27                   Full_stack    hyderabad    NSIT   6.0   \n",
       "0    Rohit   28                           DS    Bangalore     HIT   8.2   \n",
       "\n",
       "   Placed  \n",
       "4       0  \n",
       "3       0  \n",
       "2       1  \n",
       "1       0  \n",
       "0       1  "
      ]
     },
     "execution_count": 103,
     "metadata": {},
     "output_type": "execute_result"
    }
   ],
   "source": [
    "df[::-1]"
   ]
  },
  {
   "cell_type": "code",
   "execution_count": 104,
   "id": "d88b1c5a",
   "metadata": {},
   "outputs": [
    {
     "data": {
      "text/html": [
       "<div>\n",
       "<style scoped>\n",
       "    .dataframe tbody tr th:only-of-type {\n",
       "        vertical-align: middle;\n",
       "    }\n",
       "\n",
       "    .dataframe tbody tr th {\n",
       "        vertical-align: top;\n",
       "    }\n",
       "\n",
       "    .dataframe thead th {\n",
       "        text-align: right;\n",
       "    }\n",
       "</style>\n",
       "<table border=\"1\" class=\"dataframe\">\n",
       "  <thead>\n",
       "    <tr style=\"text-align: right;\">\n",
       "      <th></th>\n",
       "      <th>Emp_name</th>\n",
       "      <th>Age</th>\n",
       "      <th>Doamin</th>\n",
       "      <th>loc</th>\n",
       "      <th>collage</th>\n",
       "      <th>CGPA</th>\n",
       "      <th>Placed</th>\n",
       "    </tr>\n",
       "  </thead>\n",
       "  <tbody>\n",
       "    <tr>\n",
       "      <th>4</th>\n",
       "      <td>Rajan</td>\n",
       "      <td>26</td>\n",
       "      <td>Developer</td>\n",
       "      <td>Ranchi</td>\n",
       "      <td>MIT</td>\n",
       "      <td>8.5</td>\n",
       "      <td>0</td>\n",
       "    </tr>\n",
       "    <tr>\n",
       "      <th>3</th>\n",
       "      <td>Shubham</td>\n",
       "      <td>26</td>\n",
       "      <td>DS</td>\n",
       "      <td>Tirundpuram</td>\n",
       "      <td>NIT</td>\n",
       "      <td>8.0</td>\n",
       "      <td>0</td>\n",
       "    </tr>\n",
       "    <tr>\n",
       "      <th>2</th>\n",
       "      <td>Banky</td>\n",
       "      <td>35</td>\n",
       "      <td>Education_learning_platform</td>\n",
       "      <td>Kolkata</td>\n",
       "      <td>IIT</td>\n",
       "      <td>6.5</td>\n",
       "      <td>1</td>\n",
       "    </tr>\n",
       "    <tr>\n",
       "      <th>1</th>\n",
       "      <td>Rahul</td>\n",
       "      <td>27</td>\n",
       "      <td>Full_stack</td>\n",
       "      <td>hyderabad</td>\n",
       "      <td>NSIT</td>\n",
       "      <td>6.0</td>\n",
       "      <td>0</td>\n",
       "    </tr>\n",
       "    <tr>\n",
       "      <th>0</th>\n",
       "      <td>Rohit</td>\n",
       "      <td>28</td>\n",
       "      <td>DS</td>\n",
       "      <td>Bangalore</td>\n",
       "      <td>HIT</td>\n",
       "      <td>8.2</td>\n",
       "      <td>1</td>\n",
       "    </tr>\n",
       "  </tbody>\n",
       "</table>\n",
       "</div>"
      ],
      "text/plain": [
       "  Emp_name  Age                       Doamin          loc collage  CGPA  \\\n",
       "4    Rajan   26                    Developer       Ranchi     MIT   8.5   \n",
       "3  Shubham   26                           DS  Tirundpuram     NIT   8.0   \n",
       "2    Banky   35  Education_learning_platform      Kolkata     IIT   6.5   \n",
       "1    Rahul   27                   Full_stack    hyderabad    NSIT   6.0   \n",
       "0    Rohit   28                           DS    Bangalore     HIT   8.2   \n",
       "\n",
       "   Placed  \n",
       "4       0  \n",
       "3       0  \n",
       "2       1  \n",
       "1       0  \n",
       "0       1  "
      ]
     },
     "execution_count": 104,
     "metadata": {},
     "output_type": "execute_result"
    }
   ],
   "source": [
    "df.iloc[::-1]"
   ]
  },
  {
   "cell_type": "code",
   "execution_count": 105,
   "id": "f0a64c36",
   "metadata": {},
   "outputs": [
    {
     "ename": "KeyError",
     "evalue": "'Emp_name'",
     "output_type": "error",
     "traceback": [
      "\u001b[1;31m---------------------------------------------------------------------------\u001b[0m",
      "\u001b[1;31mKeyError\u001b[0m                                  Traceback (most recent call last)",
      "\u001b[1;32m~\\AppData\\Local\\Temp\\ipykernel_18324\\3348300933.py\u001b[0m in \u001b[0;36m<module>\u001b[1;34m\u001b[0m\n\u001b[0;32m      1\u001b[0m \u001b[1;31m# DataFrame.loc gets rows (and/or columns) with particular labels.\u001b[0m\u001b[1;33m\u001b[0m\u001b[1;33m\u001b[0m\u001b[0m\n\u001b[0;32m      2\u001b[0m \u001b[1;31m# It takes input as a single label, list of arrays and slice objects with labels\u001b[0m\u001b[1;33m\u001b[0m\u001b[1;33m\u001b[0m\u001b[0m\n\u001b[1;32m----> 3\u001b[1;33m \u001b[0mdf\u001b[0m\u001b[1;33m.\u001b[0m\u001b[0mloc\u001b[0m\u001b[1;33m[\u001b[0m\u001b[1;34m\"Emp_name\"\u001b[0m\u001b[1;33m]\u001b[0m\u001b[1;33m\u001b[0m\u001b[1;33m\u001b[0m\u001b[0m\n\u001b[0m",
      "\u001b[1;32m~\\anaconda3\\lib\\site-packages\\pandas\\core\\indexing.py\u001b[0m in \u001b[0;36m__getitem__\u001b[1;34m(self, key)\u001b[0m\n\u001b[0;32m    965\u001b[0m \u001b[1;33m\u001b[0m\u001b[0m\n\u001b[0;32m    966\u001b[0m             \u001b[0mmaybe_callable\u001b[0m \u001b[1;33m=\u001b[0m \u001b[0mcom\u001b[0m\u001b[1;33m.\u001b[0m\u001b[0mapply_if_callable\u001b[0m\u001b[1;33m(\u001b[0m\u001b[0mkey\u001b[0m\u001b[1;33m,\u001b[0m \u001b[0mself\u001b[0m\u001b[1;33m.\u001b[0m\u001b[0mobj\u001b[0m\u001b[1;33m)\u001b[0m\u001b[1;33m\u001b[0m\u001b[1;33m\u001b[0m\u001b[0m\n\u001b[1;32m--> 967\u001b[1;33m             \u001b[1;32mreturn\u001b[0m \u001b[0mself\u001b[0m\u001b[1;33m.\u001b[0m\u001b[0m_getitem_axis\u001b[0m\u001b[1;33m(\u001b[0m\u001b[0mmaybe_callable\u001b[0m\u001b[1;33m,\u001b[0m \u001b[0maxis\u001b[0m\u001b[1;33m=\u001b[0m\u001b[0maxis\u001b[0m\u001b[1;33m)\u001b[0m\u001b[1;33m\u001b[0m\u001b[1;33m\u001b[0m\u001b[0m\n\u001b[0m\u001b[0;32m    968\u001b[0m \u001b[1;33m\u001b[0m\u001b[0m\n\u001b[0;32m    969\u001b[0m     \u001b[1;32mdef\u001b[0m \u001b[0m_is_scalar_access\u001b[0m\u001b[1;33m(\u001b[0m\u001b[0mself\u001b[0m\u001b[1;33m,\u001b[0m \u001b[0mkey\u001b[0m\u001b[1;33m:\u001b[0m \u001b[0mtuple\u001b[0m\u001b[1;33m)\u001b[0m\u001b[1;33m:\u001b[0m\u001b[1;33m\u001b[0m\u001b[1;33m\u001b[0m\u001b[0m\n",
      "\u001b[1;32m~\\anaconda3\\lib\\site-packages\\pandas\\core\\indexing.py\u001b[0m in \u001b[0;36m_getitem_axis\u001b[1;34m(self, key, axis)\u001b[0m\n\u001b[0;32m   1203\u001b[0m         \u001b[1;31m# fall thru to straight lookup\u001b[0m\u001b[1;33m\u001b[0m\u001b[1;33m\u001b[0m\u001b[0m\n\u001b[0;32m   1204\u001b[0m         \u001b[0mself\u001b[0m\u001b[1;33m.\u001b[0m\u001b[0m_validate_key\u001b[0m\u001b[1;33m(\u001b[0m\u001b[0mkey\u001b[0m\u001b[1;33m,\u001b[0m \u001b[0maxis\u001b[0m\u001b[1;33m)\u001b[0m\u001b[1;33m\u001b[0m\u001b[1;33m\u001b[0m\u001b[0m\n\u001b[1;32m-> 1205\u001b[1;33m         \u001b[1;32mreturn\u001b[0m \u001b[0mself\u001b[0m\u001b[1;33m.\u001b[0m\u001b[0m_get_label\u001b[0m\u001b[1;33m(\u001b[0m\u001b[0mkey\u001b[0m\u001b[1;33m,\u001b[0m \u001b[0maxis\u001b[0m\u001b[1;33m=\u001b[0m\u001b[0maxis\u001b[0m\u001b[1;33m)\u001b[0m\u001b[1;33m\u001b[0m\u001b[1;33m\u001b[0m\u001b[0m\n\u001b[0m\u001b[0;32m   1206\u001b[0m \u001b[1;33m\u001b[0m\u001b[0m\n\u001b[0;32m   1207\u001b[0m     \u001b[1;32mdef\u001b[0m \u001b[0m_get_slice_axis\u001b[0m\u001b[1;33m(\u001b[0m\u001b[0mself\u001b[0m\u001b[1;33m,\u001b[0m \u001b[0mslice_obj\u001b[0m\u001b[1;33m:\u001b[0m \u001b[0mslice\u001b[0m\u001b[1;33m,\u001b[0m \u001b[0maxis\u001b[0m\u001b[1;33m:\u001b[0m \u001b[0mint\u001b[0m\u001b[1;33m)\u001b[0m\u001b[1;33m:\u001b[0m\u001b[1;33m\u001b[0m\u001b[1;33m\u001b[0m\u001b[0m\n",
      "\u001b[1;32m~\\anaconda3\\lib\\site-packages\\pandas\\core\\indexing.py\u001b[0m in \u001b[0;36m_get_label\u001b[1;34m(self, label, axis)\u001b[0m\n\u001b[0;32m   1151\u001b[0m     \u001b[1;32mdef\u001b[0m \u001b[0m_get_label\u001b[0m\u001b[1;33m(\u001b[0m\u001b[0mself\u001b[0m\u001b[1;33m,\u001b[0m \u001b[0mlabel\u001b[0m\u001b[1;33m,\u001b[0m \u001b[0maxis\u001b[0m\u001b[1;33m:\u001b[0m \u001b[0mint\u001b[0m\u001b[1;33m)\u001b[0m\u001b[1;33m:\u001b[0m\u001b[1;33m\u001b[0m\u001b[1;33m\u001b[0m\u001b[0m\n\u001b[0;32m   1152\u001b[0m         \u001b[1;31m# GH#5667 this will fail if the label is not present in the axis.\u001b[0m\u001b[1;33m\u001b[0m\u001b[1;33m\u001b[0m\u001b[0m\n\u001b[1;32m-> 1153\u001b[1;33m         \u001b[1;32mreturn\u001b[0m \u001b[0mself\u001b[0m\u001b[1;33m.\u001b[0m\u001b[0mobj\u001b[0m\u001b[1;33m.\u001b[0m\u001b[0mxs\u001b[0m\u001b[1;33m(\u001b[0m\u001b[0mlabel\u001b[0m\u001b[1;33m,\u001b[0m \u001b[0maxis\u001b[0m\u001b[1;33m=\u001b[0m\u001b[0maxis\u001b[0m\u001b[1;33m)\u001b[0m\u001b[1;33m\u001b[0m\u001b[1;33m\u001b[0m\u001b[0m\n\u001b[0m\u001b[0;32m   1154\u001b[0m \u001b[1;33m\u001b[0m\u001b[0m\n\u001b[0;32m   1155\u001b[0m     \u001b[1;32mdef\u001b[0m \u001b[0m_handle_lowerdim_multi_index_axis0\u001b[0m\u001b[1;33m(\u001b[0m\u001b[0mself\u001b[0m\u001b[1;33m,\u001b[0m \u001b[0mtup\u001b[0m\u001b[1;33m:\u001b[0m \u001b[0mtuple\u001b[0m\u001b[1;33m)\u001b[0m\u001b[1;33m:\u001b[0m\u001b[1;33m\u001b[0m\u001b[1;33m\u001b[0m\u001b[0m\n",
      "\u001b[1;32m~\\anaconda3\\lib\\site-packages\\pandas\\core\\generic.py\u001b[0m in \u001b[0;36mxs\u001b[1;34m(self, key, axis, level, drop_level)\u001b[0m\n\u001b[0;32m   3862\u001b[0m                     \u001b[0mnew_index\u001b[0m \u001b[1;33m=\u001b[0m \u001b[0mindex\u001b[0m\u001b[1;33m[\u001b[0m\u001b[0mloc\u001b[0m\u001b[1;33m]\u001b[0m\u001b[1;33m\u001b[0m\u001b[1;33m\u001b[0m\u001b[0m\n\u001b[0;32m   3863\u001b[0m         \u001b[1;32melse\u001b[0m\u001b[1;33m:\u001b[0m\u001b[1;33m\u001b[0m\u001b[1;33m\u001b[0m\u001b[0m\n\u001b[1;32m-> 3864\u001b[1;33m             \u001b[0mloc\u001b[0m \u001b[1;33m=\u001b[0m \u001b[0mindex\u001b[0m\u001b[1;33m.\u001b[0m\u001b[0mget_loc\u001b[0m\u001b[1;33m(\u001b[0m\u001b[0mkey\u001b[0m\u001b[1;33m)\u001b[0m\u001b[1;33m\u001b[0m\u001b[1;33m\u001b[0m\u001b[0m\n\u001b[0m\u001b[0;32m   3865\u001b[0m \u001b[1;33m\u001b[0m\u001b[0m\n\u001b[0;32m   3866\u001b[0m             \u001b[1;32mif\u001b[0m \u001b[0misinstance\u001b[0m\u001b[1;33m(\u001b[0m\u001b[0mloc\u001b[0m\u001b[1;33m,\u001b[0m \u001b[0mnp\u001b[0m\u001b[1;33m.\u001b[0m\u001b[0mndarray\u001b[0m\u001b[1;33m)\u001b[0m\u001b[1;33m:\u001b[0m\u001b[1;33m\u001b[0m\u001b[1;33m\u001b[0m\u001b[0m\n",
      "\u001b[1;32m~\\anaconda3\\lib\\site-packages\\pandas\\core\\indexes\\range.py\u001b[0m in \u001b[0;36mget_loc\u001b[1;34m(self, key, method, tolerance)\u001b[0m\n\u001b[0;32m    387\u001b[0m                     \u001b[1;32mraise\u001b[0m \u001b[0mKeyError\u001b[0m\u001b[1;33m(\u001b[0m\u001b[0mkey\u001b[0m\u001b[1;33m)\u001b[0m \u001b[1;32mfrom\u001b[0m \u001b[0merr\u001b[0m\u001b[1;33m\u001b[0m\u001b[1;33m\u001b[0m\u001b[0m\n\u001b[0;32m    388\u001b[0m             \u001b[0mself\u001b[0m\u001b[1;33m.\u001b[0m\u001b[0m_check_indexing_error\u001b[0m\u001b[1;33m(\u001b[0m\u001b[0mkey\u001b[0m\u001b[1;33m)\u001b[0m\u001b[1;33m\u001b[0m\u001b[1;33m\u001b[0m\u001b[0m\n\u001b[1;32m--> 389\u001b[1;33m             \u001b[1;32mraise\u001b[0m \u001b[0mKeyError\u001b[0m\u001b[1;33m(\u001b[0m\u001b[0mkey\u001b[0m\u001b[1;33m)\u001b[0m\u001b[1;33m\u001b[0m\u001b[1;33m\u001b[0m\u001b[0m\n\u001b[0m\u001b[0;32m    390\u001b[0m         \u001b[1;32mreturn\u001b[0m \u001b[0msuper\u001b[0m\u001b[1;33m(\u001b[0m\u001b[1;33m)\u001b[0m\u001b[1;33m.\u001b[0m\u001b[0mget_loc\u001b[0m\u001b[1;33m(\u001b[0m\u001b[0mkey\u001b[0m\u001b[1;33m,\u001b[0m \u001b[0mmethod\u001b[0m\u001b[1;33m=\u001b[0m\u001b[0mmethod\u001b[0m\u001b[1;33m,\u001b[0m \u001b[0mtolerance\u001b[0m\u001b[1;33m=\u001b[0m\u001b[0mtolerance\u001b[0m\u001b[1;33m)\u001b[0m\u001b[1;33m\u001b[0m\u001b[1;33m\u001b[0m\u001b[0m\n\u001b[0;32m    391\u001b[0m \u001b[1;33m\u001b[0m\u001b[0m\n",
      "\u001b[1;31mKeyError\u001b[0m: 'Emp_name'"
     ]
    }
   ],
   "source": [
    "# DataFrame.loc gets rows (and/or columns) with particular labels. \n",
    "# It takes input as a single label, list of arrays and slice objects with labels\n",
    "df.loc[\"Emp_name\"]"
   ]
  },
  {
   "cell_type": "code",
   "execution_count": 106,
   "id": "9bafb858",
   "metadata": {},
   "outputs": [
    {
     "data": {
      "text/plain": [
       "1                     Full_stack\n",
       "2    Education_learning_platform\n",
       "3                             DS\n",
       "4                      Developer\n",
       "Name: Doamin, dtype: object"
      ]
     },
     "execution_count": 106,
     "metadata": {},
     "output_type": "execute_result"
    }
   ],
   "source": [
    "df.iloc[1:,2]"
   ]
  },
  {
   "cell_type": "code",
   "execution_count": 78,
   "id": "1095f0ae",
   "metadata": {},
   "outputs": [
    {
     "data": {
      "text/plain": [
       "b    NaN\n",
       "c    NaN\n",
       "Name: date, dtype: object"
      ]
     },
     "execution_count": 78,
     "metadata": {},
     "output_type": "execute_result"
    }
   ],
   "source": [
    "df1 = pd.DataFrame(index=['a', 'b', 'c'], columns=['time', 'date', 'name'])\n",
    "df1.loc['a']     # equivalent to df.iloc[0]\n",
    "df1.loc['b':, 'date']   # equivalent to df.iloc[1:, 1]"
   ]
  },
  {
   "cell_type": "code",
   "execution_count": 79,
   "id": "99014703",
   "metadata": {},
   "outputs": [
    {
     "data": {
      "text/html": [
       "<div>\n",
       "<style scoped>\n",
       "    .dataframe tbody tr th:only-of-type {\n",
       "        vertical-align: middle;\n",
       "    }\n",
       "\n",
       "    .dataframe tbody tr th {\n",
       "        vertical-align: top;\n",
       "    }\n",
       "\n",
       "    .dataframe thead th {\n",
       "        text-align: right;\n",
       "    }\n",
       "</style>\n",
       "<table border=\"1\" class=\"dataframe\">\n",
       "  <thead>\n",
       "    <tr style=\"text-align: right;\">\n",
       "      <th></th>\n",
       "      <th>time</th>\n",
       "      <th>date</th>\n",
       "      <th>name</th>\n",
       "    </tr>\n",
       "  </thead>\n",
       "  <tbody>\n",
       "    <tr>\n",
       "      <th>a</th>\n",
       "      <td>NaN</td>\n",
       "      <td>NaN</td>\n",
       "      <td>NaN</td>\n",
       "    </tr>\n",
       "    <tr>\n",
       "      <th>b</th>\n",
       "      <td>NaN</td>\n",
       "      <td>NaN</td>\n",
       "      <td>NaN</td>\n",
       "    </tr>\n",
       "    <tr>\n",
       "      <th>c</th>\n",
       "      <td>NaN</td>\n",
       "      <td>NaN</td>\n",
       "      <td>NaN</td>\n",
       "    </tr>\n",
       "  </tbody>\n",
       "</table>\n",
       "</div>"
      ],
      "text/plain": [
       "  time date name\n",
       "a  NaN  NaN  NaN\n",
       "b  NaN  NaN  NaN\n",
       "c  NaN  NaN  NaN"
      ]
     },
     "execution_count": 79,
     "metadata": {},
     "output_type": "execute_result"
    }
   ],
   "source": [
    "df1"
   ]
  },
  {
   "cell_type": "code",
   "execution_count": 108,
   "id": "b831b3e6",
   "metadata": {},
   "outputs": [
    {
     "data": {
      "text/html": [
       "<div>\n",
       "<style scoped>\n",
       "    .dataframe tbody tr th:only-of-type {\n",
       "        vertical-align: middle;\n",
       "    }\n",
       "\n",
       "    .dataframe tbody tr th {\n",
       "        vertical-align: top;\n",
       "    }\n",
       "\n",
       "    .dataframe thead th {\n",
       "        text-align: right;\n",
       "    }\n",
       "</style>\n",
       "<table border=\"1\" class=\"dataframe\">\n",
       "  <thead>\n",
       "    <tr style=\"text-align: right;\">\n",
       "      <th></th>\n",
       "      <th>Emp_name</th>\n",
       "      <th>Age</th>\n",
       "      <th>Doamin</th>\n",
       "      <th>loc</th>\n",
       "      <th>collage</th>\n",
       "      <th>CGPA</th>\n",
       "      <th>Placed</th>\n",
       "    </tr>\n",
       "  </thead>\n",
       "  <tbody>\n",
       "    <tr>\n",
       "      <th>0</th>\n",
       "      <td>Rohit</td>\n",
       "      <td>28</td>\n",
       "      <td>DS</td>\n",
       "      <td>Bangalore</td>\n",
       "      <td>HIT</td>\n",
       "      <td>8.2</td>\n",
       "      <td>1</td>\n",
       "    </tr>\n",
       "    <tr>\n",
       "      <th>1</th>\n",
       "      <td>Rahul</td>\n",
       "      <td>27</td>\n",
       "      <td>Full_stack</td>\n",
       "      <td>hyderabad</td>\n",
       "      <td>NSIT</td>\n",
       "      <td>6.0</td>\n",
       "      <td>0</td>\n",
       "    </tr>\n",
       "    <tr>\n",
       "      <th>2</th>\n",
       "      <td>Banky</td>\n",
       "      <td>35</td>\n",
       "      <td>Education_learning_platform</td>\n",
       "      <td>Kolkata</td>\n",
       "      <td>IIT</td>\n",
       "      <td>6.5</td>\n",
       "      <td>1</td>\n",
       "    </tr>\n",
       "    <tr>\n",
       "      <th>3</th>\n",
       "      <td>Shubham</td>\n",
       "      <td>26</td>\n",
       "      <td>DS</td>\n",
       "      <td>Tirundpuram</td>\n",
       "      <td>NIT</td>\n",
       "      <td>8.0</td>\n",
       "      <td>0</td>\n",
       "    </tr>\n",
       "    <tr>\n",
       "      <th>4</th>\n",
       "      <td>Rajan</td>\n",
       "      <td>26</td>\n",
       "      <td>Developer</td>\n",
       "      <td>Ranchi</td>\n",
       "      <td>MIT</td>\n",
       "      <td>8.5</td>\n",
       "      <td>0</td>\n",
       "    </tr>\n",
       "  </tbody>\n",
       "</table>\n",
       "</div>"
      ],
      "text/plain": [
       "  Emp_name  Age                       Doamin          loc collage  CGPA  \\\n",
       "0    Rohit   28                           DS    Bangalore     HIT   8.2   \n",
       "1    Rahul   27                   Full_stack    hyderabad    NSIT   6.0   \n",
       "2    Banky   35  Education_learning_platform      Kolkata     IIT   6.5   \n",
       "3  Shubham   26                           DS  Tirundpuram     NIT   8.0   \n",
       "4    Rajan   26                    Developer       Ranchi     MIT   8.5   \n",
       "\n",
       "   Placed  \n",
       "0       1  \n",
       "1       0  \n",
       "2       1  \n",
       "3       0  \n",
       "4       0  "
      ]
     },
     "execution_count": 108,
     "metadata": {},
     "output_type": "execute_result"
    }
   ],
   "source": [
    "df"
   ]
  },
  {
   "cell_type": "code",
   "execution_count": 114,
   "id": "5f1d98ff",
   "metadata": {},
   "outputs": [
    {
     "data": {
      "text/html": [
       "<div>\n",
       "<style scoped>\n",
       "    .dataframe tbody tr th:only-of-type {\n",
       "        vertical-align: middle;\n",
       "    }\n",
       "\n",
       "    .dataframe tbody tr th {\n",
       "        vertical-align: top;\n",
       "    }\n",
       "\n",
       "    .dataframe thead th {\n",
       "        text-align: right;\n",
       "    }\n",
       "</style>\n",
       "<table border=\"1\" class=\"dataframe\">\n",
       "  <thead>\n",
       "    <tr style=\"text-align: right;\">\n",
       "      <th></th>\n",
       "      <th>Age</th>\n",
       "      <th>Doamin</th>\n",
       "    </tr>\n",
       "  </thead>\n",
       "  <tbody>\n",
       "    <tr>\n",
       "      <th>3</th>\n",
       "      <td>26</td>\n",
       "      <td>DS</td>\n",
       "    </tr>\n",
       "    <tr>\n",
       "      <th>4</th>\n",
       "      <td>26</td>\n",
       "      <td>Developer</td>\n",
       "    </tr>\n",
       "  </tbody>\n",
       "</table>\n",
       "</div>"
      ],
      "text/plain": [
       "   Age     Doamin\n",
       "3   26         DS\n",
       "4   26  Developer"
      ]
     },
     "execution_count": 114,
     "metadata": {},
     "output_type": "execute_result"
    }
   ],
   "source": [
    "df.loc[3:,['Age','Doamin']]"
   ]
  },
  {
   "cell_type": "code",
   "execution_count": 3,
   "id": "9aedd50f",
   "metadata": {},
   "outputs": [],
   "source": [
    "# Q5: How can you sort the DataFrame?\n",
    "\n",
    "# Answer\n",
    "# The function used for sorting in pandas is called DataFrame.sort_values(). \n",
    "#It is used to sort a DataFrame by its column or row values. The function comes with a lot of parameters, but the most important ones to consider for sort are:\n",
    "\n",
    "# by: The optional by parameter is used to specify the column/row(s) which are used to determine the sorted order.\n",
    "# axis: specifies whether sort for row (0) or columns (1),\n",
    "# ascending: specifies whether to sort the dataframe in ascending or descending order. The default value is ascending. \n",
    "# To sort in descending order, we need to specify ascending=False.\n",
    "df2 = pd.DataFrame({\n",
    "    'col1': ['A', 'A', 'B', np.nan, 'D', 'C'],\n",
    "    'col2': [2, 1, 9, 8, 7, 4],\n",
    "    'col3': [0, 1, 9, 4, 2, 3],\n",
    "    'col4': ['a', 'B', 'c', 'D', 'e', 'F']\n",
    "})"
   ]
  },
  {
   "cell_type": "code",
   "execution_count": 4,
   "id": "4fb7cee6",
   "metadata": {},
   "outputs": [
    {
     "data": {
      "text/html": [
       "<div>\n",
       "<style scoped>\n",
       "    .dataframe tbody tr th:only-of-type {\n",
       "        vertical-align: middle;\n",
       "    }\n",
       "\n",
       "    .dataframe tbody tr th {\n",
       "        vertical-align: top;\n",
       "    }\n",
       "\n",
       "    .dataframe thead th {\n",
       "        text-align: right;\n",
       "    }\n",
       "</style>\n",
       "<table border=\"1\" class=\"dataframe\">\n",
       "  <thead>\n",
       "    <tr style=\"text-align: right;\">\n",
       "      <th></th>\n",
       "      <th>col1</th>\n",
       "      <th>col2</th>\n",
       "      <th>col3</th>\n",
       "      <th>col4</th>\n",
       "    </tr>\n",
       "  </thead>\n",
       "  <tbody>\n",
       "    <tr>\n",
       "      <th>0</th>\n",
       "      <td>A</td>\n",
       "      <td>2</td>\n",
       "      <td>0</td>\n",
       "      <td>a</td>\n",
       "    </tr>\n",
       "    <tr>\n",
       "      <th>1</th>\n",
       "      <td>A</td>\n",
       "      <td>1</td>\n",
       "      <td>1</td>\n",
       "      <td>B</td>\n",
       "    </tr>\n",
       "    <tr>\n",
       "      <th>2</th>\n",
       "      <td>B</td>\n",
       "      <td>9</td>\n",
       "      <td>9</td>\n",
       "      <td>c</td>\n",
       "    </tr>\n",
       "    <tr>\n",
       "      <th>3</th>\n",
       "      <td>NaN</td>\n",
       "      <td>8</td>\n",
       "      <td>4</td>\n",
       "      <td>D</td>\n",
       "    </tr>\n",
       "    <tr>\n",
       "      <th>4</th>\n",
       "      <td>D</td>\n",
       "      <td>7</td>\n",
       "      <td>2</td>\n",
       "      <td>e</td>\n",
       "    </tr>\n",
       "    <tr>\n",
       "      <th>5</th>\n",
       "      <td>C</td>\n",
       "      <td>4</td>\n",
       "      <td>3</td>\n",
       "      <td>F</td>\n",
       "    </tr>\n",
       "  </tbody>\n",
       "</table>\n",
       "</div>"
      ],
      "text/plain": [
       "  col1  col2  col3 col4\n",
       "0    A     2     0    a\n",
       "1    A     1     1    B\n",
       "2    B     9     9    c\n",
       "3  NaN     8     4    D\n",
       "4    D     7     2    e\n",
       "5    C     4     3    F"
      ]
     },
     "execution_count": 4,
     "metadata": {},
     "output_type": "execute_result"
    }
   ],
   "source": [
    "df2"
   ]
  },
  {
   "cell_type": "code",
   "execution_count": 5,
   "id": "2fd99f38",
   "metadata": {},
   "outputs": [
    {
     "data": {
      "text/html": [
       "<div>\n",
       "<style scoped>\n",
       "    .dataframe tbody tr th:only-of-type {\n",
       "        vertical-align: middle;\n",
       "    }\n",
       "\n",
       "    .dataframe tbody tr th {\n",
       "        vertical-align: top;\n",
       "    }\n",
       "\n",
       "    .dataframe thead th {\n",
       "        text-align: right;\n",
       "    }\n",
       "</style>\n",
       "<table border=\"1\" class=\"dataframe\">\n",
       "  <thead>\n",
       "    <tr style=\"text-align: right;\">\n",
       "      <th></th>\n",
       "      <th>col1</th>\n",
       "      <th>col2</th>\n",
       "      <th>col3</th>\n",
       "      <th>col4</th>\n",
       "    </tr>\n",
       "  </thead>\n",
       "  <tbody>\n",
       "    <tr>\n",
       "      <th>0</th>\n",
       "      <td>A</td>\n",
       "      <td>2</td>\n",
       "      <td>0</td>\n",
       "      <td>a</td>\n",
       "    </tr>\n",
       "    <tr>\n",
       "      <th>1</th>\n",
       "      <td>A</td>\n",
       "      <td>1</td>\n",
       "      <td>1</td>\n",
       "      <td>B</td>\n",
       "    </tr>\n",
       "    <tr>\n",
       "      <th>2</th>\n",
       "      <td>B</td>\n",
       "      <td>9</td>\n",
       "      <td>9</td>\n",
       "      <td>c</td>\n",
       "    </tr>\n",
       "    <tr>\n",
       "      <th>5</th>\n",
       "      <td>C</td>\n",
       "      <td>4</td>\n",
       "      <td>3</td>\n",
       "      <td>F</td>\n",
       "    </tr>\n",
       "    <tr>\n",
       "      <th>4</th>\n",
       "      <td>D</td>\n",
       "      <td>7</td>\n",
       "      <td>2</td>\n",
       "      <td>e</td>\n",
       "    </tr>\n",
       "    <tr>\n",
       "      <th>3</th>\n",
       "      <td>NaN</td>\n",
       "      <td>8</td>\n",
       "      <td>4</td>\n",
       "      <td>D</td>\n",
       "    </tr>\n",
       "  </tbody>\n",
       "</table>\n",
       "</div>"
      ],
      "text/plain": [
       "  col1  col2  col3 col4\n",
       "0    A     2     0    a\n",
       "1    A     1     1    B\n",
       "2    B     9     9    c\n",
       "5    C     4     3    F\n",
       "4    D     7     2    e\n",
       "3  NaN     8     4    D"
      ]
     },
     "execution_count": 5,
     "metadata": {},
     "output_type": "execute_result"
    }
   ],
   "source": [
    "df2.sort_values(by='col1')"
   ]
  },
  {
   "cell_type": "code",
   "execution_count": 6,
   "id": "eee5dc70",
   "metadata": {},
   "outputs": [
    {
     "data": {
      "text/html": [
       "<div>\n",
       "<style scoped>\n",
       "    .dataframe tbody tr th:only-of-type {\n",
       "        vertical-align: middle;\n",
       "    }\n",
       "\n",
       "    .dataframe tbody tr th {\n",
       "        vertical-align: top;\n",
       "    }\n",
       "\n",
       "    .dataframe thead th {\n",
       "        text-align: right;\n",
       "    }\n",
       "</style>\n",
       "<table border=\"1\" class=\"dataframe\">\n",
       "  <thead>\n",
       "    <tr style=\"text-align: right;\">\n",
       "      <th></th>\n",
       "      <th>col1</th>\n",
       "      <th>col2</th>\n",
       "      <th>col3</th>\n",
       "      <th>col4</th>\n",
       "    </tr>\n",
       "  </thead>\n",
       "  <tbody>\n",
       "    <tr>\n",
       "      <th>1</th>\n",
       "      <td>A</td>\n",
       "      <td>1</td>\n",
       "      <td>1</td>\n",
       "      <td>B</td>\n",
       "    </tr>\n",
       "    <tr>\n",
       "      <th>0</th>\n",
       "      <td>A</td>\n",
       "      <td>2</td>\n",
       "      <td>0</td>\n",
       "      <td>a</td>\n",
       "    </tr>\n",
       "    <tr>\n",
       "      <th>5</th>\n",
       "      <td>C</td>\n",
       "      <td>4</td>\n",
       "      <td>3</td>\n",
       "      <td>F</td>\n",
       "    </tr>\n",
       "    <tr>\n",
       "      <th>4</th>\n",
       "      <td>D</td>\n",
       "      <td>7</td>\n",
       "      <td>2</td>\n",
       "      <td>e</td>\n",
       "    </tr>\n",
       "    <tr>\n",
       "      <th>3</th>\n",
       "      <td>NaN</td>\n",
       "      <td>8</td>\n",
       "      <td>4</td>\n",
       "      <td>D</td>\n",
       "    </tr>\n",
       "    <tr>\n",
       "      <th>2</th>\n",
       "      <td>B</td>\n",
       "      <td>9</td>\n",
       "      <td>9</td>\n",
       "      <td>c</td>\n",
       "    </tr>\n",
       "  </tbody>\n",
       "</table>\n",
       "</div>"
      ],
      "text/plain": [
       "  col1  col2  col3 col4\n",
       "1    A     1     1    B\n",
       "0    A     2     0    a\n",
       "5    C     4     3    F\n",
       "4    D     7     2    e\n",
       "3  NaN     8     4    D\n",
       "2    B     9     9    c"
      ]
     },
     "execution_count": 6,
     "metadata": {},
     "output_type": "execute_result"
    }
   ],
   "source": [
    "df2.sort_values(by='col2')"
   ]
  },
  {
   "cell_type": "code",
   "execution_count": 7,
   "id": "00ff240a",
   "metadata": {},
   "outputs": [
    {
     "data": {
      "text/html": [
       "<div>\n",
       "<style scoped>\n",
       "    .dataframe tbody tr th:only-of-type {\n",
       "        vertical-align: middle;\n",
       "    }\n",
       "\n",
       "    .dataframe tbody tr th {\n",
       "        vertical-align: top;\n",
       "    }\n",
       "\n",
       "    .dataframe thead th {\n",
       "        text-align: right;\n",
       "    }\n",
       "</style>\n",
       "<table border=\"1\" class=\"dataframe\">\n",
       "  <thead>\n",
       "    <tr style=\"text-align: right;\">\n",
       "      <th></th>\n",
       "      <th>col1</th>\n",
       "      <th>col2</th>\n",
       "      <th>col3</th>\n",
       "      <th>col4</th>\n",
       "    </tr>\n",
       "  </thead>\n",
       "  <tbody>\n",
       "    <tr>\n",
       "      <th>0</th>\n",
       "      <td>A</td>\n",
       "      <td>2</td>\n",
       "      <td>0</td>\n",
       "      <td>a</td>\n",
       "    </tr>\n",
       "    <tr>\n",
       "      <th>1</th>\n",
       "      <td>A</td>\n",
       "      <td>1</td>\n",
       "      <td>1</td>\n",
       "      <td>B</td>\n",
       "    </tr>\n",
       "    <tr>\n",
       "      <th>4</th>\n",
       "      <td>D</td>\n",
       "      <td>7</td>\n",
       "      <td>2</td>\n",
       "      <td>e</td>\n",
       "    </tr>\n",
       "    <tr>\n",
       "      <th>5</th>\n",
       "      <td>C</td>\n",
       "      <td>4</td>\n",
       "      <td>3</td>\n",
       "      <td>F</td>\n",
       "    </tr>\n",
       "    <tr>\n",
       "      <th>3</th>\n",
       "      <td>NaN</td>\n",
       "      <td>8</td>\n",
       "      <td>4</td>\n",
       "      <td>D</td>\n",
       "    </tr>\n",
       "    <tr>\n",
       "      <th>2</th>\n",
       "      <td>B</td>\n",
       "      <td>9</td>\n",
       "      <td>9</td>\n",
       "      <td>c</td>\n",
       "    </tr>\n",
       "  </tbody>\n",
       "</table>\n",
       "</div>"
      ],
      "text/plain": [
       "  col1  col2  col3 col4\n",
       "0    A     2     0    a\n",
       "1    A     1     1    B\n",
       "4    D     7     2    e\n",
       "5    C     4     3    F\n",
       "3  NaN     8     4    D\n",
       "2    B     9     9    c"
      ]
     },
     "execution_count": 7,
     "metadata": {},
     "output_type": "execute_result"
    }
   ],
   "source": [
    "df2.sort_values(by='col3')"
   ]
  },
  {
   "cell_type": "code",
   "execution_count": 15,
   "id": "56f0f34f",
   "metadata": {},
   "outputs": [
    {
     "data": {
      "text/html": [
       "<div>\n",
       "<style scoped>\n",
       "    .dataframe tbody tr th:only-of-type {\n",
       "        vertical-align: middle;\n",
       "    }\n",
       "\n",
       "    .dataframe tbody tr th {\n",
       "        vertical-align: top;\n",
       "    }\n",
       "\n",
       "    .dataframe thead th {\n",
       "        text-align: right;\n",
       "    }\n",
       "</style>\n",
       "<table border=\"1\" class=\"dataframe\">\n",
       "  <thead>\n",
       "    <tr style=\"text-align: right;\">\n",
       "      <th></th>\n",
       "      <th>col1</th>\n",
       "      <th>col2</th>\n",
       "      <th>col3</th>\n",
       "      <th>col4</th>\n",
       "    </tr>\n",
       "  </thead>\n",
       "  <tbody>\n",
       "    <tr>\n",
       "      <th>5</th>\n",
       "      <td>C</td>\n",
       "      <td>4</td>\n",
       "      <td>3</td>\n",
       "      <td>F</td>\n",
       "    </tr>\n",
       "    <tr>\n",
       "      <th>4</th>\n",
       "      <td>D</td>\n",
       "      <td>7</td>\n",
       "      <td>2</td>\n",
       "      <td>e</td>\n",
       "    </tr>\n",
       "    <tr>\n",
       "      <th>3</th>\n",
       "      <td>NaN</td>\n",
       "      <td>8</td>\n",
       "      <td>4</td>\n",
       "      <td>D</td>\n",
       "    </tr>\n",
       "    <tr>\n",
       "      <th>2</th>\n",
       "      <td>B</td>\n",
       "      <td>9</td>\n",
       "      <td>9</td>\n",
       "      <td>c</td>\n",
       "    </tr>\n",
       "    <tr>\n",
       "      <th>1</th>\n",
       "      <td>A</td>\n",
       "      <td>1</td>\n",
       "      <td>1</td>\n",
       "      <td>B</td>\n",
       "    </tr>\n",
       "    <tr>\n",
       "      <th>0</th>\n",
       "      <td>A</td>\n",
       "      <td>2</td>\n",
       "      <td>0</td>\n",
       "      <td>a</td>\n",
       "    </tr>\n",
       "  </tbody>\n",
       "</table>\n",
       "</div>"
      ],
      "text/plain": [
       "  col1  col2  col3 col4\n",
       "5    C     4     3    F\n",
       "4    D     7     2    e\n",
       "3  NaN     8     4    D\n",
       "2    B     9     9    c\n",
       "1    A     1     1    B\n",
       "0    A     2     0    a"
      ]
     },
     "execution_count": 15,
     "metadata": {},
     "output_type": "execute_result"
    }
   ],
   "source": [
    "df2.sort_index(ascending=False)"
   ]
  },
  {
   "cell_type": "code",
   "execution_count": 8,
   "id": "85e671f7",
   "metadata": {},
   "outputs": [
    {
     "data": {
      "text/html": [
       "<div>\n",
       "<style scoped>\n",
       "    .dataframe tbody tr th:only-of-type {\n",
       "        vertical-align: middle;\n",
       "    }\n",
       "\n",
       "    .dataframe tbody tr th {\n",
       "        vertical-align: top;\n",
       "    }\n",
       "\n",
       "    .dataframe thead th {\n",
       "        text-align: right;\n",
       "    }\n",
       "</style>\n",
       "<table border=\"1\" class=\"dataframe\">\n",
       "  <thead>\n",
       "    <tr style=\"text-align: right;\">\n",
       "      <th></th>\n",
       "      <th>col1</th>\n",
       "      <th>col2</th>\n",
       "      <th>col3</th>\n",
       "      <th>col4</th>\n",
       "    </tr>\n",
       "  </thead>\n",
       "  <tbody>\n",
       "    <tr>\n",
       "      <th>4</th>\n",
       "      <td>D</td>\n",
       "      <td>7</td>\n",
       "      <td>2</td>\n",
       "      <td>e</td>\n",
       "    </tr>\n",
       "    <tr>\n",
       "      <th>5</th>\n",
       "      <td>C</td>\n",
       "      <td>4</td>\n",
       "      <td>3</td>\n",
       "      <td>F</td>\n",
       "    </tr>\n",
       "    <tr>\n",
       "      <th>2</th>\n",
       "      <td>B</td>\n",
       "      <td>9</td>\n",
       "      <td>9</td>\n",
       "      <td>c</td>\n",
       "    </tr>\n",
       "    <tr>\n",
       "      <th>0</th>\n",
       "      <td>A</td>\n",
       "      <td>2</td>\n",
       "      <td>0</td>\n",
       "      <td>a</td>\n",
       "    </tr>\n",
       "    <tr>\n",
       "      <th>1</th>\n",
       "      <td>A</td>\n",
       "      <td>1</td>\n",
       "      <td>1</td>\n",
       "      <td>B</td>\n",
       "    </tr>\n",
       "    <tr>\n",
       "      <th>3</th>\n",
       "      <td>NaN</td>\n",
       "      <td>8</td>\n",
       "      <td>4</td>\n",
       "      <td>D</td>\n",
       "    </tr>\n",
       "  </tbody>\n",
       "</table>\n",
       "</div>"
      ],
      "text/plain": [
       "  col1  col2  col3 col4\n",
       "4    D     7     2    e\n",
       "5    C     4     3    F\n",
       "2    B     9     9    c\n",
       "0    A     2     0    a\n",
       "1    A     1     1    B\n",
       "3  NaN     8     4    D"
      ]
     },
     "execution_count": 8,
     "metadata": {},
     "output_type": "execute_result"
    }
   ],
   "source": [
    "df2.sort_values(by=['col1','col2'],axis=0,ascending=False)"
   ]
  },
  {
   "cell_type": "code",
   "execution_count": 135,
   "id": "a9b0ed25",
   "metadata": {},
   "outputs": [],
   "source": [
    "# Q6: How can you find the row for which the value of a specific column is max or min?\n",
    "df3 = pd.DataFrame(np.random.randn(5,3),columns=['A','B','C'])"
   ]
  },
  {
   "cell_type": "code",
   "execution_count": 136,
   "id": "a132e31b",
   "metadata": {},
   "outputs": [
    {
     "data": {
      "text/html": [
       "<div>\n",
       "<style scoped>\n",
       "    .dataframe tbody tr th:only-of-type {\n",
       "        vertical-align: middle;\n",
       "    }\n",
       "\n",
       "    .dataframe tbody tr th {\n",
       "        vertical-align: top;\n",
       "    }\n",
       "\n",
       "    .dataframe thead th {\n",
       "        text-align: right;\n",
       "    }\n",
       "</style>\n",
       "<table border=\"1\" class=\"dataframe\">\n",
       "  <thead>\n",
       "    <tr style=\"text-align: right;\">\n",
       "      <th></th>\n",
       "      <th>A</th>\n",
       "      <th>B</th>\n",
       "      <th>C</th>\n",
       "    </tr>\n",
       "  </thead>\n",
       "  <tbody>\n",
       "    <tr>\n",
       "      <th>0</th>\n",
       "      <td>-0.708354</td>\n",
       "      <td>0.768231</td>\n",
       "      <td>-0.696266</td>\n",
       "    </tr>\n",
       "    <tr>\n",
       "      <th>1</th>\n",
       "      <td>1.291009</td>\n",
       "      <td>-1.037035</td>\n",
       "      <td>-0.459210</td>\n",
       "    </tr>\n",
       "    <tr>\n",
       "      <th>2</th>\n",
       "      <td>0.449618</td>\n",
       "      <td>-0.656581</td>\n",
       "      <td>0.264301</td>\n",
       "    </tr>\n",
       "    <tr>\n",
       "      <th>3</th>\n",
       "      <td>1.573516</td>\n",
       "      <td>-0.597045</td>\n",
       "      <td>-1.413227</td>\n",
       "    </tr>\n",
       "    <tr>\n",
       "      <th>4</th>\n",
       "      <td>1.556019</td>\n",
       "      <td>1.054133</td>\n",
       "      <td>0.625519</td>\n",
       "    </tr>\n",
       "  </tbody>\n",
       "</table>\n",
       "</div>"
      ],
      "text/plain": [
       "          A         B         C\n",
       "0 -0.708354  0.768231 -0.696266\n",
       "1  1.291009 -1.037035 -0.459210\n",
       "2  0.449618 -0.656581  0.264301\n",
       "3  1.573516 -0.597045 -1.413227\n",
       "4  1.556019  1.054133  0.625519"
      ]
     },
     "execution_count": 136,
     "metadata": {},
     "output_type": "execute_result"
    }
   ],
   "source": [
    "df3"
   ]
  },
  {
   "cell_type": "code",
   "execution_count": 140,
   "id": "5af7961e",
   "metadata": {},
   "outputs": [
    {
     "data": {
      "text/plain": [
       "1.5735163944919723"
      ]
     },
     "execution_count": 140,
     "metadata": {},
     "output_type": "execute_result"
    }
   ],
   "source": [
    "df3['A'].max()"
   ]
  },
  {
   "cell_type": "code",
   "execution_count": 142,
   "id": "a045cdbe",
   "metadata": {},
   "outputs": [
    {
     "data": {
      "text/plain": [
       "3"
      ]
     },
     "execution_count": 142,
     "metadata": {},
     "output_type": "execute_result"
    }
   ],
   "source": [
    "df3['A'].idxmax()"
   ]
  },
  {
   "cell_type": "code",
   "execution_count": 143,
   "id": "25252229",
   "metadata": {},
   "outputs": [
    {
     "data": {
      "text/plain": [
       "-0.7083538812777412"
      ]
     },
     "execution_count": 143,
     "metadata": {},
     "output_type": "execute_result"
    }
   ],
   "source": [
    "df3['A'].min()"
   ]
  },
  {
   "cell_type": "code",
   "execution_count": 145,
   "id": "18c5a800",
   "metadata": {},
   "outputs": [
    {
     "data": {
      "text/plain": [
       "0"
      ]
     },
     "execution_count": 145,
     "metadata": {},
     "output_type": "execute_result"
    }
   ],
   "source": [
    "df3['A'].idxmin()"
   ]
  },
  {
   "cell_type": "code",
   "execution_count": 11,
   "id": "cfdfb447",
   "metadata": {},
   "outputs": [],
   "source": [
    "import numpy as np \n",
    "import pandas as pd\n",
    "df4 = pd.DataFrame(np.random.randint(0,100,size=(5,5)),columns=[\"A\",\"B\",\"C\",\"D\",\"E\"])\n",
    "#df3 = pd.DataFrame(np.random.randn(5,3),columns=['A','B','C'])"
   ]
  },
  {
   "cell_type": "code",
   "execution_count": 124,
   "id": "f06c9ccb",
   "metadata": {},
   "outputs": [],
   "source": [
    "df3 = pd.DataFrame(np.random.randn(5,3),columns=['A','B','C'])"
   ]
  },
  {
   "cell_type": "code",
   "execution_count": 12,
   "id": "98bb3435",
   "metadata": {},
   "outputs": [
    {
     "data": {
      "text/html": [
       "<div>\n",
       "<style scoped>\n",
       "    .dataframe tbody tr th:only-of-type {\n",
       "        vertical-align: middle;\n",
       "    }\n",
       "\n",
       "    .dataframe tbody tr th {\n",
       "        vertical-align: top;\n",
       "    }\n",
       "\n",
       "    .dataframe thead th {\n",
       "        text-align: right;\n",
       "    }\n",
       "</style>\n",
       "<table border=\"1\" class=\"dataframe\">\n",
       "  <thead>\n",
       "    <tr style=\"text-align: right;\">\n",
       "      <th></th>\n",
       "      <th>A</th>\n",
       "      <th>B</th>\n",
       "      <th>C</th>\n",
       "      <th>D</th>\n",
       "      <th>E</th>\n",
       "    </tr>\n",
       "  </thead>\n",
       "  <tbody>\n",
       "    <tr>\n",
       "      <th>0</th>\n",
       "      <td>8</td>\n",
       "      <td>98</td>\n",
       "      <td>35</td>\n",
       "      <td>21</td>\n",
       "      <td>93</td>\n",
       "    </tr>\n",
       "    <tr>\n",
       "      <th>1</th>\n",
       "      <td>89</td>\n",
       "      <td>98</td>\n",
       "      <td>71</td>\n",
       "      <td>38</td>\n",
       "      <td>78</td>\n",
       "    </tr>\n",
       "    <tr>\n",
       "      <th>2</th>\n",
       "      <td>45</td>\n",
       "      <td>46</td>\n",
       "      <td>59</td>\n",
       "      <td>99</td>\n",
       "      <td>99</td>\n",
       "    </tr>\n",
       "    <tr>\n",
       "      <th>3</th>\n",
       "      <td>1</td>\n",
       "      <td>27</td>\n",
       "      <td>93</td>\n",
       "      <td>70</td>\n",
       "      <td>88</td>\n",
       "    </tr>\n",
       "    <tr>\n",
       "      <th>4</th>\n",
       "      <td>74</td>\n",
       "      <td>76</td>\n",
       "      <td>70</td>\n",
       "      <td>41</td>\n",
       "      <td>68</td>\n",
       "    </tr>\n",
       "  </tbody>\n",
       "</table>\n",
       "</div>"
      ],
      "text/plain": [
       "    A   B   C   D   E\n",
       "0   8  98  35  21  93\n",
       "1  89  98  71  38  78\n",
       "2  45  46  59  99  99\n",
       "3   1  27  93  70  88\n",
       "4  74  76  70  41  68"
      ]
     },
     "execution_count": 12,
     "metadata": {},
     "output_type": "execute_result"
    }
   ],
   "source": [
    "df4"
   ]
  },
  {
   "cell_type": "code",
   "execution_count": 129,
   "id": "f5d3769a",
   "metadata": {},
   "outputs": [],
   "source": [
    "df3 = pd.DataFrame(np.random.randn(5,3),columns=['A','B','C'])"
   ]
  },
  {
   "cell_type": "code",
   "execution_count": 130,
   "id": "124ac11d",
   "metadata": {},
   "outputs": [
    {
     "data": {
      "text/html": [
       "<div>\n",
       "<style scoped>\n",
       "    .dataframe tbody tr th:only-of-type {\n",
       "        vertical-align: middle;\n",
       "    }\n",
       "\n",
       "    .dataframe tbody tr th {\n",
       "        vertical-align: top;\n",
       "    }\n",
       "\n",
       "    .dataframe thead th {\n",
       "        text-align: right;\n",
       "    }\n",
       "</style>\n",
       "<table border=\"1\" class=\"dataframe\">\n",
       "  <thead>\n",
       "    <tr style=\"text-align: right;\">\n",
       "      <th></th>\n",
       "      <th>A</th>\n",
       "      <th>B</th>\n",
       "      <th>C</th>\n",
       "    </tr>\n",
       "  </thead>\n",
       "  <tbody>\n",
       "    <tr>\n",
       "      <th>0</th>\n",
       "      <td>0.990867</td>\n",
       "      <td>0.291369</td>\n",
       "      <td>2.078430</td>\n",
       "    </tr>\n",
       "    <tr>\n",
       "      <th>1</th>\n",
       "      <td>0.268768</td>\n",
       "      <td>-2.242290</td>\n",
       "      <td>-1.320094</td>\n",
       "    </tr>\n",
       "    <tr>\n",
       "      <th>2</th>\n",
       "      <td>-0.719582</td>\n",
       "      <td>1.539525</td>\n",
       "      <td>-0.550680</td>\n",
       "    </tr>\n",
       "    <tr>\n",
       "      <th>3</th>\n",
       "      <td>-1.401853</td>\n",
       "      <td>0.590366</td>\n",
       "      <td>1.315605</td>\n",
       "    </tr>\n",
       "    <tr>\n",
       "      <th>4</th>\n",
       "      <td>0.208241</td>\n",
       "      <td>0.245617</td>\n",
       "      <td>1.129830</td>\n",
       "    </tr>\n",
       "  </tbody>\n",
       "</table>\n",
       "</div>"
      ],
      "text/plain": [
       "          A         B         C\n",
       "0  0.990867  0.291369  2.078430\n",
       "1  0.268768 -2.242290 -1.320094\n",
       "2 -0.719582  1.539525 -0.550680\n",
       "3 -1.401853  0.590366  1.315605\n",
       "4  0.208241  0.245617  1.129830"
      ]
     },
     "execution_count": 130,
     "metadata": {},
     "output_type": "execute_result"
    }
   ],
   "source": [
    "df3"
   ]
  },
  {
   "cell_type": "code",
   "execution_count": 133,
   "id": "e6e151e7",
   "metadata": {},
   "outputs": [],
   "source": [
    "data = np.random.rand(5,3)"
   ]
  },
  {
   "cell_type": "code",
   "execution_count": 134,
   "id": "62846099",
   "metadata": {},
   "outputs": [
    {
     "data": {
      "text/plain": [
       "array([[0.49816334, 0.54399449, 0.93510773],\n",
       "       [0.64125874, 0.58172941, 0.26994467],\n",
       "       [0.88439783, 0.51022427, 0.68238162],\n",
       "       [0.66519965, 0.02111223, 0.37415099],\n",
       "       [0.57234434, 0.0726302 , 0.11765021]])"
      ]
     },
     "execution_count": 134,
     "metadata": {},
     "output_type": "execute_result"
    }
   ],
   "source": [
    "data"
   ]
  },
  {
   "cell_type": "code",
   "execution_count": 135,
   "id": "79fe5eb8",
   "metadata": {},
   "outputs": [],
   "source": [
    "data = np.random.randint(1,10,size=(3,3))"
   ]
  },
  {
   "cell_type": "code",
   "execution_count": 136,
   "id": "3c587486",
   "metadata": {},
   "outputs": [
    {
     "data": {
      "text/plain": [
       "array([[5, 2, 1],\n",
       "       [3, 7, 2],\n",
       "       [8, 7, 9]])"
      ]
     },
     "execution_count": 136,
     "metadata": {},
     "output_type": "execute_result"
    }
   ],
   "source": [
    "data"
   ]
  },
  {
   "cell_type": "code",
   "execution_count": 14,
   "id": "dd6f0053",
   "metadata": {},
   "outputs": [],
   "source": [
    "# Q7: How can you get a list of Pandas DataFrame columns based on data type?\n",
    "df5 = pd.DataFrame({'NAME': list('abcdef'),\n",
    "        'On_Time': [True, False] * 3,\n",
    "        'On_Budget': [False, True] * 3})\n"
   ]
  },
  {
   "cell_type": "code",
   "execution_count": 15,
   "id": "467a3329",
   "metadata": {},
   "outputs": [
    {
     "data": {
      "text/html": [
       "<div>\n",
       "<style scoped>\n",
       "    .dataframe tbody tr th:only-of-type {\n",
       "        vertical-align: middle;\n",
       "    }\n",
       "\n",
       "    .dataframe tbody tr th {\n",
       "        vertical-align: top;\n",
       "    }\n",
       "\n",
       "    .dataframe thead th {\n",
       "        text-align: right;\n",
       "    }\n",
       "</style>\n",
       "<table border=\"1\" class=\"dataframe\">\n",
       "  <thead>\n",
       "    <tr style=\"text-align: right;\">\n",
       "      <th></th>\n",
       "      <th>NAME</th>\n",
       "      <th>On_Time</th>\n",
       "      <th>On_Budget</th>\n",
       "    </tr>\n",
       "  </thead>\n",
       "  <tbody>\n",
       "    <tr>\n",
       "      <th>0</th>\n",
       "      <td>a</td>\n",
       "      <td>True</td>\n",
       "      <td>False</td>\n",
       "    </tr>\n",
       "    <tr>\n",
       "      <th>1</th>\n",
       "      <td>b</td>\n",
       "      <td>False</td>\n",
       "      <td>True</td>\n",
       "    </tr>\n",
       "    <tr>\n",
       "      <th>2</th>\n",
       "      <td>c</td>\n",
       "      <td>True</td>\n",
       "      <td>False</td>\n",
       "    </tr>\n",
       "    <tr>\n",
       "      <th>3</th>\n",
       "      <td>d</td>\n",
       "      <td>False</td>\n",
       "      <td>True</td>\n",
       "    </tr>\n",
       "    <tr>\n",
       "      <th>4</th>\n",
       "      <td>e</td>\n",
       "      <td>True</td>\n",
       "      <td>False</td>\n",
       "    </tr>\n",
       "    <tr>\n",
       "      <th>5</th>\n",
       "      <td>f</td>\n",
       "      <td>False</td>\n",
       "      <td>True</td>\n",
       "    </tr>\n",
       "  </tbody>\n",
       "</table>\n",
       "</div>"
      ],
      "text/plain": [
       "  NAME  On_Time  On_Budget\n",
       "0    a     True      False\n",
       "1    b    False       True\n",
       "2    c     True      False\n",
       "3    d    False       True\n",
       "4    e     True      False\n",
       "5    f    False       True"
      ]
     },
     "execution_count": 15,
     "metadata": {},
     "output_type": "execute_result"
    }
   ],
   "source": [
    "df5"
   ]
  },
  {
   "cell_type": "code",
   "execution_count": 18,
   "id": "f564f5fc",
   "metadata": {},
   "outputs": [
    {
     "data": {
      "text/html": [
       "<div>\n",
       "<style scoped>\n",
       "    .dataframe tbody tr th:only-of-type {\n",
       "        vertical-align: middle;\n",
       "    }\n",
       "\n",
       "    .dataframe tbody tr th {\n",
       "        vertical-align: top;\n",
       "    }\n",
       "\n",
       "    .dataframe thead th {\n",
       "        text-align: right;\n",
       "    }\n",
       "</style>\n",
       "<table border=\"1\" class=\"dataframe\">\n",
       "  <thead>\n",
       "    <tr style=\"text-align: right;\">\n",
       "      <th></th>\n",
       "      <th>On_Time</th>\n",
       "      <th>On_Budget</th>\n",
       "    </tr>\n",
       "  </thead>\n",
       "  <tbody>\n",
       "    <tr>\n",
       "      <th>0</th>\n",
       "      <td>True</td>\n",
       "      <td>False</td>\n",
       "    </tr>\n",
       "    <tr>\n",
       "      <th>1</th>\n",
       "      <td>False</td>\n",
       "      <td>True</td>\n",
       "    </tr>\n",
       "    <tr>\n",
       "      <th>2</th>\n",
       "      <td>True</td>\n",
       "      <td>False</td>\n",
       "    </tr>\n",
       "    <tr>\n",
       "      <th>3</th>\n",
       "      <td>False</td>\n",
       "      <td>True</td>\n",
       "    </tr>\n",
       "    <tr>\n",
       "      <th>4</th>\n",
       "      <td>True</td>\n",
       "      <td>False</td>\n",
       "    </tr>\n",
       "    <tr>\n",
       "      <th>5</th>\n",
       "      <td>False</td>\n",
       "      <td>True</td>\n",
       "    </tr>\n",
       "  </tbody>\n",
       "</table>\n",
       "</div>"
      ],
      "text/plain": [
       "   On_Time  On_Budget\n",
       "0     True      False\n",
       "1    False       True\n",
       "2     True      False\n",
       "3    False       True\n",
       "4     True      False\n",
       "5    False       True"
      ]
     },
     "execution_count": 18,
     "metadata": {},
     "output_type": "execute_result"
    }
   ],
   "source": [
    "df.select_dtypes(include=['bool'])"
   ]
  },
  {
   "cell_type": "code",
   "execution_count": 19,
   "id": "8b92daf3",
   "metadata": {},
   "outputs": [],
   "source": [
    "col_list = list(df.select_dtypes(include=['bool']).columns)"
   ]
  },
  {
   "cell_type": "code",
   "execution_count": 20,
   "id": "81a28f6a",
   "metadata": {},
   "outputs": [
    {
     "data": {
      "text/plain": [
       "['On_Time', 'On_Budget']"
      ]
     },
     "execution_count": 20,
     "metadata": {},
     "output_type": "execute_result"
    }
   ],
   "source": [
    "col_list"
   ]
  },
  {
   "cell_type": "markdown",
   "id": "5c202584",
   "metadata": {},
   "source": [
    "# Let’s summarize the difference between the two structures in a table:\n",
    "\n",
    "        Pandas Series\t                                                Pandas DataFrame\n",
    "        \n",
    "        One-dimensional   \t                                             Two-dimensional\n",
    "        Homogenous – Series elements must be of the same data type.\t   Heterogenous – DataFrame elements can have different                                                                        data types.\n",
    "        Size-immutable – Once created, the size of a \n",
    "        Series object cannot be changed.\t                              Size-mutable – Elements can be                                                                                     dropped or added in an existing DataFrame."
   ]
  },
  {
   "cell_type": "code",
   "execution_count": 16,
   "id": "1b452164",
   "metadata": {},
   "outputs": [
    {
     "name": "stderr",
     "output_type": "stream",
     "text": [
      "C:\\Users\\rairo\\AppData\\Local\\Temp\\ipykernel_3388\\3537988570.py:2: FutureWarning: The default dtype for empty Series will be 'object' instead of 'float64' in a future version. Specify a dtype explicitly to silence this warning.\n",
      "  series = pd.Series(data=None,index=None,dtype=None,name=None)\n"
     ]
    }
   ],
   "source": [
    "import pandas  as pd \n",
    "series = pd.Series(data=None,index=None,dtype=None,name=None)"
   ]
  },
  {
   "cell_type": "code",
   "execution_count": 22,
   "id": "ef962c3a",
   "metadata": {},
   "outputs": [],
   "source": [
    "# creatng a series from dict \n",
    "my_dict = {\"Mon\":13,\"Tue\":14,\"Wed\":15,\"Thu\":16,\"Fri\":17,\"Sat\":18,\"Sun\":19}\n",
    "series1 = pd.Series(data=my_dict,name=\"series_data\")"
   ]
  },
  {
   "cell_type": "code",
   "execution_count": 23,
   "id": "583f987a",
   "metadata": {},
   "outputs": [
    {
     "data": {
      "text/plain": [
       "Mon    13\n",
       "Tue    14\n",
       "Wed    15\n",
       "Thu    16\n",
       "Fri    17\n",
       "Sat    18\n",
       "Sun    19\n",
       "Name: series_data, dtype: int64"
      ]
     },
     "execution_count": 23,
     "metadata": {},
     "output_type": "execute_result"
    }
   ],
   "source": [
    "series1"
   ]
  },
  {
   "cell_type": "code",
   "execution_count": 41,
   "id": "5ea6c7c5",
   "metadata": {},
   "outputs": [],
   "source": [
    "#Creating a Series from ndarray\n",
    "rand_data = np.random.randn(10)\n",
    "series2 = pd.Series(data=rand_data,index=['one',\"two\",\"three\",\"four\",\"five\",\"six\",\"seven\",\"eight\",\"nine\",\"ten\"],\n",
    "                   name=\"new_series\")"
   ]
  },
  {
   "cell_type": "code",
   "execution_count": 42,
   "id": "4e496210",
   "metadata": {},
   "outputs": [
    {
     "data": {
      "text/plain": [
       "one      1.172511\n",
       "two     -1.314901\n",
       "three    0.958467\n",
       "four    -0.026358\n",
       "five     1.193498\n",
       "six     -0.445991\n",
       "seven    0.385997\n",
       "eight   -1.924809\n",
       "nine    -0.161892\n",
       "ten      0.224626\n",
       "Name: new_series, dtype: float64"
      ]
     },
     "execution_count": 42,
     "metadata": {},
     "output_type": "execute_result"
    }
   ],
   "source": [
    "series2"
   ]
  },
  {
   "cell_type": "code",
   "execution_count": 44,
   "id": "3b2fab3a",
   "metadata": {},
   "outputs": [],
   "source": [
    "series3 = pd.Series(data=8.9,index=['one',\"two\",\"three\",\"four\",\"five\",\"six\",\"seven\",\"eight\",\"nine\",\"ten\"],\n",
    "                   name=\"new_series\")"
   ]
  },
  {
   "cell_type": "code",
   "execution_count": 45,
   "id": "9d9f5ac8",
   "metadata": {},
   "outputs": [
    {
     "data": {
      "text/plain": [
       "one      8.9\n",
       "two      8.9\n",
       "three    8.9\n",
       "four     8.9\n",
       "five     8.9\n",
       "six      8.9\n",
       "seven    8.9\n",
       "eight    8.9\n",
       "nine     8.9\n",
       "ten      8.9\n",
       "Name: new_series, dtype: float64"
      ]
     },
     "execution_count": 45,
     "metadata": {},
     "output_type": "execute_result"
    }
   ],
   "source": [
    "series3"
   ]
  },
  {
   "cell_type": "markdown",
   "id": "fe39c5b3",
   "metadata": {},
   "source": [
    "# Q8 How does the groupby() method works in Pandas?\n",
    "Q8: How does the groupby() method works in Pandas?\n",
    "\n",
    "Answer\n",
    "In the first stage of the process, data contained in a pandas object, whether a Series, DataFrame, or otherwise, is split into groups based on one or more keys that we provide.\n",
    "\n",
    "The splitting is performed on a particular axis of an object. For example, a DataFrame can be grouped on its rows (axis=0) or its columns (axis=1).\n",
    "\n",
    "Once this is done, a function is applied to each group, producing a new value. Finally, the results of all those function applications are combined into a result object. The form of the resulting object will usually depend on what's being done to the data.\n",
    "\n",
    "In the figure below, this process is illustrated for a simple group aggregation.\n",
    "\n",
    "<img src =\"https://user-images.githubusercontent.com/53355899/144045594-1a5c3f78-4250-4ed8-9de3-ca3689fe08bf.png\">"
   ]
  },
  {
   "cell_type": "code",
   "execution_count": 45,
   "id": "b3da8fe0",
   "metadata": {},
   "outputs": [],
   "source": [
    "data = {\"Team\":[\"India\",\"India\",\"Australlia\",\"Australlia\",\"SA\",\"SA\",\"SA\",\"SA\",\"NZ\",\"NZ\",\"NZ\",\"India\"],\n",
    "        \"Rank\":[2,3,1,2,3,4,1,1,2,4,1,2],\n",
    "        \"Year\":[2014,2015,2014,2015,2014,2015,2016,2017,2016,2014,2015,2017],\n",
    "        \"point\":[876,801,891,815,776,781,834,824,758,651,881,782]\n",
    "       }\n",
    "df = pd.DataFrame(data)"
   ]
  },
  {
   "cell_type": "code",
   "execution_count": 26,
   "id": "1ed33b7d",
   "metadata": {},
   "outputs": [
    {
     "data": {
      "text/html": [
       "<div>\n",
       "<style scoped>\n",
       "    .dataframe tbody tr th:only-of-type {\n",
       "        vertical-align: middle;\n",
       "    }\n",
       "\n",
       "    .dataframe tbody tr th {\n",
       "        vertical-align: top;\n",
       "    }\n",
       "\n",
       "    .dataframe thead th {\n",
       "        text-align: right;\n",
       "    }\n",
       "</style>\n",
       "<table border=\"1\" class=\"dataframe\">\n",
       "  <thead>\n",
       "    <tr style=\"text-align: right;\">\n",
       "      <th></th>\n",
       "      <th>Team</th>\n",
       "      <th>Rank</th>\n",
       "      <th>Year</th>\n",
       "      <th>point</th>\n",
       "    </tr>\n",
       "  </thead>\n",
       "  <tbody>\n",
       "    <tr>\n",
       "      <th>0</th>\n",
       "      <td>India</td>\n",
       "      <td>2</td>\n",
       "      <td>2014</td>\n",
       "      <td>876</td>\n",
       "    </tr>\n",
       "    <tr>\n",
       "      <th>1</th>\n",
       "      <td>India</td>\n",
       "      <td>3</td>\n",
       "      <td>2015</td>\n",
       "      <td>801</td>\n",
       "    </tr>\n",
       "    <tr>\n",
       "      <th>2</th>\n",
       "      <td>Australlia</td>\n",
       "      <td>1</td>\n",
       "      <td>2014</td>\n",
       "      <td>891</td>\n",
       "    </tr>\n",
       "    <tr>\n",
       "      <th>3</th>\n",
       "      <td>Australlia</td>\n",
       "      <td>2</td>\n",
       "      <td>2015</td>\n",
       "      <td>815</td>\n",
       "    </tr>\n",
       "    <tr>\n",
       "      <th>4</th>\n",
       "      <td>SA</td>\n",
       "      <td>3</td>\n",
       "      <td>2014</td>\n",
       "      <td>776</td>\n",
       "    </tr>\n",
       "    <tr>\n",
       "      <th>5</th>\n",
       "      <td>SA</td>\n",
       "      <td>4</td>\n",
       "      <td>2015</td>\n",
       "      <td>781</td>\n",
       "    </tr>\n",
       "    <tr>\n",
       "      <th>6</th>\n",
       "      <td>SA</td>\n",
       "      <td>1</td>\n",
       "      <td>2016</td>\n",
       "      <td>834</td>\n",
       "    </tr>\n",
       "    <tr>\n",
       "      <th>7</th>\n",
       "      <td>SA</td>\n",
       "      <td>1</td>\n",
       "      <td>2017</td>\n",
       "      <td>824</td>\n",
       "    </tr>\n",
       "    <tr>\n",
       "      <th>8</th>\n",
       "      <td>NZ</td>\n",
       "      <td>2</td>\n",
       "      <td>2016</td>\n",
       "      <td>758</td>\n",
       "    </tr>\n",
       "    <tr>\n",
       "      <th>9</th>\n",
       "      <td>NZ</td>\n",
       "      <td>4</td>\n",
       "      <td>2014</td>\n",
       "      <td>651</td>\n",
       "    </tr>\n",
       "    <tr>\n",
       "      <th>10</th>\n",
       "      <td>NZ</td>\n",
       "      <td>1</td>\n",
       "      <td>2015</td>\n",
       "      <td>881</td>\n",
       "    </tr>\n",
       "    <tr>\n",
       "      <th>11</th>\n",
       "      <td>India</td>\n",
       "      <td>2</td>\n",
       "      <td>2017</td>\n",
       "      <td>782</td>\n",
       "    </tr>\n",
       "  </tbody>\n",
       "</table>\n",
       "</div>"
      ],
      "text/plain": [
       "          Team  Rank  Year  point\n",
       "0        India     2  2014    876\n",
       "1        India     3  2015    801\n",
       "2   Australlia     1  2014    891\n",
       "3   Australlia     2  2015    815\n",
       "4           SA     3  2014    776\n",
       "5           SA     4  2015    781\n",
       "6           SA     1  2016    834\n",
       "7           SA     1  2017    824\n",
       "8           NZ     2  2016    758\n",
       "9           NZ     4  2014    651\n",
       "10          NZ     1  2015    881\n",
       "11       India     2  2017    782"
      ]
     },
     "execution_count": 26,
     "metadata": {},
     "output_type": "execute_result"
    }
   ],
   "source": [
    "df"
   ]
  },
  {
   "cell_type": "code",
   "execution_count": 27,
   "id": "458a3955",
   "metadata": {},
   "outputs": [
    {
     "data": {
      "text/html": [
       "<div>\n",
       "<style scoped>\n",
       "    .dataframe tbody tr th:only-of-type {\n",
       "        vertical-align: middle;\n",
       "    }\n",
       "\n",
       "    .dataframe tbody tr th {\n",
       "        vertical-align: top;\n",
       "    }\n",
       "\n",
       "    .dataframe thead th {\n",
       "        text-align: right;\n",
       "    }\n",
       "</style>\n",
       "<table border=\"1\" class=\"dataframe\">\n",
       "  <thead>\n",
       "    <tr style=\"text-align: right;\">\n",
       "      <th></th>\n",
       "      <th>Team</th>\n",
       "      <th>Rank</th>\n",
       "      <th>Year</th>\n",
       "      <th>point</th>\n",
       "    </tr>\n",
       "  </thead>\n",
       "  <tbody>\n",
       "    <tr>\n",
       "      <th>2</th>\n",
       "      <td>Australlia</td>\n",
       "      <td>1</td>\n",
       "      <td>2014</td>\n",
       "      <td>891</td>\n",
       "    </tr>\n",
       "    <tr>\n",
       "      <th>3</th>\n",
       "      <td>Australlia</td>\n",
       "      <td>2</td>\n",
       "      <td>2015</td>\n",
       "      <td>815</td>\n",
       "    </tr>\n",
       "    <tr>\n",
       "      <th>0</th>\n",
       "      <td>India</td>\n",
       "      <td>2</td>\n",
       "      <td>2014</td>\n",
       "      <td>876</td>\n",
       "    </tr>\n",
       "    <tr>\n",
       "      <th>1</th>\n",
       "      <td>India</td>\n",
       "      <td>3</td>\n",
       "      <td>2015</td>\n",
       "      <td>801</td>\n",
       "    </tr>\n",
       "    <tr>\n",
       "      <th>11</th>\n",
       "      <td>India</td>\n",
       "      <td>2</td>\n",
       "      <td>2017</td>\n",
       "      <td>782</td>\n",
       "    </tr>\n",
       "    <tr>\n",
       "      <th>8</th>\n",
       "      <td>NZ</td>\n",
       "      <td>2</td>\n",
       "      <td>2016</td>\n",
       "      <td>758</td>\n",
       "    </tr>\n",
       "    <tr>\n",
       "      <th>9</th>\n",
       "      <td>NZ</td>\n",
       "      <td>4</td>\n",
       "      <td>2014</td>\n",
       "      <td>651</td>\n",
       "    </tr>\n",
       "    <tr>\n",
       "      <th>10</th>\n",
       "      <td>NZ</td>\n",
       "      <td>1</td>\n",
       "      <td>2015</td>\n",
       "      <td>881</td>\n",
       "    </tr>\n",
       "    <tr>\n",
       "      <th>4</th>\n",
       "      <td>SA</td>\n",
       "      <td>3</td>\n",
       "      <td>2014</td>\n",
       "      <td>776</td>\n",
       "    </tr>\n",
       "    <tr>\n",
       "      <th>5</th>\n",
       "      <td>SA</td>\n",
       "      <td>4</td>\n",
       "      <td>2015</td>\n",
       "      <td>781</td>\n",
       "    </tr>\n",
       "    <tr>\n",
       "      <th>6</th>\n",
       "      <td>SA</td>\n",
       "      <td>1</td>\n",
       "      <td>2016</td>\n",
       "      <td>834</td>\n",
       "    </tr>\n",
       "    <tr>\n",
       "      <th>7</th>\n",
       "      <td>SA</td>\n",
       "      <td>1</td>\n",
       "      <td>2017</td>\n",
       "      <td>824</td>\n",
       "    </tr>\n",
       "  </tbody>\n",
       "</table>\n",
       "</div>"
      ],
      "text/plain": [
       "          Team  Rank  Year  point\n",
       "2   Australlia     1  2014    891\n",
       "3   Australlia     2  2015    815\n",
       "0        India     2  2014    876\n",
       "1        India     3  2015    801\n",
       "11       India     2  2017    782\n",
       "8           NZ     2  2016    758\n",
       "9           NZ     4  2014    651\n",
       "10          NZ     1  2015    881\n",
       "4           SA     3  2014    776\n",
       "5           SA     4  2015    781\n",
       "6           SA     1  2016    834\n",
       "7           SA     1  2017    824"
      ]
     },
     "execution_count": 27,
     "metadata": {},
     "output_type": "execute_result"
    }
   ],
   "source": [
    "df.sort_values(by=\"Team\")"
   ]
  },
  {
   "cell_type": "code",
   "execution_count": 28,
   "id": "720cfed9",
   "metadata": {},
   "outputs": [
    {
     "data": {
      "text/html": [
       "<div>\n",
       "<style scoped>\n",
       "    .dataframe tbody tr th:only-of-type {\n",
       "        vertical-align: middle;\n",
       "    }\n",
       "\n",
       "    .dataframe tbody tr th {\n",
       "        vertical-align: top;\n",
       "    }\n",
       "\n",
       "    .dataframe thead th {\n",
       "        text-align: right;\n",
       "    }\n",
       "</style>\n",
       "<table border=\"1\" class=\"dataframe\">\n",
       "  <thead>\n",
       "    <tr style=\"text-align: right;\">\n",
       "      <th></th>\n",
       "      <th>Team</th>\n",
       "      <th>Rank</th>\n",
       "      <th>Year</th>\n",
       "      <th>point</th>\n",
       "    </tr>\n",
       "  </thead>\n",
       "  <tbody>\n",
       "    <tr>\n",
       "      <th>0</th>\n",
       "      <td>India</td>\n",
       "      <td>2</td>\n",
       "      <td>2014</td>\n",
       "      <td>876</td>\n",
       "    </tr>\n",
       "    <tr>\n",
       "      <th>2</th>\n",
       "      <td>Australlia</td>\n",
       "      <td>1</td>\n",
       "      <td>2014</td>\n",
       "      <td>891</td>\n",
       "    </tr>\n",
       "    <tr>\n",
       "      <th>4</th>\n",
       "      <td>SA</td>\n",
       "      <td>3</td>\n",
       "      <td>2014</td>\n",
       "      <td>776</td>\n",
       "    </tr>\n",
       "    <tr>\n",
       "      <th>9</th>\n",
       "      <td>NZ</td>\n",
       "      <td>4</td>\n",
       "      <td>2014</td>\n",
       "      <td>651</td>\n",
       "    </tr>\n",
       "    <tr>\n",
       "      <th>1</th>\n",
       "      <td>India</td>\n",
       "      <td>3</td>\n",
       "      <td>2015</td>\n",
       "      <td>801</td>\n",
       "    </tr>\n",
       "    <tr>\n",
       "      <th>3</th>\n",
       "      <td>Australlia</td>\n",
       "      <td>2</td>\n",
       "      <td>2015</td>\n",
       "      <td>815</td>\n",
       "    </tr>\n",
       "    <tr>\n",
       "      <th>5</th>\n",
       "      <td>SA</td>\n",
       "      <td>4</td>\n",
       "      <td>2015</td>\n",
       "      <td>781</td>\n",
       "    </tr>\n",
       "    <tr>\n",
       "      <th>10</th>\n",
       "      <td>NZ</td>\n",
       "      <td>1</td>\n",
       "      <td>2015</td>\n",
       "      <td>881</td>\n",
       "    </tr>\n",
       "    <tr>\n",
       "      <th>6</th>\n",
       "      <td>SA</td>\n",
       "      <td>1</td>\n",
       "      <td>2016</td>\n",
       "      <td>834</td>\n",
       "    </tr>\n",
       "    <tr>\n",
       "      <th>8</th>\n",
       "      <td>NZ</td>\n",
       "      <td>2</td>\n",
       "      <td>2016</td>\n",
       "      <td>758</td>\n",
       "    </tr>\n",
       "    <tr>\n",
       "      <th>7</th>\n",
       "      <td>SA</td>\n",
       "      <td>1</td>\n",
       "      <td>2017</td>\n",
       "      <td>824</td>\n",
       "    </tr>\n",
       "    <tr>\n",
       "      <th>11</th>\n",
       "      <td>India</td>\n",
       "      <td>2</td>\n",
       "      <td>2017</td>\n",
       "      <td>782</td>\n",
       "    </tr>\n",
       "  </tbody>\n",
       "</table>\n",
       "</div>"
      ],
      "text/plain": [
       "          Team  Rank  Year  point\n",
       "0        India     2  2014    876\n",
       "2   Australlia     1  2014    891\n",
       "4           SA     3  2014    776\n",
       "9           NZ     4  2014    651\n",
       "1        India     3  2015    801\n",
       "3   Australlia     2  2015    815\n",
       "5           SA     4  2015    781\n",
       "10          NZ     1  2015    881\n",
       "6           SA     1  2016    834\n",
       "8           NZ     2  2016    758\n",
       "7           SA     1  2017    824\n",
       "11       India     2  2017    782"
      ]
     },
     "execution_count": 28,
     "metadata": {},
     "output_type": "execute_result"
    }
   ],
   "source": [
    "df.sort_values(by=\"Year\")"
   ]
  },
  {
   "cell_type": "code",
   "execution_count": 29,
   "id": "24092202",
   "metadata": {
    "scrolled": true
   },
   "outputs": [
    {
     "data": {
      "text/html": [
       "<div>\n",
       "<style scoped>\n",
       "    .dataframe tbody tr th:only-of-type {\n",
       "        vertical-align: middle;\n",
       "    }\n",
       "\n",
       "    .dataframe tbody tr th {\n",
       "        vertical-align: top;\n",
       "    }\n",
       "\n",
       "    .dataframe thead th {\n",
       "        text-align: right;\n",
       "    }\n",
       "</style>\n",
       "<table border=\"1\" class=\"dataframe\">\n",
       "  <thead>\n",
       "    <tr style=\"text-align: right;\">\n",
       "      <th></th>\n",
       "      <th>Team</th>\n",
       "      <th>Rank</th>\n",
       "      <th>Year</th>\n",
       "      <th>point</th>\n",
       "    </tr>\n",
       "  </thead>\n",
       "  <tbody>\n",
       "    <tr>\n",
       "      <th>2</th>\n",
       "      <td>Australlia</td>\n",
       "      <td>1</td>\n",
       "      <td>2014</td>\n",
       "      <td>891</td>\n",
       "    </tr>\n",
       "    <tr>\n",
       "      <th>3</th>\n",
       "      <td>Australlia</td>\n",
       "      <td>2</td>\n",
       "      <td>2015</td>\n",
       "      <td>815</td>\n",
       "    </tr>\n",
       "    <tr>\n",
       "      <th>0</th>\n",
       "      <td>India</td>\n",
       "      <td>2</td>\n",
       "      <td>2014</td>\n",
       "      <td>876</td>\n",
       "    </tr>\n",
       "    <tr>\n",
       "      <th>1</th>\n",
       "      <td>India</td>\n",
       "      <td>3</td>\n",
       "      <td>2015</td>\n",
       "      <td>801</td>\n",
       "    </tr>\n",
       "    <tr>\n",
       "      <th>11</th>\n",
       "      <td>India</td>\n",
       "      <td>2</td>\n",
       "      <td>2017</td>\n",
       "      <td>782</td>\n",
       "    </tr>\n",
       "    <tr>\n",
       "      <th>9</th>\n",
       "      <td>NZ</td>\n",
       "      <td>4</td>\n",
       "      <td>2014</td>\n",
       "      <td>651</td>\n",
       "    </tr>\n",
       "    <tr>\n",
       "      <th>10</th>\n",
       "      <td>NZ</td>\n",
       "      <td>1</td>\n",
       "      <td>2015</td>\n",
       "      <td>881</td>\n",
       "    </tr>\n",
       "    <tr>\n",
       "      <th>8</th>\n",
       "      <td>NZ</td>\n",
       "      <td>2</td>\n",
       "      <td>2016</td>\n",
       "      <td>758</td>\n",
       "    </tr>\n",
       "    <tr>\n",
       "      <th>4</th>\n",
       "      <td>SA</td>\n",
       "      <td>3</td>\n",
       "      <td>2014</td>\n",
       "      <td>776</td>\n",
       "    </tr>\n",
       "    <tr>\n",
       "      <th>5</th>\n",
       "      <td>SA</td>\n",
       "      <td>4</td>\n",
       "      <td>2015</td>\n",
       "      <td>781</td>\n",
       "    </tr>\n",
       "    <tr>\n",
       "      <th>6</th>\n",
       "      <td>SA</td>\n",
       "      <td>1</td>\n",
       "      <td>2016</td>\n",
       "      <td>834</td>\n",
       "    </tr>\n",
       "    <tr>\n",
       "      <th>7</th>\n",
       "      <td>SA</td>\n",
       "      <td>1</td>\n",
       "      <td>2017</td>\n",
       "      <td>824</td>\n",
       "    </tr>\n",
       "  </tbody>\n",
       "</table>\n",
       "</div>"
      ],
      "text/plain": [
       "          Team  Rank  Year  point\n",
       "2   Australlia     1  2014    891\n",
       "3   Australlia     2  2015    815\n",
       "0        India     2  2014    876\n",
       "1        India     3  2015    801\n",
       "11       India     2  2017    782\n",
       "9           NZ     4  2014    651\n",
       "10          NZ     1  2015    881\n",
       "8           NZ     2  2016    758\n",
       "4           SA     3  2014    776\n",
       "5           SA     4  2015    781\n",
       "6           SA     1  2016    834\n",
       "7           SA     1  2017    824"
      ]
     },
     "execution_count": 29,
     "metadata": {},
     "output_type": "execute_result"
    }
   ],
   "source": [
    "df.sort_values(by=[\"Team\",\"Year\"])"
   ]
  },
  {
   "cell_type": "markdown",
   "id": "a5f0a24c",
   "metadata": {},
   "source": [
    "# ways to split the data using group by \n",
    "\n",
    "1 : df.groupby(\"key\")\n",
    "\n",
    "2: df.groupby([key1,key2,key3])\n",
    "\n",
    "3: df.groupby([key,axis])\n"
   ]
  },
  {
   "cell_type": "code",
   "execution_count": 34,
   "id": "b88cc8f0",
   "metadata": {},
   "outputs": [
    {
     "data": {
      "text/plain": [
       "<pandas.core.groupby.generic.DataFrameGroupBy object at 0x000001960CC6B460>"
      ]
     },
     "execution_count": 34,
     "metadata": {},
     "output_type": "execute_result"
    }
   ],
   "source": [
    "df.groupby(\"Team\")"
   ]
  },
  {
   "cell_type": "code",
   "execution_count": 31,
   "id": "af8c2e88",
   "metadata": {},
   "outputs": [],
   "source": [
    "res = df.groupby(\"Team\")"
   ]
  },
  {
   "cell_type": "code",
   "execution_count": 33,
   "id": "a1ef39d1",
   "metadata": {},
   "outputs": [
    {
     "name": "stdout",
     "output_type": "stream",
     "text": [
      "('Australlia',          Team  Rank  Year  point\n",
      "2  Australlia     1  2014    891\n",
      "3  Australlia     2  2015    815)\n",
      "\n",
      "\n",
      "('India',      Team  Rank  Year  point\n",
      "0   India     2  2014    876\n",
      "1   India     3  2015    801\n",
      "11  India     2  2017    782)\n",
      "\n",
      "\n",
      "('NZ',    Team  Rank  Year  point\n",
      "8    NZ     2  2016    758\n",
      "9    NZ     4  2014    651\n",
      "10   NZ     1  2015    881)\n",
      "\n",
      "\n",
      "('SA',   Team  Rank  Year  point\n",
      "4   SA     3  2014    776\n",
      "5   SA     4  2015    781\n",
      "6   SA     1  2016    834\n",
      "7   SA     1  2017    824)\n",
      "\n",
      "\n"
     ]
    }
   ],
   "source": [
    "for i in res:\n",
    "    print(i)\n",
    "    print(\"\\n\")"
   ]
  },
  {
   "cell_type": "code",
   "execution_count": 64,
   "id": "729b8aac",
   "metadata": {},
   "outputs": [
    {
     "data": {
      "text/plain": [
       "{'Australlia': [2, 3], 'India': [0, 1, 11], 'NZ': [8, 9, 10], 'SA': [4, 5, 6, 7]}"
      ]
     },
     "execution_count": 64,
     "metadata": {},
     "output_type": "execute_result"
    }
   ],
   "source": [
    "df.groupby(\"Team\")\n",
    "\n",
    "#ouptu is pandas object \n",
    "#to view the output we can use groups\n",
    "df.groupby(\"Team\").groups"
   ]
  },
  {
   "cell_type": "code",
   "execution_count": 66,
   "id": "f5a917eb",
   "metadata": {},
   "outputs": [
    {
     "data": {
      "text/html": [
       "<div>\n",
       "<style scoped>\n",
       "    .dataframe tbody tr th:only-of-type {\n",
       "        vertical-align: middle;\n",
       "    }\n",
       "\n",
       "    .dataframe tbody tr th {\n",
       "        vertical-align: top;\n",
       "    }\n",
       "\n",
       "    .dataframe thead th {\n",
       "        text-align: right;\n",
       "    }\n",
       "</style>\n",
       "<table border=\"1\" class=\"dataframe\">\n",
       "  <thead>\n",
       "    <tr style=\"text-align: right;\">\n",
       "      <th></th>\n",
       "      <th>Team</th>\n",
       "      <th>Rank</th>\n",
       "      <th>Year</th>\n",
       "      <th>point</th>\n",
       "    </tr>\n",
       "  </thead>\n",
       "  <tbody>\n",
       "    <tr>\n",
       "      <th>2</th>\n",
       "      <td>Australlia</td>\n",
       "      <td>1</td>\n",
       "      <td>2014</td>\n",
       "      <td>891</td>\n",
       "    </tr>\n",
       "    <tr>\n",
       "      <th>3</th>\n",
       "      <td>Australlia</td>\n",
       "      <td>2</td>\n",
       "      <td>2015</td>\n",
       "      <td>815</td>\n",
       "    </tr>\n",
       "  </tbody>\n",
       "</table>\n",
       "</div>"
      ],
      "text/plain": [
       "         Team  Rank  Year  point\n",
       "2  Australlia     1  2014    891\n",
       "3  Australlia     2  2015    815"
      ]
     },
     "execution_count": 66,
     "metadata": {},
     "output_type": "execute_result"
    }
   ],
   "source": [
    "df.groupby(\"Team\").get_group('Australlia')"
   ]
  },
  {
   "cell_type": "code",
   "execution_count": 67,
   "id": "3efb326e",
   "metadata": {},
   "outputs": [
    {
     "data": {
      "text/html": [
       "<div>\n",
       "<style scoped>\n",
       "    .dataframe tbody tr th:only-of-type {\n",
       "        vertical-align: middle;\n",
       "    }\n",
       "\n",
       "    .dataframe tbody tr th {\n",
       "        vertical-align: top;\n",
       "    }\n",
       "\n",
       "    .dataframe thead th {\n",
       "        text-align: right;\n",
       "    }\n",
       "</style>\n",
       "<table border=\"1\" class=\"dataframe\">\n",
       "  <thead>\n",
       "    <tr style=\"text-align: right;\">\n",
       "      <th></th>\n",
       "      <th>Team</th>\n",
       "      <th>Rank</th>\n",
       "      <th>Year</th>\n",
       "      <th>point</th>\n",
       "    </tr>\n",
       "  </thead>\n",
       "  <tbody>\n",
       "    <tr>\n",
       "      <th>0</th>\n",
       "      <td>India</td>\n",
       "      <td>2</td>\n",
       "      <td>2014</td>\n",
       "      <td>876</td>\n",
       "    </tr>\n",
       "    <tr>\n",
       "      <th>1</th>\n",
       "      <td>India</td>\n",
       "      <td>3</td>\n",
       "      <td>2015</td>\n",
       "      <td>801</td>\n",
       "    </tr>\n",
       "    <tr>\n",
       "      <th>11</th>\n",
       "      <td>India</td>\n",
       "      <td>2</td>\n",
       "      <td>2017</td>\n",
       "      <td>782</td>\n",
       "    </tr>\n",
       "  </tbody>\n",
       "</table>\n",
       "</div>"
      ],
      "text/plain": [
       "     Team  Rank  Year  point\n",
       "0   India     2  2014    876\n",
       "1   India     3  2015    801\n",
       "11  India     2  2017    782"
      ]
     },
     "execution_count": 67,
     "metadata": {},
     "output_type": "execute_result"
    }
   ],
   "source": [
    "df.groupby(\"Team\").get_group('India')"
   ]
  },
  {
   "cell_type": "code",
   "execution_count": 68,
   "id": "4526dda3",
   "metadata": {},
   "outputs": [
    {
     "data": {
      "text/html": [
       "<div>\n",
       "<style scoped>\n",
       "    .dataframe tbody tr th:only-of-type {\n",
       "        vertical-align: middle;\n",
       "    }\n",
       "\n",
       "    .dataframe tbody tr th {\n",
       "        vertical-align: top;\n",
       "    }\n",
       "\n",
       "    .dataframe thead th {\n",
       "        text-align: right;\n",
       "    }\n",
       "</style>\n",
       "<table border=\"1\" class=\"dataframe\">\n",
       "  <thead>\n",
       "    <tr style=\"text-align: right;\">\n",
       "      <th></th>\n",
       "      <th>Team</th>\n",
       "      <th>Rank</th>\n",
       "      <th>Year</th>\n",
       "      <th>point</th>\n",
       "    </tr>\n",
       "  </thead>\n",
       "  <tbody>\n",
       "    <tr>\n",
       "      <th>4</th>\n",
       "      <td>SA</td>\n",
       "      <td>3</td>\n",
       "      <td>2014</td>\n",
       "      <td>776</td>\n",
       "    </tr>\n",
       "    <tr>\n",
       "      <th>5</th>\n",
       "      <td>SA</td>\n",
       "      <td>4</td>\n",
       "      <td>2015</td>\n",
       "      <td>781</td>\n",
       "    </tr>\n",
       "    <tr>\n",
       "      <th>6</th>\n",
       "      <td>SA</td>\n",
       "      <td>1</td>\n",
       "      <td>2016</td>\n",
       "      <td>834</td>\n",
       "    </tr>\n",
       "    <tr>\n",
       "      <th>7</th>\n",
       "      <td>SA</td>\n",
       "      <td>1</td>\n",
       "      <td>2017</td>\n",
       "      <td>824</td>\n",
       "    </tr>\n",
       "  </tbody>\n",
       "</table>\n",
       "</div>"
      ],
      "text/plain": [
       "  Team  Rank  Year  point\n",
       "4   SA     3  2014    776\n",
       "5   SA     4  2015    781\n",
       "6   SA     1  2016    834\n",
       "7   SA     1  2017    824"
      ]
     },
     "execution_count": 68,
     "metadata": {},
     "output_type": "execute_result"
    }
   ],
   "source": [
    "df.groupby(\"Team\").get_group('SA')"
   ]
  },
  {
   "cell_type": "code",
   "execution_count": 69,
   "id": "c6a893ec",
   "metadata": {},
   "outputs": [
    {
     "data": {
      "text/html": [
       "<div>\n",
       "<style scoped>\n",
       "    .dataframe tbody tr th:only-of-type {\n",
       "        vertical-align: middle;\n",
       "    }\n",
       "\n",
       "    .dataframe tbody tr th {\n",
       "        vertical-align: top;\n",
       "    }\n",
       "\n",
       "    .dataframe thead th {\n",
       "        text-align: right;\n",
       "    }\n",
       "</style>\n",
       "<table border=\"1\" class=\"dataframe\">\n",
       "  <thead>\n",
       "    <tr style=\"text-align: right;\">\n",
       "      <th></th>\n",
       "      <th>Team</th>\n",
       "      <th>Rank</th>\n",
       "      <th>Year</th>\n",
       "      <th>point</th>\n",
       "    </tr>\n",
       "  </thead>\n",
       "  <tbody>\n",
       "    <tr>\n",
       "      <th>8</th>\n",
       "      <td>NZ</td>\n",
       "      <td>2</td>\n",
       "      <td>2016</td>\n",
       "      <td>758</td>\n",
       "    </tr>\n",
       "    <tr>\n",
       "      <th>9</th>\n",
       "      <td>NZ</td>\n",
       "      <td>4</td>\n",
       "      <td>2014</td>\n",
       "      <td>651</td>\n",
       "    </tr>\n",
       "    <tr>\n",
       "      <th>10</th>\n",
       "      <td>NZ</td>\n",
       "      <td>1</td>\n",
       "      <td>2015</td>\n",
       "      <td>881</td>\n",
       "    </tr>\n",
       "  </tbody>\n",
       "</table>\n",
       "</div>"
      ],
      "text/plain": [
       "   Team  Rank  Year  point\n",
       "8    NZ     2  2016    758\n",
       "9    NZ     4  2014    651\n",
       "10   NZ     1  2015    881"
      ]
     },
     "execution_count": 69,
     "metadata": {},
     "output_type": "execute_result"
    }
   ],
   "source": [
    "df.groupby(\"Team\").get_group('NZ')"
   ]
  },
  {
   "cell_type": "code",
   "execution_count": 70,
   "id": "b1bdff84",
   "metadata": {},
   "outputs": [
    {
     "data": {
      "text/plain": [
       "{('Australlia', 2014): [2], ('Australlia', 2015): [3], ('India', 2014): [0], ('India', 2015): [1], ('India', 2017): [11], ('NZ', 2014): [9], ('NZ', 2015): [10], ('NZ', 2016): [8], ('SA', 2014): [4], ('SA', 2015): [5], ('SA', 2016): [6], ('SA', 2017): [7]}"
      ]
     },
     "execution_count": 70,
     "metadata": {},
     "output_type": "execute_result"
    }
   ],
   "source": [
    "df.groupby(['Team','Year']).groups"
   ]
  },
  {
   "cell_type": "code",
   "execution_count": 76,
   "id": "d7f86f21",
   "metadata": {},
   "outputs": [
    {
     "data": {
      "text/html": [
       "<div>\n",
       "<style scoped>\n",
       "    .dataframe tbody tr th:only-of-type {\n",
       "        vertical-align: middle;\n",
       "    }\n",
       "\n",
       "    .dataframe tbody tr th {\n",
       "        vertical-align: top;\n",
       "    }\n",
       "\n",
       "    .dataframe thead th {\n",
       "        text-align: right;\n",
       "    }\n",
       "</style>\n",
       "<table border=\"1\" class=\"dataframe\">\n",
       "  <thead>\n",
       "    <tr style=\"text-align: right;\">\n",
       "      <th></th>\n",
       "      <th>Team</th>\n",
       "      <th>Rank</th>\n",
       "      <th>Year</th>\n",
       "      <th>point</th>\n",
       "    </tr>\n",
       "  </thead>\n",
       "  <tbody>\n",
       "    <tr>\n",
       "      <th>2</th>\n",
       "      <td>Australlia</td>\n",
       "      <td>1</td>\n",
       "      <td>2014</td>\n",
       "      <td>891</td>\n",
       "    </tr>\n",
       "  </tbody>\n",
       "</table>\n",
       "</div>"
      ],
      "text/plain": [
       "         Team  Rank  Year  point\n",
       "2  Australlia     1  2014    891"
      ]
     },
     "execution_count": 76,
     "metadata": {},
     "output_type": "execute_result"
    }
   ],
   "source": [
    "df.groupby(['Team','Year']).get_group(('Australlia',2014))"
   ]
  },
  {
   "cell_type": "code",
   "execution_count": 78,
   "id": "4c00dfe7",
   "metadata": {},
   "outputs": [
    {
     "name": "stdout",
     "output_type": "stream",
     "text": [
      "2014\n",
      "         Team  Rank  Year  point\n",
      "0       India     2  2014    876\n",
      "2  Australlia     1  2014    891\n",
      "4          SA     3  2014    776\n",
      "9          NZ     4  2014    651\n",
      "2015\n",
      "          Team  Rank  Year  point\n",
      "1        India     3  2015    801\n",
      "3   Australlia     2  2015    815\n",
      "5           SA     4  2015    781\n",
      "10          NZ     1  2015    881\n",
      "2016\n",
      "  Team  Rank  Year  point\n",
      "6   SA     1  2016    834\n",
      "8   NZ     2  2016    758\n",
      "2017\n",
      "     Team  Rank  Year  point\n",
      "7      SA     1  2017    824\n",
      "11  India     2  2017    782\n"
     ]
    }
   ],
   "source": [
    "# Iterating over groupby\n",
    "grp = df.groupby(\"Year\")\n",
    "for key,val in grp:\n",
    "    print(key)\n",
    "    print(val)"
   ]
  },
  {
   "cell_type": "code",
   "execution_count": 79,
   "id": "b3423e88",
   "metadata": {},
   "outputs": [
    {
     "name": "stdout",
     "output_type": "stream",
     "text": [
      "Australlia\n",
      "         Team  Rank  Year  point\n",
      "2  Australlia     1  2014    891\n",
      "3  Australlia     2  2015    815\n",
      "India\n",
      "     Team  Rank  Year  point\n",
      "0   India     2  2014    876\n",
      "1   India     3  2015    801\n",
      "11  India     2  2017    782\n",
      "NZ\n",
      "   Team  Rank  Year  point\n",
      "8    NZ     2  2016    758\n",
      "9    NZ     4  2014    651\n",
      "10   NZ     1  2015    881\n",
      "SA\n",
      "  Team  Rank  Year  point\n",
      "4   SA     3  2014    776\n",
      "5   SA     4  2015    781\n",
      "6   SA     1  2016    834\n",
      "7   SA     1  2017    824\n"
     ]
    }
   ],
   "source": [
    "# Iterating over groupby\n",
    "grp = df.groupby(\"Team\")\n",
    "for key,val in grp:\n",
    "    print(key)\n",
    "    print(val)"
   ]
  },
  {
   "cell_type": "code",
   "execution_count": 80,
   "id": "40a5294d",
   "metadata": {},
   "outputs": [
    {
     "data": {
      "text/html": [
       "<div>\n",
       "<style scoped>\n",
       "    .dataframe tbody tr th:only-of-type {\n",
       "        vertical-align: middle;\n",
       "    }\n",
       "\n",
       "    .dataframe tbody tr th {\n",
       "        vertical-align: top;\n",
       "    }\n",
       "\n",
       "    .dataframe thead th {\n",
       "        text-align: right;\n",
       "    }\n",
       "</style>\n",
       "<table border=\"1\" class=\"dataframe\">\n",
       "  <thead>\n",
       "    <tr style=\"text-align: right;\">\n",
       "      <th></th>\n",
       "      <th>Rank</th>\n",
       "      <th>Year</th>\n",
       "      <th>point</th>\n",
       "    </tr>\n",
       "    <tr>\n",
       "      <th>Team</th>\n",
       "      <th></th>\n",
       "      <th></th>\n",
       "      <th></th>\n",
       "    </tr>\n",
       "  </thead>\n",
       "  <tbody>\n",
       "    <tr>\n",
       "      <th>Australlia</th>\n",
       "      <td>2</td>\n",
       "      <td>2</td>\n",
       "      <td>2</td>\n",
       "    </tr>\n",
       "    <tr>\n",
       "      <th>India</th>\n",
       "      <td>3</td>\n",
       "      <td>3</td>\n",
       "      <td>3</td>\n",
       "    </tr>\n",
       "    <tr>\n",
       "      <th>NZ</th>\n",
       "      <td>3</td>\n",
       "      <td>3</td>\n",
       "      <td>3</td>\n",
       "    </tr>\n",
       "    <tr>\n",
       "      <th>SA</th>\n",
       "      <td>4</td>\n",
       "      <td>4</td>\n",
       "      <td>4</td>\n",
       "    </tr>\n",
       "  </tbody>\n",
       "</table>\n",
       "</div>"
      ],
      "text/plain": [
       "            Rank  Year  point\n",
       "Team                         \n",
       "Australlia     2     2      2\n",
       "India          3     3      3\n",
       "NZ             3     3      3\n",
       "SA             4     4      4"
      ]
     },
     "execution_count": 80,
     "metadata": {},
     "output_type": "execute_result"
    }
   ],
   "source": [
    "# Aggreegation\n",
    "# transformation\n",
    "# \n",
    "\n",
    "group = df.groupby('Team')\n",
    "group.agg(np.size)"
   ]
  },
  {
   "cell_type": "code",
   "execution_count": 81,
   "id": "9b8c031d",
   "metadata": {},
   "outputs": [
    {
     "data": {
      "text/html": [
       "<div>\n",
       "<style scoped>\n",
       "    .dataframe tbody tr th:only-of-type {\n",
       "        vertical-align: middle;\n",
       "    }\n",
       "\n",
       "    .dataframe tbody tr th {\n",
       "        vertical-align: top;\n",
       "    }\n",
       "\n",
       "    .dataframe thead th {\n",
       "        text-align: right;\n",
       "    }\n",
       "</style>\n",
       "<table border=\"1\" class=\"dataframe\">\n",
       "  <thead>\n",
       "    <tr style=\"text-align: right;\">\n",
       "      <th></th>\n",
       "      <th>mean</th>\n",
       "      <th>sum</th>\n",
       "      <th>std</th>\n",
       "    </tr>\n",
       "    <tr>\n",
       "      <th>Team</th>\n",
       "      <th></th>\n",
       "      <th></th>\n",
       "      <th></th>\n",
       "    </tr>\n",
       "  </thead>\n",
       "  <tbody>\n",
       "    <tr>\n",
       "      <th>Australlia</th>\n",
       "      <td>853.000000</td>\n",
       "      <td>1706</td>\n",
       "      <td>53.740115</td>\n",
       "    </tr>\n",
       "    <tr>\n",
       "      <th>India</th>\n",
       "      <td>819.666667</td>\n",
       "      <td>2459</td>\n",
       "      <td>49.702448</td>\n",
       "    </tr>\n",
       "    <tr>\n",
       "      <th>NZ</th>\n",
       "      <td>763.333333</td>\n",
       "      <td>2290</td>\n",
       "      <td>115.092716</td>\n",
       "    </tr>\n",
       "    <tr>\n",
       "      <th>SA</th>\n",
       "      <td>803.750000</td>\n",
       "      <td>3215</td>\n",
       "      <td>29.511297</td>\n",
       "    </tr>\n",
       "  </tbody>\n",
       "</table>\n",
       "</div>"
      ],
      "text/plain": [
       "                  mean   sum         std\n",
       "Team                                    \n",
       "Australlia  853.000000  1706   53.740115\n",
       "India       819.666667  2459   49.702448\n",
       "NZ          763.333333  2290  115.092716\n",
       "SA          803.750000  3215   29.511297"
      ]
     },
     "execution_count": 81,
     "metadata": {},
     "output_type": "execute_result"
    }
   ],
   "source": [
    "group = df.groupby('Team')\n",
    "group['point'].agg([np.mean,np.sum,np.std])"
   ]
  },
  {
   "cell_type": "code",
   "execution_count": 36,
   "id": "bcb6fa5c",
   "metadata": {},
   "outputs": [],
   "source": [
    "# randn gives a real number between -1 to 1. Mathematically, \n",
    "#randn gives a number from Normal Distribution, whereas, rand gives a \n",
    "#number from Uniform Distribution.\n",
    "data = np.random.rand(4,4)\n"
   ]
  },
  {
   "cell_type": "code",
   "execution_count": 37,
   "id": "f7e1629b",
   "metadata": {},
   "outputs": [
    {
     "data": {
      "text/plain": [
       "array([[0.51978267, 0.7905146 , 0.75373699, 0.60042275],\n",
       "       [0.90223318, 0.58524832, 0.51472082, 0.92463442],\n",
       "       [0.58745975, 0.99555588, 0.27581278, 0.55790993],\n",
       "       [0.93100584, 0.48189341, 0.17356545, 0.79127139]])"
      ]
     },
     "execution_count": 37,
     "metadata": {},
     "output_type": "execute_result"
    }
   ],
   "source": [
    "data"
   ]
  },
  {
   "cell_type": "code",
   "execution_count": 87,
   "id": "8ac88371",
   "metadata": {},
   "outputs": [],
   "source": [
    "data = np.random.rand(4,4)\n"
   ]
  },
  {
   "cell_type": "code",
   "execution_count": 88,
   "id": "2e4686b8",
   "metadata": {},
   "outputs": [
    {
     "data": {
      "text/plain": [
       "array([[0.97024913, 0.28301347, 0.41263367, 0.12331055],\n",
       "       [0.60438943, 0.38899079, 0.32529611, 0.91380031],\n",
       "       [0.35985553, 0.80707288, 0.76392482, 0.48596371],\n",
       "       [0.12337206, 0.03403201, 0.66999693, 0.82539023]])"
      ]
     },
     "execution_count": 88,
     "metadata": {},
     "output_type": "execute_result"
    }
   ],
   "source": [
    "data"
   ]
  },
  {
   "cell_type": "code",
   "execution_count": 92,
   "id": "88ebda5e",
   "metadata": {},
   "outputs": [],
   "source": [
    "df = pd.DataFrame(np.random.rand(4,4),columns=list(\"ABCD\"))\n",
    "df['Group'] =[0,0,1,1]"
   ]
  },
  {
   "cell_type": "code",
   "execution_count": 93,
   "id": "a637f701",
   "metadata": {},
   "outputs": [
    {
     "data": {
      "text/html": [
       "<div>\n",
       "<style scoped>\n",
       "    .dataframe tbody tr th:only-of-type {\n",
       "        vertical-align: middle;\n",
       "    }\n",
       "\n",
       "    .dataframe tbody tr th {\n",
       "        vertical-align: top;\n",
       "    }\n",
       "\n",
       "    .dataframe thead th {\n",
       "        text-align: right;\n",
       "    }\n",
       "</style>\n",
       "<table border=\"1\" class=\"dataframe\">\n",
       "  <thead>\n",
       "    <tr style=\"text-align: right;\">\n",
       "      <th></th>\n",
       "      <th>A</th>\n",
       "      <th>B</th>\n",
       "      <th>C</th>\n",
       "      <th>D</th>\n",
       "      <th>Group</th>\n",
       "    </tr>\n",
       "  </thead>\n",
       "  <tbody>\n",
       "    <tr>\n",
       "      <th>0</th>\n",
       "      <td>0.709923</td>\n",
       "      <td>0.852962</td>\n",
       "      <td>0.393149</td>\n",
       "      <td>0.476552</td>\n",
       "      <td>0</td>\n",
       "    </tr>\n",
       "    <tr>\n",
       "      <th>1</th>\n",
       "      <td>0.288299</td>\n",
       "      <td>0.720880</td>\n",
       "      <td>0.737889</td>\n",
       "      <td>0.334807</td>\n",
       "      <td>0</td>\n",
       "    </tr>\n",
       "    <tr>\n",
       "      <th>2</th>\n",
       "      <td>0.886456</td>\n",
       "      <td>0.141342</td>\n",
       "      <td>0.000757</td>\n",
       "      <td>0.811687</td>\n",
       "      <td>1</td>\n",
       "    </tr>\n",
       "    <tr>\n",
       "      <th>3</th>\n",
       "      <td>0.893425</td>\n",
       "      <td>0.722977</td>\n",
       "      <td>0.455359</td>\n",
       "      <td>0.342819</td>\n",
       "      <td>1</td>\n",
       "    </tr>\n",
       "  </tbody>\n",
       "</table>\n",
       "</div>"
      ],
      "text/plain": [
       "          A         B         C         D  Group\n",
       "0  0.709923  0.852962  0.393149  0.476552      0\n",
       "1  0.288299  0.720880  0.737889  0.334807      0\n",
       "2  0.886456  0.141342  0.000757  0.811687      1\n",
       "3  0.893425  0.722977  0.455359  0.342819      1"
      ]
     },
     "execution_count": 93,
     "metadata": {},
     "output_type": "execute_result"
    }
   ],
   "source": [
    "df"
   ]
  },
  {
   "cell_type": "code",
   "execution_count": 43,
   "id": "1f0c4a82",
   "metadata": {},
   "outputs": [
    {
     "data": {
      "text/html": [
       "<div>\n",
       "<style scoped>\n",
       "    .dataframe tbody tr th:only-of-type {\n",
       "        vertical-align: middle;\n",
       "    }\n",
       "\n",
       "    .dataframe tbody tr th {\n",
       "        vertical-align: top;\n",
       "    }\n",
       "\n",
       "    .dataframe thead tr th {\n",
       "        text-align: left;\n",
       "    }\n",
       "\n",
       "    .dataframe thead tr:last-of-type th {\n",
       "        text-align: right;\n",
       "    }\n",
       "</style>\n",
       "<table border=\"1\" class=\"dataframe\">\n",
       "  <thead>\n",
       "    <tr>\n",
       "      <th></th>\n",
       "      <th colspan=\"4\" halign=\"left\">A</th>\n",
       "      <th colspan=\"2\" halign=\"left\">B</th>\n",
       "      <th>C</th>\n",
       "      <th>D</th>\n",
       "    </tr>\n",
       "    <tr>\n",
       "      <th></th>\n",
       "      <th>sum</th>\n",
       "      <th>min</th>\n",
       "      <th>max</th>\n",
       "      <th>mean</th>\n",
       "      <th>min</th>\n",
       "      <th>std</th>\n",
       "      <th>sum</th>\n",
       "      <th>&lt;lambda&gt;</th>\n",
       "    </tr>\n",
       "    <tr>\n",
       "      <th>Group</th>\n",
       "      <th></th>\n",
       "      <th></th>\n",
       "      <th></th>\n",
       "      <th></th>\n",
       "      <th></th>\n",
       "      <th></th>\n",
       "      <th></th>\n",
       "      <th></th>\n",
       "    </tr>\n",
       "  </thead>\n",
       "  <tbody>\n",
       "    <tr>\n",
       "      <th>0</th>\n",
       "      <td>0.513795</td>\n",
       "      <td>0.098678</td>\n",
       "      <td>0.415117</td>\n",
       "      <td>0.256897</td>\n",
       "      <td>0.501322</td>\n",
       "      <td>0.230307</td>\n",
       "      <td>0.962566</td>\n",
       "      <td>0.215016</td>\n",
       "    </tr>\n",
       "    <tr>\n",
       "      <th>1</th>\n",
       "      <td>1.016039</td>\n",
       "      <td>0.108445</td>\n",
       "      <td>0.907593</td>\n",
       "      <td>0.508019</td>\n",
       "      <td>0.392216</td>\n",
       "      <td>0.283206</td>\n",
       "      <td>0.196733</td>\n",
       "      <td>0.471068</td>\n",
       "    </tr>\n",
       "  </tbody>\n",
       "</table>\n",
       "</div>"
      ],
      "text/plain": [
       "              A                                       B                   C  \\\n",
       "            sum       min       max      mean       min       std       sum   \n",
       "Group                                                                         \n",
       "0      0.513795  0.098678  0.415117  0.256897  0.501322  0.230307  0.962566   \n",
       "1      1.016039  0.108445  0.907593  0.508019  0.392216  0.283206  0.196733   \n",
       "\n",
       "              D  \n",
       "       <lambda>  \n",
       "Group            \n",
       "0      0.215016  \n",
       "1      0.471068  "
      ]
     },
     "execution_count": 43,
     "metadata": {},
     "output_type": "execute_result"
    }
   ],
   "source": [
    "df = pd.DataFrame(np.random.rand(4,4),columns=list(\"ABCD\"))\n",
    "df['Group'] =[0,0,1,1]\n",
    "\n",
    "df.groupby('Group').agg({\"A\":[\"sum\",\"min\",\"max\",\"mean\"],\n",
    "                         \"B\":[\"min\",'std'],\n",
    "                         \"C\": 'sum',\n",
    "                         \"D\" : lambda x: x.max()-x.min()\n",
    "                        })"
   ]
  },
  {
   "cell_type": "code",
   "execution_count": 46,
   "id": "53fe5094",
   "metadata": {},
   "outputs": [
    {
     "name": "stdout",
     "output_type": "stream",
     "text": [
      "0      56.333333\n",
      "1     -18.666667\n",
      "2      38.000000\n",
      "3     -38.000000\n",
      "4     -27.750000\n",
      "5     -22.750000\n",
      "6      30.250000\n",
      "7      20.250000\n",
      "8      -5.333333\n",
      "9    -112.333333\n",
      "10    117.666667\n",
      "11    -37.666667\n",
      "Name: point, dtype: float64\n"
     ]
    }
   ],
   "source": [
    "#transform point column to value - mean(column)\n",
    "\n",
    "group = df.groupby('Team')\n",
    "transform_col = lambda x : (x - x.mean())\n",
    "print(group['point'].transform(transform_col))"
   ]
  },
  {
   "cell_type": "code",
   "execution_count": 47,
   "id": "64fdc063",
   "metadata": {},
   "outputs": [],
   "source": [
    "# filter data point where minnimum data point of team is 3\n",
    "grp = df.groupby('Team').filter(lambda x : len(x)>=3).sort_values(\"Team\")\n"
   ]
  },
  {
   "cell_type": "code",
   "execution_count": 48,
   "id": "68504469",
   "metadata": {},
   "outputs": [
    {
     "data": {
      "text/html": [
       "<div>\n",
       "<style scoped>\n",
       "    .dataframe tbody tr th:only-of-type {\n",
       "        vertical-align: middle;\n",
       "    }\n",
       "\n",
       "    .dataframe tbody tr th {\n",
       "        vertical-align: top;\n",
       "    }\n",
       "\n",
       "    .dataframe thead th {\n",
       "        text-align: right;\n",
       "    }\n",
       "</style>\n",
       "<table border=\"1\" class=\"dataframe\">\n",
       "  <thead>\n",
       "    <tr style=\"text-align: right;\">\n",
       "      <th></th>\n",
       "      <th>Team</th>\n",
       "      <th>Rank</th>\n",
       "      <th>Year</th>\n",
       "      <th>point</th>\n",
       "    </tr>\n",
       "  </thead>\n",
       "  <tbody>\n",
       "    <tr>\n",
       "      <th>0</th>\n",
       "      <td>India</td>\n",
       "      <td>2</td>\n",
       "      <td>2014</td>\n",
       "      <td>876</td>\n",
       "    </tr>\n",
       "    <tr>\n",
       "      <th>1</th>\n",
       "      <td>India</td>\n",
       "      <td>3</td>\n",
       "      <td>2015</td>\n",
       "      <td>801</td>\n",
       "    </tr>\n",
       "    <tr>\n",
       "      <th>11</th>\n",
       "      <td>India</td>\n",
       "      <td>2</td>\n",
       "      <td>2017</td>\n",
       "      <td>782</td>\n",
       "    </tr>\n",
       "    <tr>\n",
       "      <th>8</th>\n",
       "      <td>NZ</td>\n",
       "      <td>2</td>\n",
       "      <td>2016</td>\n",
       "      <td>758</td>\n",
       "    </tr>\n",
       "    <tr>\n",
       "      <th>9</th>\n",
       "      <td>NZ</td>\n",
       "      <td>4</td>\n",
       "      <td>2014</td>\n",
       "      <td>651</td>\n",
       "    </tr>\n",
       "    <tr>\n",
       "      <th>10</th>\n",
       "      <td>NZ</td>\n",
       "      <td>1</td>\n",
       "      <td>2015</td>\n",
       "      <td>881</td>\n",
       "    </tr>\n",
       "    <tr>\n",
       "      <th>4</th>\n",
       "      <td>SA</td>\n",
       "      <td>3</td>\n",
       "      <td>2014</td>\n",
       "      <td>776</td>\n",
       "    </tr>\n",
       "    <tr>\n",
       "      <th>5</th>\n",
       "      <td>SA</td>\n",
       "      <td>4</td>\n",
       "      <td>2015</td>\n",
       "      <td>781</td>\n",
       "    </tr>\n",
       "    <tr>\n",
       "      <th>6</th>\n",
       "      <td>SA</td>\n",
       "      <td>1</td>\n",
       "      <td>2016</td>\n",
       "      <td>834</td>\n",
       "    </tr>\n",
       "    <tr>\n",
       "      <th>7</th>\n",
       "      <td>SA</td>\n",
       "      <td>1</td>\n",
       "      <td>2017</td>\n",
       "      <td>824</td>\n",
       "    </tr>\n",
       "  </tbody>\n",
       "</table>\n",
       "</div>"
      ],
      "text/plain": [
       "     Team  Rank  Year  point\n",
       "0   India     2  2014    876\n",
       "1   India     3  2015    801\n",
       "11  India     2  2017    782\n",
       "8      NZ     2  2016    758\n",
       "9      NZ     4  2014    651\n",
       "10     NZ     1  2015    881\n",
       "4      SA     3  2014    776\n",
       "5      SA     4  2015    781\n",
       "6      SA     1  2016    834\n",
       "7      SA     1  2017    824"
      ]
     },
     "execution_count": 48,
     "metadata": {},
     "output_type": "execute_result"
    }
   ],
   "source": [
    "grp"
   ]
  },
  {
   "cell_type": "code",
   "execution_count": 117,
   "id": "9eaa5af0",
   "metadata": {},
   "outputs": [],
   "source": [
    "# sort an array of elemnt of 0's 1's and 2's\n",
    "li = [0,1,2,0,1,2]\n",
    "def Sort(ar,n):\n",
    "    low= 0\n",
    "    mid = 0\n",
    "    high = n-1\n",
    "    while mid<=high:\n",
    "        if ar[mid] == 0:\n",
    "            ar[low],ar[mid] = ar[mid],ar[low]\n",
    "            low = low + 1\n",
    "            mid = mid + 1\n",
    "        elif ar[mid]==1:\n",
    "            mid = mid+1\n",
    "        else:\n",
    "            ar[mid],ar[high] = ar[high],ar[mid]\n",
    "            high = high -1\n",
    "    return ar\n",
    "res = Sort(li,len(li))\n"
   ]
  },
  {
   "cell_type": "code",
   "execution_count": 118,
   "id": "ff01e0b0",
   "metadata": {},
   "outputs": [
    {
     "data": {
      "text/plain": [
       "[0, 0, 1, 1, 2, 2]"
      ]
     },
     "execution_count": 118,
     "metadata": {},
     "output_type": "execute_result"
    }
   ],
   "source": [
    "res"
   ]
  },
  {
   "cell_type": "code",
   "execution_count": 146,
   "id": "2ffca709",
   "metadata": {},
   "outputs": [
    {
     "data": {
      "text/plain": [
       "Counter({0: 2, 1: 2, 2: 2})"
      ]
     },
     "execution_count": 146,
     "metadata": {},
     "output_type": "execute_result"
    }
   ],
   "source": [
    "from collections import Counter\n",
    "li1 = [0,1,2,0,1,2]\n",
    "dict1  = Counter(li1)\n",
    "dict1\n",
    "\n"
   ]
  },
  {
   "cell_type": "code",
   "execution_count": null,
   "id": "04bcd852",
   "metadata": {},
   "outputs": [],
   "source": [
    "for i , j in dict1.items():\n",
    "    "
   ]
  },
  {
   "cell_type": "code",
   "execution_count": 135,
   "id": "95a028b2",
   "metadata": {},
   "outputs": [
    {
     "name": "stdout",
     "output_type": "stream",
     "text": [
      "2\n",
      "2\n",
      "2\n"
     ]
    }
   ],
   "source": [
    "for value in dict1:\n",
    "    print(dict1[value])\n",
    "    "
   ]
  },
  {
   "cell_type": "code",
   "execution_count": 145,
   "id": "f1e8dd3d",
   "metadata": {},
   "outputs": [
    {
     "name": "stdout",
     "output_type": "stream",
     "text": [
      "['00', '11', '22']\n"
     ]
    }
   ],
   "source": [
    "li2 =[]\n",
    "for key ,val in dict1.items():\n",
    "    li2.append(str(key) * val)\n",
    "print(li2)"
   ]
  },
  {
   "cell_type": "code",
   "execution_count": 169,
   "id": "7f2003f4",
   "metadata": {},
   "outputs": [],
   "source": [
    "#write a function to get square of 1,2 and 3\n",
    "li = []\n",
    "res = lambda x : [print(x**2) for i in range(3)]"
   ]
  },
  {
   "cell_type": "code",
   "execution_count": 174,
   "id": "9de94a88",
   "metadata": {},
   "outputs": [],
   "source": [
    "li = [1,2,3,4,5]\n",
    "sq = list(map(lambda x: x ** 2, li))"
   ]
  },
  {
   "cell_type": "code",
   "execution_count": 175,
   "id": "f48f4d86",
   "metadata": {},
   "outputs": [
    {
     "data": {
      "text/plain": [
       "[1, 4, 9, 16, 25]"
      ]
     },
     "execution_count": 175,
     "metadata": {},
     "output_type": "execute_result"
    }
   ],
   "source": [
    "sq"
   ]
  },
  {
   "cell_type": "code",
   "execution_count": 156,
   "id": "33217f54",
   "metadata": {},
   "outputs": [],
   "source": [
    "li = [x**2 for x in range(5)]"
   ]
  },
  {
   "cell_type": "code",
   "execution_count": 157,
   "id": "ec1a2fa6",
   "metadata": {},
   "outputs": [
    {
     "data": {
      "text/plain": [
       "[0, 1, 4, 9, 16]"
      ]
     },
     "execution_count": 157,
     "metadata": {},
     "output_type": "execute_result"
    }
   ],
   "source": [
    "li"
   ]
  },
  {
   "cell_type": "code",
   "execution_count": 111,
   "id": "58e24f45",
   "metadata": {},
   "outputs": [],
   "source": [
    "# Q9: How to split a string column in a DataFrame into two columns?\n",
    "df = pd.DataFrame({'row': ['00000 UNITED STATES', '01000 ALABAMA', \n",
    "                           '01001 Autauga County, AL', '01003 Baldwin County, AL', \n",
    "                           '01005 Barbour County, AL']\n",
    "                  })"
   ]
  },
  {
   "cell_type": "code",
   "execution_count": 112,
   "id": "0084b094",
   "metadata": {},
   "outputs": [
    {
     "data": {
      "text/html": [
       "<div>\n",
       "<style scoped>\n",
       "    .dataframe tbody tr th:only-of-type {\n",
       "        vertical-align: middle;\n",
       "    }\n",
       "\n",
       "    .dataframe tbody tr th {\n",
       "        vertical-align: top;\n",
       "    }\n",
       "\n",
       "    .dataframe thead th {\n",
       "        text-align: right;\n",
       "    }\n",
       "</style>\n",
       "<table border=\"1\" class=\"dataframe\">\n",
       "  <thead>\n",
       "    <tr style=\"text-align: right;\">\n",
       "      <th></th>\n",
       "      <th>row</th>\n",
       "    </tr>\n",
       "  </thead>\n",
       "  <tbody>\n",
       "    <tr>\n",
       "      <th>0</th>\n",
       "      <td>00000 UNITED STATES</td>\n",
       "    </tr>\n",
       "    <tr>\n",
       "      <th>1</th>\n",
       "      <td>01000 ALABAMA</td>\n",
       "    </tr>\n",
       "    <tr>\n",
       "      <th>2</th>\n",
       "      <td>01001 Autauga County, AL</td>\n",
       "    </tr>\n",
       "    <tr>\n",
       "      <th>3</th>\n",
       "      <td>01003 Baldwin County, AL</td>\n",
       "    </tr>\n",
       "    <tr>\n",
       "      <th>4</th>\n",
       "      <td>01005 Barbour County, AL</td>\n",
       "    </tr>\n",
       "  </tbody>\n",
       "</table>\n",
       "</div>"
      ],
      "text/plain": [
       "                        row\n",
       "0       00000 UNITED STATES\n",
       "1             01000 ALABAMA\n",
       "2  01001 Autauga County, AL\n",
       "3  01003 Baldwin County, AL\n",
       "4  01005 Barbour County, AL"
      ]
     },
     "execution_count": 112,
     "metadata": {},
     "output_type": "execute_result"
    }
   ],
   "source": [
    "df"
   ]
  },
  {
   "cell_type": "code",
   "execution_count": 113,
   "id": "89d1b2e1",
   "metadata": {},
   "outputs": [
    {
     "name": "stdout",
     "output_type": "stream",
     "text": [
      "['00000', 'UNITED STATES']\n",
      "['01000', 'ALABAMA']\n",
      "['01001', 'Autauga County, AL']\n",
      "['01003', 'Baldwin County, AL']\n",
      "['01005', 'Barbour County, AL']\n"
     ]
    }
   ],
   "source": [
    "for i in df[\"row\"]:\n",
    "    print(i.split(' ',1))\n",
    "    "
   ]
  },
  {
   "cell_type": "code",
   "execution_count": 114,
   "id": "0c0c9b26",
   "metadata": {},
   "outputs": [],
   "source": [
    "df[['code','location']] = df['row'].str.split(n=1,expand=True)"
   ]
  },
  {
   "cell_type": "code",
   "execution_count": 115,
   "id": "688c8b64",
   "metadata": {},
   "outputs": [
    {
     "data": {
      "text/html": [
       "<div>\n",
       "<style scoped>\n",
       "    .dataframe tbody tr th:only-of-type {\n",
       "        vertical-align: middle;\n",
       "    }\n",
       "\n",
       "    .dataframe tbody tr th {\n",
       "        vertical-align: top;\n",
       "    }\n",
       "\n",
       "    .dataframe thead th {\n",
       "        text-align: right;\n",
       "    }\n",
       "</style>\n",
       "<table border=\"1\" class=\"dataframe\">\n",
       "  <thead>\n",
       "    <tr style=\"text-align: right;\">\n",
       "      <th></th>\n",
       "      <th>row</th>\n",
       "      <th>code</th>\n",
       "      <th>location</th>\n",
       "    </tr>\n",
       "  </thead>\n",
       "  <tbody>\n",
       "    <tr>\n",
       "      <th>0</th>\n",
       "      <td>00000 UNITED STATES</td>\n",
       "      <td>00000</td>\n",
       "      <td>UNITED STATES</td>\n",
       "    </tr>\n",
       "    <tr>\n",
       "      <th>1</th>\n",
       "      <td>01000 ALABAMA</td>\n",
       "      <td>01000</td>\n",
       "      <td>ALABAMA</td>\n",
       "    </tr>\n",
       "    <tr>\n",
       "      <th>2</th>\n",
       "      <td>01001 Autauga County, AL</td>\n",
       "      <td>01001</td>\n",
       "      <td>Autauga County, AL</td>\n",
       "    </tr>\n",
       "    <tr>\n",
       "      <th>3</th>\n",
       "      <td>01003 Baldwin County, AL</td>\n",
       "      <td>01003</td>\n",
       "      <td>Baldwin County, AL</td>\n",
       "    </tr>\n",
       "    <tr>\n",
       "      <th>4</th>\n",
       "      <td>01005 Barbour County, AL</td>\n",
       "      <td>01005</td>\n",
       "      <td>Barbour County, AL</td>\n",
       "    </tr>\n",
       "  </tbody>\n",
       "</table>\n",
       "</div>"
      ],
      "text/plain": [
       "                        row   code            location\n",
       "0       00000 UNITED STATES  00000       UNITED STATES\n",
       "1             01000 ALABAMA  01000             ALABAMA\n",
       "2  01001 Autauga County, AL  01001  Autauga County, AL\n",
       "3  01003 Baldwin County, AL  01003  Baldwin County, AL\n",
       "4  01005 Barbour County, AL  01005  Barbour County, AL"
      ]
     },
     "execution_count": 115,
     "metadata": {},
     "output_type": "execute_result"
    }
   ],
   "source": [
    "df"
   ]
  },
  {
   "cell_type": "code",
   "execution_count": 120,
   "id": "9faf87fa",
   "metadata": {},
   "outputs": [
    {
     "data": {
      "text/html": [
       "<div>\n",
       "<style scoped>\n",
       "    .dataframe tbody tr th:only-of-type {\n",
       "        vertical-align: middle;\n",
       "    }\n",
       "\n",
       "    .dataframe tbody tr th {\n",
       "        vertical-align: top;\n",
       "    }\n",
       "\n",
       "    .dataframe thead th {\n",
       "        text-align: right;\n",
       "    }\n",
       "</style>\n",
       "<table border=\"1\" class=\"dataframe\">\n",
       "  <thead>\n",
       "    <tr style=\"text-align: right;\">\n",
       "      <th></th>\n",
       "      <th>code</th>\n",
       "      <th>location</th>\n",
       "    </tr>\n",
       "  </thead>\n",
       "  <tbody>\n",
       "    <tr>\n",
       "      <th>0</th>\n",
       "      <td>00000</td>\n",
       "      <td>UNITED STATES</td>\n",
       "    </tr>\n",
       "    <tr>\n",
       "      <th>1</th>\n",
       "      <td>01000</td>\n",
       "      <td>ALABAMA</td>\n",
       "    </tr>\n",
       "    <tr>\n",
       "      <th>2</th>\n",
       "      <td>01001</td>\n",
       "      <td>Autauga County, AL</td>\n",
       "    </tr>\n",
       "    <tr>\n",
       "      <th>3</th>\n",
       "      <td>01003</td>\n",
       "      <td>Baldwin County, AL</td>\n",
       "    </tr>\n",
       "    <tr>\n",
       "      <th>4</th>\n",
       "      <td>01005</td>\n",
       "      <td>Barbour County, AL</td>\n",
       "    </tr>\n",
       "  </tbody>\n",
       "</table>\n",
       "</div>"
      ],
      "text/plain": [
       "    code            location\n",
       "0  00000       UNITED STATES\n",
       "1  01000             ALABAMA\n",
       "2  01001  Autauga County, AL\n",
       "3  01003  Baldwin County, AL\n",
       "4  01005  Barbour County, AL"
      ]
     },
     "execution_count": 120,
     "metadata": {},
     "output_type": "execute_result"
    }
   ],
   "source": [
    "df.drop('row',axis=1)"
   ]
  },
  {
   "cell_type": "code",
   "execution_count": 117,
   "id": "5b6e11d7",
   "metadata": {},
   "outputs": [
    {
     "data": {
      "text/plain": [
       "False"
      ]
     },
     "execution_count": 117,
     "metadata": {},
     "output_type": "execute_result"
    }
   ],
   "source": [
    "# Q10: How to check whether a Pandas DataFrame is empty?\n",
    "df.empty"
   ]
  },
  {
   "cell_type": "code",
   "execution_count": 124,
   "id": "c8d56f15",
   "metadata": {},
   "outputs": [
    {
     "name": "stdout",
     "output_type": "stream",
     "text": [
      "Data Frame is not empty!!!\n"
     ]
    }
   ],
   "source": [
    "\n",
    "if df.empty:\n",
    "    print(\"Data Frame is empty!!!!\")\n",
    "else:\n",
    "    print(\"Data Frame is not empty!!!\")"
   ]
  },
  {
   "cell_type": "code",
   "execution_count": 126,
   "id": "9b87c0e3",
   "metadata": {},
   "outputs": [],
   "source": [
    "# Q11: How would you iterate over rows in a DataFrame in Pandas?\n",
    "# ans : \n",
    "#DataFrame.iterrows is a generator which yields both the index and row (as a Series):\n",
    "\n",
    "data = pd.DataFrame(np.random.rand(5,5),columns=list(\"ABCDE\"))"
   ]
  },
  {
   "cell_type": "code",
   "execution_count": 127,
   "id": "c3cb7e71",
   "metadata": {},
   "outputs": [
    {
     "data": {
      "text/html": [
       "<div>\n",
       "<style scoped>\n",
       "    .dataframe tbody tr th:only-of-type {\n",
       "        vertical-align: middle;\n",
       "    }\n",
       "\n",
       "    .dataframe tbody tr th {\n",
       "        vertical-align: top;\n",
       "    }\n",
       "\n",
       "    .dataframe thead th {\n",
       "        text-align: right;\n",
       "    }\n",
       "</style>\n",
       "<table border=\"1\" class=\"dataframe\">\n",
       "  <thead>\n",
       "    <tr style=\"text-align: right;\">\n",
       "      <th></th>\n",
       "      <th>A</th>\n",
       "      <th>B</th>\n",
       "      <th>C</th>\n",
       "      <th>D</th>\n",
       "      <th>E</th>\n",
       "    </tr>\n",
       "  </thead>\n",
       "  <tbody>\n",
       "    <tr>\n",
       "      <th>0</th>\n",
       "      <td>0.634018</td>\n",
       "      <td>0.039709</td>\n",
       "      <td>0.870626</td>\n",
       "      <td>0.289262</td>\n",
       "      <td>0.053935</td>\n",
       "    </tr>\n",
       "    <tr>\n",
       "      <th>1</th>\n",
       "      <td>0.507488</td>\n",
       "      <td>0.722778</td>\n",
       "      <td>0.108463</td>\n",
       "      <td>0.843322</td>\n",
       "      <td>0.913996</td>\n",
       "    </tr>\n",
       "    <tr>\n",
       "      <th>2</th>\n",
       "      <td>0.358767</td>\n",
       "      <td>0.294971</td>\n",
       "      <td>0.325841</td>\n",
       "      <td>0.683341</td>\n",
       "      <td>0.455317</td>\n",
       "    </tr>\n",
       "    <tr>\n",
       "      <th>3</th>\n",
       "      <td>0.265969</td>\n",
       "      <td>0.314831</td>\n",
       "      <td>0.866641</td>\n",
       "      <td>0.890497</td>\n",
       "      <td>0.573720</td>\n",
       "    </tr>\n",
       "    <tr>\n",
       "      <th>4</th>\n",
       "      <td>0.603318</td>\n",
       "      <td>0.567679</td>\n",
       "      <td>0.819108</td>\n",
       "      <td>0.675772</td>\n",
       "      <td>0.452852</td>\n",
       "    </tr>\n",
       "  </tbody>\n",
       "</table>\n",
       "</div>"
      ],
      "text/plain": [
       "          A         B         C         D         E\n",
       "0  0.634018  0.039709  0.870626  0.289262  0.053935\n",
       "1  0.507488  0.722778  0.108463  0.843322  0.913996\n",
       "2  0.358767  0.294971  0.325841  0.683341  0.455317\n",
       "3  0.265969  0.314831  0.866641  0.890497  0.573720\n",
       "4  0.603318  0.567679  0.819108  0.675772  0.452852"
      ]
     },
     "execution_count": 127,
     "metadata": {},
     "output_type": "execute_result"
    }
   ],
   "source": [
    "data"
   ]
  },
  {
   "cell_type": "code",
   "execution_count": 128,
   "id": "a3b6b017",
   "metadata": {},
   "outputs": [
    {
     "name": "stdout",
     "output_type": "stream",
     "text": [
      "0\n",
      "A    0.634018\n",
      "B    0.039709\n",
      "C    0.870626\n",
      "D    0.289262\n",
      "E    0.053935\n",
      "Name: 0, dtype: float64\n",
      "1\n",
      "A    0.507488\n",
      "B    0.722778\n",
      "C    0.108463\n",
      "D    0.843322\n",
      "E    0.913996\n",
      "Name: 1, dtype: float64\n",
      "2\n",
      "A    0.358767\n",
      "B    0.294971\n",
      "C    0.325841\n",
      "D    0.683341\n",
      "E    0.455317\n",
      "Name: 2, dtype: float64\n",
      "3\n",
      "A    0.265969\n",
      "B    0.314831\n",
      "C    0.866641\n",
      "D    0.890497\n",
      "E    0.573720\n",
      "Name: 3, dtype: float64\n",
      "4\n",
      "A    0.603318\n",
      "B    0.567679\n",
      "C    0.819108\n",
      "D    0.675772\n",
      "E    0.452852\n",
      "Name: 4, dtype: float64\n"
     ]
    }
   ],
   "source": [
    "for i,j in data.iterrows():\n",
    "    print(i)\n",
    "    print(j)"
   ]
  },
  {
   "cell_type": "code",
   "execution_count": 131,
   "id": "6bc075bc",
   "metadata": {},
   "outputs": [
    {
     "name": "stdout",
     "output_type": "stream",
     "text": [
      "10 100\n",
      "11 110\n",
      "12 120\n"
     ]
    }
   ],
   "source": [
    "import pandas as pd\n",
    "\n",
    "df = pd.DataFrame({'c1': [10, 11, 12], 'c2': [100, 110, 120]})\n",
    "\n",
    "for index, row in df.iterrows():\n",
    "    print(row['c1'], row['c2'])\n",
    "#     print(index)\n",
    "#     print(row)"
   ]
  },
  {
   "cell_type": "code",
   "execution_count": 132,
   "id": "a4383541",
   "metadata": {},
   "outputs": [
    {
     "data": {
      "text/html": [
       "<div>\n",
       "<style scoped>\n",
       "    .dataframe tbody tr th:only-of-type {\n",
       "        vertical-align: middle;\n",
       "    }\n",
       "\n",
       "    .dataframe tbody tr th {\n",
       "        vertical-align: top;\n",
       "    }\n",
       "\n",
       "    .dataframe thead th {\n",
       "        text-align: right;\n",
       "    }\n",
       "</style>\n",
       "<table border=\"1\" class=\"dataframe\">\n",
       "  <thead>\n",
       "    <tr style=\"text-align: right;\">\n",
       "      <th></th>\n",
       "      <th>c1</th>\n",
       "      <th>c2</th>\n",
       "    </tr>\n",
       "  </thead>\n",
       "  <tbody>\n",
       "    <tr>\n",
       "      <th>0</th>\n",
       "      <td>10</td>\n",
       "      <td>100</td>\n",
       "    </tr>\n",
       "    <tr>\n",
       "      <th>1</th>\n",
       "      <td>11</td>\n",
       "      <td>110</td>\n",
       "    </tr>\n",
       "    <tr>\n",
       "      <th>2</th>\n",
       "      <td>12</td>\n",
       "      <td>120</td>\n",
       "    </tr>\n",
       "  </tbody>\n",
       "</table>\n",
       "</div>"
      ],
      "text/plain": [
       "   c1   c2\n",
       "0  10  100\n",
       "1  11  110\n",
       "2  12  120"
      ]
     },
     "execution_count": 132,
     "metadata": {},
     "output_type": "execute_result"
    }
   ],
   "source": [
    "df"
   ]
  },
  {
   "attachments": {
    "image.png": {
     "image/png": "[encoded data removed]"
    }
   },
   "cell_type": "markdown",
   "id": "edff9608",
   "metadata": {},
   "source": [
    "Q13: What does describe() percentiles values tell about our data?\n",
    "\n",
    "\n",
    "Answer\n",
    "The percentiles describe the distribution of your data: 50 should be a value that describes the middle of the data, also known as median. 25, 75 is the border of the upper/lower quarter of the data. With this can get an idea of how skew our data is.\n",
    "\n",
    "If the mean is higher than the median, the data is right skewed.\n",
    "'![image.png](attachment:image.png)'"
   ]
  },
  {
   "cell_type": "markdown",
   "id": "412c441e",
   "metadata": {},
   "source": [
    "# Q15: Compare the Pandas methods: map(), applymap(), apply()\n",
    " \n",
    "Answer\n",
    "The map() method is an elementwise method for only Pandas Series, it maps values of Series according to input correspondence.\n",
    "\n",
    "It accepts dicts, Series, or callable. Values that are not found in the dict are converted to NaN,"
   ]
  },
  {
   "cell_type": "code",
   "execution_count": 135,
   "id": "8fd5a30b",
   "metadata": {},
   "outputs": [],
   "source": [
    "s = pd.Series(['Dog','Cat','Monkey',np.nan,'Bird','Rabbit'])"
   ]
  },
  {
   "cell_type": "code",
   "execution_count": 136,
   "id": "f753f39d",
   "metadata": {},
   "outputs": [
    {
     "data": {
      "text/plain": [
       "0       Dog\n",
       "1       Cat\n",
       "2    Monkey\n",
       "3       NaN\n",
       "4      Bird\n",
       "5    Rabbit\n",
       "dtype: object"
      ]
     },
     "execution_count": 136,
     "metadata": {},
     "output_type": "execute_result"
    }
   ],
   "source": [
    "s"
   ]
  },
  {
   "cell_type": "code",
   "execution_count": 137,
   "id": "7306d53c",
   "metadata": {},
   "outputs": [
    {
     "data": {
      "text/plain": [
       "0        Puppy\n",
       "1       Kitten\n",
       "2          NaN\n",
       "3          NaN\n",
       "4       Parrot\n",
       "5    My_rabbit\n",
       "dtype: object"
      ]
     },
     "execution_count": 137,
     "metadata": {},
     "output_type": "execute_result"
    }
   ],
   "source": [
    "s.map({'Dog':\"Puppy\",'Cat':\"Kitten\",'Bird':'Parrot','Rabbit':\"My_rabbit\"})"
   ]
  },
  {
   "cell_type": "code",
   "execution_count": 138,
   "id": "cefb53e0",
   "metadata": {},
   "outputs": [],
   "source": [
    "# The applymap() method is an elementwise function for only DataFrames, \n",
    "# it applies a function that accepts and returns a scalar to every element of a DataFrame.\n",
    "\n",
    "# It accepts callables only i.e a Python function.\n",
    "\n",
    "df = pd.DataFrame([[1, 2.12], [3.356, 4.567]])"
   ]
  },
  {
   "cell_type": "code",
   "execution_count": 139,
   "id": "9b82a044",
   "metadata": {},
   "outputs": [
    {
     "data": {
      "text/html": [
       "<div>\n",
       "<style scoped>\n",
       "    .dataframe tbody tr th:only-of-type {\n",
       "        vertical-align: middle;\n",
       "    }\n",
       "\n",
       "    .dataframe tbody tr th {\n",
       "        vertical-align: top;\n",
       "    }\n",
       "\n",
       "    .dataframe thead th {\n",
       "        text-align: right;\n",
       "    }\n",
       "</style>\n",
       "<table border=\"1\" class=\"dataframe\">\n",
       "  <thead>\n",
       "    <tr style=\"text-align: right;\">\n",
       "      <th></th>\n",
       "      <th>0</th>\n",
       "      <th>1</th>\n",
       "    </tr>\n",
       "  </thead>\n",
       "  <tbody>\n",
       "    <tr>\n",
       "      <th>0</th>\n",
       "      <td>1.000</td>\n",
       "      <td>2.120</td>\n",
       "    </tr>\n",
       "    <tr>\n",
       "      <th>1</th>\n",
       "      <td>3.356</td>\n",
       "      <td>4.567</td>\n",
       "    </tr>\n",
       "  </tbody>\n",
       "</table>\n",
       "</div>"
      ],
      "text/plain": [
       "       0      1\n",
       "0  1.000  2.120\n",
       "1  3.356  4.567"
      ]
     },
     "execution_count": 139,
     "metadata": {},
     "output_type": "execute_result"
    }
   ],
   "source": [
    "df"
   ]
  },
  {
   "cell_type": "code",
   "execution_count": 141,
   "id": "d61267b1",
   "metadata": {},
   "outputs": [
    {
     "data": {
      "text/html": [
       "<div>\n",
       "<style scoped>\n",
       "    .dataframe tbody tr th:only-of-type {\n",
       "        vertical-align: middle;\n",
       "    }\n",
       "\n",
       "    .dataframe tbody tr th {\n",
       "        vertical-align: top;\n",
       "    }\n",
       "\n",
       "    .dataframe thead th {\n",
       "        text-align: right;\n",
       "    }\n",
       "</style>\n",
       "<table border=\"1\" class=\"dataframe\">\n",
       "  <thead>\n",
       "    <tr style=\"text-align: right;\">\n",
       "      <th></th>\n",
       "      <th>0</th>\n",
       "      <th>1</th>\n",
       "    </tr>\n",
       "  </thead>\n",
       "  <tbody>\n",
       "    <tr>\n",
       "      <th>0</th>\n",
       "      <td>1.000000</td>\n",
       "      <td>4.494400</td>\n",
       "    </tr>\n",
       "    <tr>\n",
       "      <th>1</th>\n",
       "      <td>11.262736</td>\n",
       "      <td>20.857489</td>\n",
       "    </tr>\n",
       "  </tbody>\n",
       "</table>\n",
       "</div>"
      ],
      "text/plain": [
       "           0          1\n",
       "0   1.000000   4.494400\n",
       "1  11.262736  20.857489"
      ]
     },
     "execution_count": 141,
     "metadata": {},
     "output_type": "execute_result"
    }
   ],
   "source": [
    "df.applymap(lambda x : x**2)"
   ]
  },
  {
   "cell_type": "code",
   "execution_count": 142,
   "id": "05b627fa",
   "metadata": {},
   "outputs": [],
   "source": [
    "# The apply() method also works elementwise, as it applies a function along input axis of DataFrame.\n",
    "# It is suited to more complex operations and aggregation.\n",
    "\n",
    "# It accepts the callables parameter as well.\n",
    "\n",
    "df = pd.DataFrame([[4, 9]] * 3, columns=['A', 'B'])"
   ]
  },
  {
   "cell_type": "code",
   "execution_count": 143,
   "id": "b0d4ab77",
   "metadata": {},
   "outputs": [
    {
     "data": {
      "text/html": [
       "<div>\n",
       "<style scoped>\n",
       "    .dataframe tbody tr th:only-of-type {\n",
       "        vertical-align: middle;\n",
       "    }\n",
       "\n",
       "    .dataframe tbody tr th {\n",
       "        vertical-align: top;\n",
       "    }\n",
       "\n",
       "    .dataframe thead th {\n",
       "        text-align: right;\n",
       "    }\n",
       "</style>\n",
       "<table border=\"1\" class=\"dataframe\">\n",
       "  <thead>\n",
       "    <tr style=\"text-align: right;\">\n",
       "      <th></th>\n",
       "      <th>A</th>\n",
       "      <th>B</th>\n",
       "    </tr>\n",
       "  </thead>\n",
       "  <tbody>\n",
       "    <tr>\n",
       "      <th>0</th>\n",
       "      <td>4</td>\n",
       "      <td>9</td>\n",
       "    </tr>\n",
       "    <tr>\n",
       "      <th>1</th>\n",
       "      <td>4</td>\n",
       "      <td>9</td>\n",
       "    </tr>\n",
       "    <tr>\n",
       "      <th>2</th>\n",
       "      <td>4</td>\n",
       "      <td>9</td>\n",
       "    </tr>\n",
       "  </tbody>\n",
       "</table>\n",
       "</div>"
      ],
      "text/plain": [
       "   A  B\n",
       "0  4  9\n",
       "1  4  9\n",
       "2  4  9"
      ]
     },
     "execution_count": 143,
     "metadata": {},
     "output_type": "execute_result"
    }
   ],
   "source": [
    "df"
   ]
  },
  {
   "cell_type": "code",
   "execution_count": 144,
   "id": "6ead147b",
   "metadata": {},
   "outputs": [
    {
     "data": {
      "text/html": [
       "<div>\n",
       "<style scoped>\n",
       "    .dataframe tbody tr th:only-of-type {\n",
       "        vertical-align: middle;\n",
       "    }\n",
       "\n",
       "    .dataframe tbody tr th {\n",
       "        vertical-align: top;\n",
       "    }\n",
       "\n",
       "    .dataframe thead th {\n",
       "        text-align: right;\n",
       "    }\n",
       "</style>\n",
       "<table border=\"1\" class=\"dataframe\">\n",
       "  <thead>\n",
       "    <tr style=\"text-align: right;\">\n",
       "      <th></th>\n",
       "      <th>A</th>\n",
       "      <th>B</th>\n",
       "    </tr>\n",
       "  </thead>\n",
       "  <tbody>\n",
       "    <tr>\n",
       "      <th>0</th>\n",
       "      <td>2.0</td>\n",
       "      <td>3.0</td>\n",
       "    </tr>\n",
       "    <tr>\n",
       "      <th>1</th>\n",
       "      <td>2.0</td>\n",
       "      <td>3.0</td>\n",
       "    </tr>\n",
       "    <tr>\n",
       "      <th>2</th>\n",
       "      <td>2.0</td>\n",
       "      <td>3.0</td>\n",
       "    </tr>\n",
       "  </tbody>\n",
       "</table>\n",
       "</div>"
      ],
      "text/plain": [
       "     A    B\n",
       "0  2.0  3.0\n",
       "1  2.0  3.0\n",
       "2  2.0  3.0"
      ]
     },
     "execution_count": 144,
     "metadata": {},
     "output_type": "execute_result"
    }
   ],
   "source": [
    "df.apply(np.sqrt)"
   ]
  },
  {
   "cell_type": "markdown",
   "id": "377b54b0",
   "metadata": {},
   "source": [
    "# Q14: Why do should make a copy of a DataFrame in Pandas?\n",
    "Junior \n",
    "\n",
    "In general, it is safer to work on copies than on original DataFrames, except when you know that you won't be needing the original anymore and want to proceed with the manipulated version.\n",
    "\n",
    "This is because in Pandas, indexing a DataFrame returns a reference to the initial DataFrame. Thus, changing the subset will change the initial DataFrame. Thus, you'd want to use the copy if you want to make sure the initial DataFrame shouldn't change.\n",
    "\n",
    "Normally, you would still have some use for the original data frame to compare with the manipulated version, etc. Therefore, depending on the case it's a good practice to work on copies and merge at the end."
   ]
  },
  {
   "cell_type": "markdown",
   "id": "71a462c2",
   "metadata": {},
   "source": [
    "#  Q15 Describe how you can combine (merge) data on Common Columns or Indices?\n",
    "\n",
    "Using .merge() method which merges DataFrame or named Series objects with a database-style join. You have inner, left, right and outer merge operation.\n",
    "\n",
    "By default, the Pandas merge operation acts with an “inner” merge. An inner merge, keeps only the common values in both the left and right dataframes for the result.\n",
    "\n",
    "Left merge, keeps every row in the left dataframe. Where there are missing values of the “on” variable in the right dataframe, it adds empty / NaN values in the result.\n",
    "Right merge, keeps every row in the right dataframe. Where there are missing values of the “on” variable in the left column, it adds empty / NaN values in the result.\n",
    "A full outer join returns all the rows from the left dataframe, all the rows from the right dataframe, and matches up rows where possible, with NaNs elsewhere"
   ]
  },
  {
   "cell_type": "code",
   "execution_count": 3,
   "id": "412f0158",
   "metadata": {},
   "outputs": [],
   "source": [
    "df1 = pd.DataFrame({'a': ['foo', 'bar'], 'b': [1, 2]})\n",
    "df2 = pd.DataFrame({'a': ['foo', 'baz'], 'c': [3, 4]})\n"
   ]
  },
  {
   "cell_type": "code",
   "execution_count": 4,
   "id": "fdda0da7",
   "metadata": {},
   "outputs": [
    {
     "data": {
      "text/html": [
       "<div>\n",
       "<style scoped>\n",
       "    .dataframe tbody tr th:only-of-type {\n",
       "        vertical-align: middle;\n",
       "    }\n",
       "\n",
       "    .dataframe tbody tr th {\n",
       "        vertical-align: top;\n",
       "    }\n",
       "\n",
       "    .dataframe thead th {\n",
       "        text-align: right;\n",
       "    }\n",
       "</style>\n",
       "<table border=\"1\" class=\"dataframe\">\n",
       "  <thead>\n",
       "    <tr style=\"text-align: right;\">\n",
       "      <th></th>\n",
       "      <th>a</th>\n",
       "      <th>b</th>\n",
       "    </tr>\n",
       "  </thead>\n",
       "  <tbody>\n",
       "    <tr>\n",
       "      <th>0</th>\n",
       "      <td>foo</td>\n",
       "      <td>1</td>\n",
       "    </tr>\n",
       "    <tr>\n",
       "      <th>1</th>\n",
       "      <td>bar</td>\n",
       "      <td>2</td>\n",
       "    </tr>\n",
       "  </tbody>\n",
       "</table>\n",
       "</div>"
      ],
      "text/plain": [
       "     a  b\n",
       "0  foo  1\n",
       "1  bar  2"
      ]
     },
     "execution_count": 4,
     "metadata": {},
     "output_type": "execute_result"
    }
   ],
   "source": [
    "df1"
   ]
  },
  {
   "cell_type": "code",
   "execution_count": 5,
   "id": "130004d7",
   "metadata": {},
   "outputs": [
    {
     "data": {
      "text/html": [
       "<div>\n",
       "<style scoped>\n",
       "    .dataframe tbody tr th:only-of-type {\n",
       "        vertical-align: middle;\n",
       "    }\n",
       "\n",
       "    .dataframe tbody tr th {\n",
       "        vertical-align: top;\n",
       "    }\n",
       "\n",
       "    .dataframe thead th {\n",
       "        text-align: right;\n",
       "    }\n",
       "</style>\n",
       "<table border=\"1\" class=\"dataframe\">\n",
       "  <thead>\n",
       "    <tr style=\"text-align: right;\">\n",
       "      <th></th>\n",
       "      <th>a</th>\n",
       "      <th>c</th>\n",
       "    </tr>\n",
       "  </thead>\n",
       "  <tbody>\n",
       "    <tr>\n",
       "      <th>0</th>\n",
       "      <td>foo</td>\n",
       "      <td>3</td>\n",
       "    </tr>\n",
       "    <tr>\n",
       "      <th>1</th>\n",
       "      <td>baz</td>\n",
       "      <td>4</td>\n",
       "    </tr>\n",
       "  </tbody>\n",
       "</table>\n",
       "</div>"
      ],
      "text/plain": [
       "     a  c\n",
       "0  foo  3\n",
       "1  baz  4"
      ]
     },
     "execution_count": 5,
     "metadata": {},
     "output_type": "execute_result"
    }
   ],
   "source": [
    "df2"
   ]
  },
  {
   "cell_type": "code",
   "execution_count": 8,
   "id": "a125db49",
   "metadata": {},
   "outputs": [],
   "source": [
    "df_inner =df1.merge(df2,how= 'inner',on='a')"
   ]
  },
  {
   "cell_type": "code",
   "execution_count": 9,
   "id": "dea5ff26",
   "metadata": {},
   "outputs": [
    {
     "data": {
      "text/html": [
       "<div>\n",
       "<style scoped>\n",
       "    .dataframe tbody tr th:only-of-type {\n",
       "        vertical-align: middle;\n",
       "    }\n",
       "\n",
       "    .dataframe tbody tr th {\n",
       "        vertical-align: top;\n",
       "    }\n",
       "\n",
       "    .dataframe thead th {\n",
       "        text-align: right;\n",
       "    }\n",
       "</style>\n",
       "<table border=\"1\" class=\"dataframe\">\n",
       "  <thead>\n",
       "    <tr style=\"text-align: right;\">\n",
       "      <th></th>\n",
       "      <th>a</th>\n",
       "      <th>b</th>\n",
       "      <th>c</th>\n",
       "    </tr>\n",
       "  </thead>\n",
       "  <tbody>\n",
       "    <tr>\n",
       "      <th>0</th>\n",
       "      <td>foo</td>\n",
       "      <td>1</td>\n",
       "      <td>3</td>\n",
       "    </tr>\n",
       "  </tbody>\n",
       "</table>\n",
       "</div>"
      ],
      "text/plain": [
       "     a  b  c\n",
       "0  foo  1  3"
      ]
     },
     "execution_count": 9,
     "metadata": {},
     "output_type": "execute_result"
    }
   ],
   "source": [
    "df_inner"
   ]
  },
  {
   "cell_type": "code",
   "execution_count": 11,
   "id": "16d7a03b",
   "metadata": {},
   "outputs": [],
   "source": [
    "df_left = df1.merge(df2,how = 'left',on ='a')"
   ]
  },
  {
   "cell_type": "code",
   "execution_count": 12,
   "id": "e4014000",
   "metadata": {},
   "outputs": [
    {
     "data": {
      "text/html": [
       "<div>\n",
       "<style scoped>\n",
       "    .dataframe tbody tr th:only-of-type {\n",
       "        vertical-align: middle;\n",
       "    }\n",
       "\n",
       "    .dataframe tbody tr th {\n",
       "        vertical-align: top;\n",
       "    }\n",
       "\n",
       "    .dataframe thead th {\n",
       "        text-align: right;\n",
       "    }\n",
       "</style>\n",
       "<table border=\"1\" class=\"dataframe\">\n",
       "  <thead>\n",
       "    <tr style=\"text-align: right;\">\n",
       "      <th></th>\n",
       "      <th>a</th>\n",
       "      <th>b</th>\n",
       "      <th>c</th>\n",
       "    </tr>\n",
       "  </thead>\n",
       "  <tbody>\n",
       "    <tr>\n",
       "      <th>0</th>\n",
       "      <td>foo</td>\n",
       "      <td>1</td>\n",
       "      <td>3.0</td>\n",
       "    </tr>\n",
       "    <tr>\n",
       "      <th>1</th>\n",
       "      <td>bar</td>\n",
       "      <td>2</td>\n",
       "      <td>NaN</td>\n",
       "    </tr>\n",
       "  </tbody>\n",
       "</table>\n",
       "</div>"
      ],
      "text/plain": [
       "     a  b    c\n",
       "0  foo  1  3.0\n",
       "1  bar  2  NaN"
      ]
     },
     "execution_count": 12,
     "metadata": {},
     "output_type": "execute_result"
    }
   ],
   "source": [
    "df_left"
   ]
  },
  {
   "cell_type": "code",
   "execution_count": 13,
   "id": "d4cd8916",
   "metadata": {},
   "outputs": [],
   "source": [
    "df_right = df1.merge(df2,how='right',on='a')"
   ]
  },
  {
   "cell_type": "code",
   "execution_count": 14,
   "id": "72c8c9de",
   "metadata": {},
   "outputs": [
    {
     "data": {
      "text/html": [
       "<div>\n",
       "<style scoped>\n",
       "    .dataframe tbody tr th:only-of-type {\n",
       "        vertical-align: middle;\n",
       "    }\n",
       "\n",
       "    .dataframe tbody tr th {\n",
       "        vertical-align: top;\n",
       "    }\n",
       "\n",
       "    .dataframe thead th {\n",
       "        text-align: right;\n",
       "    }\n",
       "</style>\n",
       "<table border=\"1\" class=\"dataframe\">\n",
       "  <thead>\n",
       "    <tr style=\"text-align: right;\">\n",
       "      <th></th>\n",
       "      <th>a</th>\n",
       "      <th>b</th>\n",
       "      <th>c</th>\n",
       "    </tr>\n",
       "  </thead>\n",
       "  <tbody>\n",
       "    <tr>\n",
       "      <th>0</th>\n",
       "      <td>foo</td>\n",
       "      <td>1.0</td>\n",
       "      <td>3</td>\n",
       "    </tr>\n",
       "    <tr>\n",
       "      <th>1</th>\n",
       "      <td>baz</td>\n",
       "      <td>NaN</td>\n",
       "      <td>4</td>\n",
       "    </tr>\n",
       "  </tbody>\n",
       "</table>\n",
       "</div>"
      ],
      "text/plain": [
       "     a    b  c\n",
       "0  foo  1.0  3\n",
       "1  baz  NaN  4"
      ]
     },
     "execution_count": 14,
     "metadata": {},
     "output_type": "execute_result"
    }
   ],
   "source": [
    "df_right"
   ]
  },
  {
   "cell_type": "code",
   "execution_count": 16,
   "id": "2d397ecc",
   "metadata": {},
   "outputs": [],
   "source": [
    "df_full = df1.merge(df2,how='outer',on='a')"
   ]
  },
  {
   "cell_type": "code",
   "execution_count": 17,
   "id": "d9818314",
   "metadata": {},
   "outputs": [
    {
     "data": {
      "text/html": [
       "<div>\n",
       "<style scoped>\n",
       "    .dataframe tbody tr th:only-of-type {\n",
       "        vertical-align: middle;\n",
       "    }\n",
       "\n",
       "    .dataframe tbody tr th {\n",
       "        vertical-align: top;\n",
       "    }\n",
       "\n",
       "    .dataframe thead th {\n",
       "        text-align: right;\n",
       "    }\n",
       "</style>\n",
       "<table border=\"1\" class=\"dataframe\">\n",
       "  <thead>\n",
       "    <tr style=\"text-align: right;\">\n",
       "      <th></th>\n",
       "      <th>a</th>\n",
       "      <th>b</th>\n",
       "      <th>c</th>\n",
       "    </tr>\n",
       "  </thead>\n",
       "  <tbody>\n",
       "    <tr>\n",
       "      <th>0</th>\n",
       "      <td>foo</td>\n",
       "      <td>1.0</td>\n",
       "      <td>3.0</td>\n",
       "    </tr>\n",
       "    <tr>\n",
       "      <th>1</th>\n",
       "      <td>bar</td>\n",
       "      <td>2.0</td>\n",
       "      <td>NaN</td>\n",
       "    </tr>\n",
       "    <tr>\n",
       "      <th>2</th>\n",
       "      <td>baz</td>\n",
       "      <td>NaN</td>\n",
       "      <td>4.0</td>\n",
       "    </tr>\n",
       "  </tbody>\n",
       "</table>\n",
       "</div>"
      ],
      "text/plain": [
       "     a    b    c\n",
       "0  foo  1.0  3.0\n",
       "1  bar  2.0  NaN\n",
       "2  baz  NaN  4.0"
      ]
     },
     "execution_count": 17,
     "metadata": {},
     "output_type": "execute_result"
    }
   ],
   "source": [
    "df_full"
   ]
  },
  {
   "cell_type": "markdown",
   "id": "4ec709db",
   "metadata": {},
   "source": [
    "# Q17: Find a way to binary encode multi-valued categorical variables from a Pandas dataframe"
   ]
  },
  {
   "cell_type": "code",
   "execution_count": 18,
   "id": "f61a9c61",
   "metadata": {},
   "outputs": [
    {
     "data": {
      "text/html": [
       "<div>\n",
       "<style scoped>\n",
       "    .dataframe tbody tr th:only-of-type {\n",
       "        vertical-align: middle;\n",
       "    }\n",
       "\n",
       "    .dataframe tbody tr th {\n",
       "        vertical-align: top;\n",
       "    }\n",
       "\n",
       "    .dataframe thead tr th {\n",
       "        text-align: left;\n",
       "    }\n",
       "\n",
       "    .dataframe thead tr:last-of-type th {\n",
       "        text-align: right;\n",
       "    }\n",
       "</style>\n",
       "<table border=\"1\" class=\"dataframe\">\n",
       "  <thead>\n",
       "    <tr>\n",
       "      <th></th>\n",
       "      <th colspan=\"4\" halign=\"left\">len</th>\n",
       "    </tr>\n",
       "    <tr>\n",
       "      <th>category</th>\n",
       "      <th>A</th>\n",
       "      <th>B</th>\n",
       "      <th>C</th>\n",
       "      <th>D</th>\n",
       "    </tr>\n",
       "    <tr>\n",
       "      <th>number_label</th>\n",
       "      <th></th>\n",
       "      <th></th>\n",
       "      <th></th>\n",
       "      <th></th>\n",
       "    </tr>\n",
       "  </thead>\n",
       "  <tbody>\n",
       "    <tr>\n",
       "      <th>0</th>\n",
       "      <td>1</td>\n",
       "      <td>1</td>\n",
       "      <td>0</td>\n",
       "      <td>0</td>\n",
       "    </tr>\n",
       "    <tr>\n",
       "      <th>1</th>\n",
       "      <td>0</td>\n",
       "      <td>1</td>\n",
       "      <td>1</td>\n",
       "      <td>1</td>\n",
       "    </tr>\n",
       "    <tr>\n",
       "      <th>2</th>\n",
       "      <td>0</td>\n",
       "      <td>1</td>\n",
       "      <td>0</td>\n",
       "      <td>1</td>\n",
       "    </tr>\n",
       "  </tbody>\n",
       "</table>\n",
       "</div>"
      ],
      "text/plain": [
       "             len         \n",
       "category       A  B  C  D\n",
       "number_label             \n",
       "0              1  1  0  0\n",
       "1              0  1  1  1\n",
       "2              0  1  0  1"
      ]
     },
     "execution_count": 18,
     "metadata": {},
     "output_type": "execute_result"
    }
   ],
   "source": [
    "data = pd.DataFrame.from_records(\n",
    "    [[0, 'A'], [0, 'B'], [1, 'B'], [1, 'C'], [1, 'D'], [2, 'B'], [2, 'D']],\n",
    "    columns=['number_label', 'category'])\n",
    "data.pivot_table(index=['number_label'], columns=['category'], aggfunc=[len], fill_value=0)"
   ]
  },
  {
   "cell_type": "markdown",
   "id": "82b537a1",
   "metadata": {},
   "source": [
    "# IMP\n",
    "# Q18: Group DataFrame Rows into a List\n",
    "\n",
    "You are given the Pandas DataFrame shown below, \n",
    "your task is to group the DataFrame rows into a list, and return a final DataFrame.\n",
    "\n",
    "The approach here is to use groupby to group on the column of interest and then use the apply() method to apply list the function to every group generated:"
   ]
  },
  {
   "cell_type": "code",
   "execution_count": 19,
   "id": "0e4663eb",
   "metadata": {},
   "outputs": [],
   "source": [
    "df = pd.DataFrame( {'a':['A','A','B','B','B','C'], 'b':[1,2,5,5,4,6]})"
   ]
  },
  {
   "cell_type": "code",
   "execution_count": 20,
   "id": "1761b0ed",
   "metadata": {},
   "outputs": [
    {
     "data": {
      "text/html": [
       "<div>\n",
       "<style scoped>\n",
       "    .dataframe tbody tr th:only-of-type {\n",
       "        vertical-align: middle;\n",
       "    }\n",
       "\n",
       "    .dataframe tbody tr th {\n",
       "        vertical-align: top;\n",
       "    }\n",
       "\n",
       "    .dataframe thead th {\n",
       "        text-align: right;\n",
       "    }\n",
       "</style>\n",
       "<table border=\"1\" class=\"dataframe\">\n",
       "  <thead>\n",
       "    <tr style=\"text-align: right;\">\n",
       "      <th></th>\n",
       "      <th>a</th>\n",
       "      <th>b</th>\n",
       "    </tr>\n",
       "  </thead>\n",
       "  <tbody>\n",
       "    <tr>\n",
       "      <th>0</th>\n",
       "      <td>A</td>\n",
       "      <td>1</td>\n",
       "    </tr>\n",
       "    <tr>\n",
       "      <th>1</th>\n",
       "      <td>A</td>\n",
       "      <td>2</td>\n",
       "    </tr>\n",
       "    <tr>\n",
       "      <th>2</th>\n",
       "      <td>B</td>\n",
       "      <td>5</td>\n",
       "    </tr>\n",
       "    <tr>\n",
       "      <th>3</th>\n",
       "      <td>B</td>\n",
       "      <td>5</td>\n",
       "    </tr>\n",
       "    <tr>\n",
       "      <th>4</th>\n",
       "      <td>B</td>\n",
       "      <td>4</td>\n",
       "    </tr>\n",
       "    <tr>\n",
       "      <th>5</th>\n",
       "      <td>C</td>\n",
       "      <td>6</td>\n",
       "    </tr>\n",
       "  </tbody>\n",
       "</table>\n",
       "</div>"
      ],
      "text/plain": [
       "   a  b\n",
       "0  A  1\n",
       "1  A  2\n",
       "2  B  5\n",
       "3  B  5\n",
       "4  B  4\n",
       "5  C  6"
      ]
     },
     "execution_count": 20,
     "metadata": {},
     "output_type": "execute_result"
    }
   ],
   "source": [
    "df"
   ]
  },
  {
   "cell_type": "code",
   "execution_count": 34,
   "id": "c5fbcbf1",
   "metadata": {},
   "outputs": [],
   "source": [
    "row_list = df.groupby('a')['b']"
   ]
  },
  {
   "cell_type": "code",
   "execution_count": 35,
   "id": "b2806691",
   "metadata": {},
   "outputs": [
    {
     "data": {
      "text/html": [
       "<div>\n",
       "<style scoped>\n",
       "    .dataframe tbody tr th:only-of-type {\n",
       "        vertical-align: middle;\n",
       "    }\n",
       "\n",
       "    .dataframe tbody tr th {\n",
       "        vertical-align: top;\n",
       "    }\n",
       "\n",
       "    .dataframe thead th {\n",
       "        text-align: right;\n",
       "    }\n",
       "</style>\n",
       "<table border=\"1\" class=\"dataframe\">\n",
       "  <thead>\n",
       "    <tr style=\"text-align: right;\">\n",
       "      <th></th>\n",
       "      <th>a</th>\n",
       "      <th>b</th>\n",
       "    </tr>\n",
       "  </thead>\n",
       "  <tbody>\n",
       "    <tr>\n",
       "      <th>0</th>\n",
       "      <td>A</td>\n",
       "      <td>[1, 2]</td>\n",
       "    </tr>\n",
       "    <tr>\n",
       "      <th>1</th>\n",
       "      <td>B</td>\n",
       "      <td>[5, 5, 4]</td>\n",
       "    </tr>\n",
       "    <tr>\n",
       "      <th>2</th>\n",
       "      <td>C</td>\n",
       "      <td>[6]</td>\n",
       "    </tr>\n",
       "  </tbody>\n",
       "</table>\n",
       "</div>"
      ],
      "text/plain": [
       "   a          b\n",
       "0  A     [1, 2]\n",
       "1  B  [5, 5, 4]\n",
       "2  C        [6]"
      ]
     },
     "execution_count": 35,
     "metadata": {},
     "output_type": "execute_result"
    }
   ],
   "source": [
    "row_list.apply(list).reset_index()"
   ]
  },
  {
   "cell_type": "markdown",
   "id": "0a6fb109",
   "metadata": {},
   "source": [
    "# Q19: How can I achieve the equivalents of SQL's IN and NOT IN in Pandas?\n",
    "\n",
    "Use pd.Series.isin.\n",
    "For IN use: something.isin(somewhere)\n",
    "\n",
    "df[df['A'].isin([3, 6])]"
   ]
  },
  {
   "cell_type": "markdown",
   "id": "7efbec62",
   "metadata": {},
   "source": [
    "# Q20: How do you split a DataFrame according to a boolean criterion?"
   ]
  },
  {
   "cell_type": "code",
   "execution_count": 4,
   "id": "49805ca8",
   "metadata": {},
   "outputs": [],
   "source": [
    "df = pd.DataFrame({'A': 'foo bar foo bar foo bar foo foo'.split(),\n",
    "                   'B': 'one one two three two two one three'.split(),\n",
    "                   'C': np.arange(8), 'D': np.arange(8) * 2})"
   ]
  },
  {
   "cell_type": "code",
   "execution_count": 38,
   "id": "32921fc7",
   "metadata": {},
   "outputs": [
    {
     "data": {
      "text/html": [
       "<div>\n",
       "<style scoped>\n",
       "    .dataframe tbody tr th:only-of-type {\n",
       "        vertical-align: middle;\n",
       "    }\n",
       "\n",
       "    .dataframe tbody tr th {\n",
       "        vertical-align: top;\n",
       "    }\n",
       "\n",
       "    .dataframe thead th {\n",
       "        text-align: right;\n",
       "    }\n",
       "</style>\n",
       "<table border=\"1\" class=\"dataframe\">\n",
       "  <thead>\n",
       "    <tr style=\"text-align: right;\">\n",
       "      <th></th>\n",
       "      <th>A</th>\n",
       "      <th>B</th>\n",
       "      <th>C</th>\n",
       "      <th>D</th>\n",
       "    </tr>\n",
       "  </thead>\n",
       "  <tbody>\n",
       "    <tr>\n",
       "      <th>0</th>\n",
       "      <td>foo</td>\n",
       "      <td>one</td>\n",
       "      <td>0</td>\n",
       "      <td>0</td>\n",
       "    </tr>\n",
       "    <tr>\n",
       "      <th>1</th>\n",
       "      <td>bar</td>\n",
       "      <td>one</td>\n",
       "      <td>1</td>\n",
       "      <td>2</td>\n",
       "    </tr>\n",
       "    <tr>\n",
       "      <th>2</th>\n",
       "      <td>foo</td>\n",
       "      <td>two</td>\n",
       "      <td>2</td>\n",
       "      <td>4</td>\n",
       "    </tr>\n",
       "    <tr>\n",
       "      <th>3</th>\n",
       "      <td>bar</td>\n",
       "      <td>three</td>\n",
       "      <td>3</td>\n",
       "      <td>6</td>\n",
       "    </tr>\n",
       "    <tr>\n",
       "      <th>4</th>\n",
       "      <td>foo</td>\n",
       "      <td>two</td>\n",
       "      <td>4</td>\n",
       "      <td>8</td>\n",
       "    </tr>\n",
       "    <tr>\n",
       "      <th>5</th>\n",
       "      <td>bar</td>\n",
       "      <td>two</td>\n",
       "      <td>5</td>\n",
       "      <td>10</td>\n",
       "    </tr>\n",
       "    <tr>\n",
       "      <th>6</th>\n",
       "      <td>foo</td>\n",
       "      <td>one</td>\n",
       "      <td>6</td>\n",
       "      <td>12</td>\n",
       "    </tr>\n",
       "    <tr>\n",
       "      <th>7</th>\n",
       "      <td>foo</td>\n",
       "      <td>three</td>\n",
       "      <td>7</td>\n",
       "      <td>14</td>\n",
       "    </tr>\n",
       "  </tbody>\n",
       "</table>\n",
       "</div>"
      ],
      "text/plain": [
       "     A      B  C   D\n",
       "0  foo    one  0   0\n",
       "1  bar    one  1   2\n",
       "2  foo    two  2   4\n",
       "3  bar  three  3   6\n",
       "4  foo    two  4   8\n",
       "5  bar    two  5  10\n",
       "6  foo    one  6  12\n",
       "7  foo  three  7  14"
      ]
     },
     "execution_count": 38,
     "metadata": {},
     "output_type": "execute_result"
    }
   ],
   "source": [
    "df"
   ]
  },
  {
   "cell_type": "code",
   "execution_count": 39,
   "id": "289f042c",
   "metadata": {},
   "outputs": [],
   "source": [
    "m = df['A'] !='foo'\n",
    "\n",
    "# split the data frame \n",
    "\n",
    "a,b = df[m] ,df[~m]\n",
    "\n"
   ]
  },
  {
   "cell_type": "code",
   "execution_count": 40,
   "id": "3aaba85f",
   "metadata": {},
   "outputs": [
    {
     "data": {
      "text/html": [
       "<div>\n",
       "<style scoped>\n",
       "    .dataframe tbody tr th:only-of-type {\n",
       "        vertical-align: middle;\n",
       "    }\n",
       "\n",
       "    .dataframe tbody tr th {\n",
       "        vertical-align: top;\n",
       "    }\n",
       "\n",
       "    .dataframe thead th {\n",
       "        text-align: right;\n",
       "    }\n",
       "</style>\n",
       "<table border=\"1\" class=\"dataframe\">\n",
       "  <thead>\n",
       "    <tr style=\"text-align: right;\">\n",
       "      <th></th>\n",
       "      <th>A</th>\n",
       "      <th>B</th>\n",
       "      <th>C</th>\n",
       "      <th>D</th>\n",
       "    </tr>\n",
       "  </thead>\n",
       "  <tbody>\n",
       "    <tr>\n",
       "      <th>1</th>\n",
       "      <td>bar</td>\n",
       "      <td>one</td>\n",
       "      <td>1</td>\n",
       "      <td>2</td>\n",
       "    </tr>\n",
       "    <tr>\n",
       "      <th>3</th>\n",
       "      <td>bar</td>\n",
       "      <td>three</td>\n",
       "      <td>3</td>\n",
       "      <td>6</td>\n",
       "    </tr>\n",
       "    <tr>\n",
       "      <th>5</th>\n",
       "      <td>bar</td>\n",
       "      <td>two</td>\n",
       "      <td>5</td>\n",
       "      <td>10</td>\n",
       "    </tr>\n",
       "  </tbody>\n",
       "</table>\n",
       "</div>"
      ],
      "text/plain": [
       "     A      B  C   D\n",
       "1  bar    one  1   2\n",
       "3  bar  three  3   6\n",
       "5  bar    two  5  10"
      ]
     },
     "execution_count": 40,
     "metadata": {},
     "output_type": "execute_result"
    }
   ],
   "source": [
    "a"
   ]
  },
  {
   "cell_type": "code",
   "execution_count": 41,
   "id": "14386df2",
   "metadata": {},
   "outputs": [
    {
     "data": {
      "text/html": [
       "<div>\n",
       "<style scoped>\n",
       "    .dataframe tbody tr th:only-of-type {\n",
       "        vertical-align: middle;\n",
       "    }\n",
       "\n",
       "    .dataframe tbody tr th {\n",
       "        vertical-align: top;\n",
       "    }\n",
       "\n",
       "    .dataframe thead th {\n",
       "        text-align: right;\n",
       "    }\n",
       "</style>\n",
       "<table border=\"1\" class=\"dataframe\">\n",
       "  <thead>\n",
       "    <tr style=\"text-align: right;\">\n",
       "      <th></th>\n",
       "      <th>A</th>\n",
       "      <th>B</th>\n",
       "      <th>C</th>\n",
       "      <th>D</th>\n",
       "    </tr>\n",
       "  </thead>\n",
       "  <tbody>\n",
       "    <tr>\n",
       "      <th>0</th>\n",
       "      <td>foo</td>\n",
       "      <td>one</td>\n",
       "      <td>0</td>\n",
       "      <td>0</td>\n",
       "    </tr>\n",
       "    <tr>\n",
       "      <th>2</th>\n",
       "      <td>foo</td>\n",
       "      <td>two</td>\n",
       "      <td>2</td>\n",
       "      <td>4</td>\n",
       "    </tr>\n",
       "    <tr>\n",
       "      <th>4</th>\n",
       "      <td>foo</td>\n",
       "      <td>two</td>\n",
       "      <td>4</td>\n",
       "      <td>8</td>\n",
       "    </tr>\n",
       "    <tr>\n",
       "      <th>6</th>\n",
       "      <td>foo</td>\n",
       "      <td>one</td>\n",
       "      <td>6</td>\n",
       "      <td>12</td>\n",
       "    </tr>\n",
       "    <tr>\n",
       "      <th>7</th>\n",
       "      <td>foo</td>\n",
       "      <td>three</td>\n",
       "      <td>7</td>\n",
       "      <td>14</td>\n",
       "    </tr>\n",
       "  </tbody>\n",
       "</table>\n",
       "</div>"
      ],
      "text/plain": [
       "     A      B  C   D\n",
       "0  foo    one  0   0\n",
       "2  foo    two  2   4\n",
       "4  foo    two  4   8\n",
       "6  foo    one  6  12\n",
       "7  foo  three  7  14"
      ]
     },
     "execution_count": 41,
     "metadata": {},
     "output_type": "execute_result"
    }
   ],
   "source": [
    "b"
   ]
  },
  {
   "cell_type": "code",
   "execution_count": 91,
   "id": "f71afba9",
   "metadata": {},
   "outputs": [],
   "source": [
    "df = pd.DataFrame({'A': 'foo bar foo bar foo bar foo foo'.split(),\n",
    "                   'B': 'one one two three two two one three'.split(),\n",
    "                   'AA': ['Rohit Ray','Rajan kumar','Rohan sharma','Mohit Ray','Rohit sharma','Abshick Ray','Rajeev Ray','Rohit sharma'],\n",
    "                   'C': np.arange(8), 'D': np.arange(8) * 2})"
   ]
  },
  {
   "cell_type": "code",
   "execution_count": 92,
   "id": "b2a857a7",
   "metadata": {},
   "outputs": [
    {
     "data": {
      "text/html": [
       "<div>\n",
       "<style scoped>\n",
       "    .dataframe tbody tr th:only-of-type {\n",
       "        vertical-align: middle;\n",
       "    }\n",
       "\n",
       "    .dataframe tbody tr th {\n",
       "        vertical-align: top;\n",
       "    }\n",
       "\n",
       "    .dataframe thead th {\n",
       "        text-align: right;\n",
       "    }\n",
       "</style>\n",
       "<table border=\"1\" class=\"dataframe\">\n",
       "  <thead>\n",
       "    <tr style=\"text-align: right;\">\n",
       "      <th></th>\n",
       "      <th>A</th>\n",
       "      <th>B</th>\n",
       "      <th>AA</th>\n",
       "      <th>C</th>\n",
       "      <th>D</th>\n",
       "    </tr>\n",
       "  </thead>\n",
       "  <tbody>\n",
       "    <tr>\n",
       "      <th>0</th>\n",
       "      <td>foo</td>\n",
       "      <td>one</td>\n",
       "      <td>Rohit Ray</td>\n",
       "      <td>0</td>\n",
       "      <td>0</td>\n",
       "    </tr>\n",
       "    <tr>\n",
       "      <th>1</th>\n",
       "      <td>bar</td>\n",
       "      <td>one</td>\n",
       "      <td>Rajan kumar</td>\n",
       "      <td>1</td>\n",
       "      <td>2</td>\n",
       "    </tr>\n",
       "    <tr>\n",
       "      <th>2</th>\n",
       "      <td>foo</td>\n",
       "      <td>two</td>\n",
       "      <td>Rohan sharma</td>\n",
       "      <td>2</td>\n",
       "      <td>4</td>\n",
       "    </tr>\n",
       "    <tr>\n",
       "      <th>3</th>\n",
       "      <td>bar</td>\n",
       "      <td>three</td>\n",
       "      <td>Mohit Ray</td>\n",
       "      <td>3</td>\n",
       "      <td>6</td>\n",
       "    </tr>\n",
       "    <tr>\n",
       "      <th>4</th>\n",
       "      <td>foo</td>\n",
       "      <td>two</td>\n",
       "      <td>Rohit sharma</td>\n",
       "      <td>4</td>\n",
       "      <td>8</td>\n",
       "    </tr>\n",
       "    <tr>\n",
       "      <th>5</th>\n",
       "      <td>bar</td>\n",
       "      <td>two</td>\n",
       "      <td>Abshick Ray</td>\n",
       "      <td>5</td>\n",
       "      <td>10</td>\n",
       "    </tr>\n",
       "    <tr>\n",
       "      <th>6</th>\n",
       "      <td>foo</td>\n",
       "      <td>one</td>\n",
       "      <td>Rajeev Ray</td>\n",
       "      <td>6</td>\n",
       "      <td>12</td>\n",
       "    </tr>\n",
       "    <tr>\n",
       "      <th>7</th>\n",
       "      <td>foo</td>\n",
       "      <td>three</td>\n",
       "      <td>Rohit sharma</td>\n",
       "      <td>7</td>\n",
       "      <td>14</td>\n",
       "    </tr>\n",
       "  </tbody>\n",
       "</table>\n",
       "</div>"
      ],
      "text/plain": [
       "     A      B            AA  C   D\n",
       "0  foo    one     Rohit Ray  0   0\n",
       "1  bar    one   Rajan kumar  1   2\n",
       "2  foo    two  Rohan sharma  2   4\n",
       "3  bar  three     Mohit Ray  3   6\n",
       "4  foo    two  Rohit sharma  4   8\n",
       "5  bar    two   Abshick Ray  5  10\n",
       "6  foo    one    Rajeev Ray  6  12\n",
       "7  foo  three  Rohit sharma  7  14"
      ]
     },
     "execution_count": 92,
     "metadata": {},
     "output_type": "execute_result"
    }
   ],
   "source": [
    "df"
   ]
  },
  {
   "cell_type": "code",
   "execution_count": 93,
   "id": "6b99041d",
   "metadata": {},
   "outputs": [],
   "source": [
    " df[['First_name','Last_Name']] = df['AA'].str.split(n=1,expand=True)"
   ]
  },
  {
   "cell_type": "code",
   "execution_count": 94,
   "id": "df550f4d",
   "metadata": {},
   "outputs": [
    {
     "data": {
      "text/html": [
       "<div>\n",
       "<style scoped>\n",
       "    .dataframe tbody tr th:only-of-type {\n",
       "        vertical-align: middle;\n",
       "    }\n",
       "\n",
       "    .dataframe tbody tr th {\n",
       "        vertical-align: top;\n",
       "    }\n",
       "\n",
       "    .dataframe thead th {\n",
       "        text-align: right;\n",
       "    }\n",
       "</style>\n",
       "<table border=\"1\" class=\"dataframe\">\n",
       "  <thead>\n",
       "    <tr style=\"text-align: right;\">\n",
       "      <th></th>\n",
       "      <th>A</th>\n",
       "      <th>B</th>\n",
       "      <th>AA</th>\n",
       "      <th>C</th>\n",
       "      <th>D</th>\n",
       "      <th>First_name</th>\n",
       "      <th>Last_Name</th>\n",
       "    </tr>\n",
       "  </thead>\n",
       "  <tbody>\n",
       "    <tr>\n",
       "      <th>0</th>\n",
       "      <td>foo</td>\n",
       "      <td>one</td>\n",
       "      <td>Rohit Ray</td>\n",
       "      <td>0</td>\n",
       "      <td>0</td>\n",
       "      <td>Rohit</td>\n",
       "      <td>Ray</td>\n",
       "    </tr>\n",
       "    <tr>\n",
       "      <th>1</th>\n",
       "      <td>bar</td>\n",
       "      <td>one</td>\n",
       "      <td>Rajan kumar</td>\n",
       "      <td>1</td>\n",
       "      <td>2</td>\n",
       "      <td>Rajan</td>\n",
       "      <td>kumar</td>\n",
       "    </tr>\n",
       "    <tr>\n",
       "      <th>2</th>\n",
       "      <td>foo</td>\n",
       "      <td>two</td>\n",
       "      <td>Rohan sharma</td>\n",
       "      <td>2</td>\n",
       "      <td>4</td>\n",
       "      <td>Rohan</td>\n",
       "      <td>sharma</td>\n",
       "    </tr>\n",
       "    <tr>\n",
       "      <th>3</th>\n",
       "      <td>bar</td>\n",
       "      <td>three</td>\n",
       "      <td>Mohit Ray</td>\n",
       "      <td>3</td>\n",
       "      <td>6</td>\n",
       "      <td>Mohit</td>\n",
       "      <td>Ray</td>\n",
       "    </tr>\n",
       "    <tr>\n",
       "      <th>4</th>\n",
       "      <td>foo</td>\n",
       "      <td>two</td>\n",
       "      <td>Rohit sharma</td>\n",
       "      <td>4</td>\n",
       "      <td>8</td>\n",
       "      <td>Rohit</td>\n",
       "      <td>sharma</td>\n",
       "    </tr>\n",
       "    <tr>\n",
       "      <th>5</th>\n",
       "      <td>bar</td>\n",
       "      <td>two</td>\n",
       "      <td>Abshick Ray</td>\n",
       "      <td>5</td>\n",
       "      <td>10</td>\n",
       "      <td>Abshick</td>\n",
       "      <td>Ray</td>\n",
       "    </tr>\n",
       "    <tr>\n",
       "      <th>6</th>\n",
       "      <td>foo</td>\n",
       "      <td>one</td>\n",
       "      <td>Rajeev Ray</td>\n",
       "      <td>6</td>\n",
       "      <td>12</td>\n",
       "      <td>Rajeev</td>\n",
       "      <td>Ray</td>\n",
       "    </tr>\n",
       "    <tr>\n",
       "      <th>7</th>\n",
       "      <td>foo</td>\n",
       "      <td>three</td>\n",
       "      <td>Rohit sharma</td>\n",
       "      <td>7</td>\n",
       "      <td>14</td>\n",
       "      <td>Rohit</td>\n",
       "      <td>sharma</td>\n",
       "    </tr>\n",
       "  </tbody>\n",
       "</table>\n",
       "</div>"
      ],
      "text/plain": [
       "     A      B            AA  C   D First_name Last_Name\n",
       "0  foo    one     Rohit Ray  0   0      Rohit       Ray\n",
       "1  bar    one   Rajan kumar  1   2      Rajan     kumar\n",
       "2  foo    two  Rohan sharma  2   4      Rohan    sharma\n",
       "3  bar  three     Mohit Ray  3   6      Mohit       Ray\n",
       "4  foo    two  Rohit sharma  4   8      Rohit    sharma\n",
       "5  bar    two   Abshick Ray  5  10    Abshick       Ray\n",
       "6  foo    one    Rajeev Ray  6  12     Rajeev       Ray\n",
       "7  foo  three  Rohit sharma  7  14      Rohit    sharma"
      ]
     },
     "execution_count": 94,
     "metadata": {},
     "output_type": "execute_result"
    }
   ],
   "source": [
    "df"
   ]
  },
  {
   "cell_type": "code",
   "execution_count": 95,
   "id": "793a6d56",
   "metadata": {},
   "outputs": [],
   "source": [
    "df1 = df[df[\"Last_Name\"] == \"Ray\"]\n",
    "#df2=df[df[\"Courses\"] == 'Spark'] \n"
   ]
  },
  {
   "cell_type": "code",
   "execution_count": 96,
   "id": "aee37200",
   "metadata": {},
   "outputs": [
    {
     "data": {
      "text/html": [
       "<div>\n",
       "<style scoped>\n",
       "    .dataframe tbody tr th:only-of-type {\n",
       "        vertical-align: middle;\n",
       "    }\n",
       "\n",
       "    .dataframe tbody tr th {\n",
       "        vertical-align: top;\n",
       "    }\n",
       "\n",
       "    .dataframe thead th {\n",
       "        text-align: right;\n",
       "    }\n",
       "</style>\n",
       "<table border=\"1\" class=\"dataframe\">\n",
       "  <thead>\n",
       "    <tr style=\"text-align: right;\">\n",
       "      <th></th>\n",
       "      <th>A</th>\n",
       "      <th>B</th>\n",
       "      <th>AA</th>\n",
       "      <th>C</th>\n",
       "      <th>D</th>\n",
       "      <th>First_name</th>\n",
       "      <th>Last_Name</th>\n",
       "    </tr>\n",
       "  </thead>\n",
       "  <tbody>\n",
       "    <tr>\n",
       "      <th>0</th>\n",
       "      <td>foo</td>\n",
       "      <td>one</td>\n",
       "      <td>Rohit Ray</td>\n",
       "      <td>0</td>\n",
       "      <td>0</td>\n",
       "      <td>Rohit</td>\n",
       "      <td>Ray</td>\n",
       "    </tr>\n",
       "    <tr>\n",
       "      <th>3</th>\n",
       "      <td>bar</td>\n",
       "      <td>three</td>\n",
       "      <td>Mohit Ray</td>\n",
       "      <td>3</td>\n",
       "      <td>6</td>\n",
       "      <td>Mohit</td>\n",
       "      <td>Ray</td>\n",
       "    </tr>\n",
       "    <tr>\n",
       "      <th>5</th>\n",
       "      <td>bar</td>\n",
       "      <td>two</td>\n",
       "      <td>Abshick Ray</td>\n",
       "      <td>5</td>\n",
       "      <td>10</td>\n",
       "      <td>Abshick</td>\n",
       "      <td>Ray</td>\n",
       "    </tr>\n",
       "    <tr>\n",
       "      <th>6</th>\n",
       "      <td>foo</td>\n",
       "      <td>one</td>\n",
       "      <td>Rajeev Ray</td>\n",
       "      <td>6</td>\n",
       "      <td>12</td>\n",
       "      <td>Rajeev</td>\n",
       "      <td>Ray</td>\n",
       "    </tr>\n",
       "  </tbody>\n",
       "</table>\n",
       "</div>"
      ],
      "text/plain": [
       "     A      B           AA  C   D First_name Last_Name\n",
       "0  foo    one    Rohit Ray  0   0      Rohit       Ray\n",
       "3  bar  three    Mohit Ray  3   6      Mohit       Ray\n",
       "5  bar    two  Abshick Ray  5  10    Abshick       Ray\n",
       "6  foo    one   Rajeev Ray  6  12     Rajeev       Ray"
      ]
     },
     "execution_count": 96,
     "metadata": {},
     "output_type": "execute_result"
    }
   ],
   "source": [
    "df1"
   ]
  },
  {
   "cell_type": "code",
   "execution_count": 97,
   "id": "70f7c0aa",
   "metadata": {},
   "outputs": [],
   "source": [
    " df2 = df[df['Last_Name'] == 'sharma']"
   ]
  },
  {
   "cell_type": "code",
   "execution_count": 98,
   "id": "50e3b9c2",
   "metadata": {},
   "outputs": [
    {
     "data": {
      "text/html": [
       "<div>\n",
       "<style scoped>\n",
       "    .dataframe tbody tr th:only-of-type {\n",
       "        vertical-align: middle;\n",
       "    }\n",
       "\n",
       "    .dataframe tbody tr th {\n",
       "        vertical-align: top;\n",
       "    }\n",
       "\n",
       "    .dataframe thead th {\n",
       "        text-align: right;\n",
       "    }\n",
       "</style>\n",
       "<table border=\"1\" class=\"dataframe\">\n",
       "  <thead>\n",
       "    <tr style=\"text-align: right;\">\n",
       "      <th></th>\n",
       "      <th>A</th>\n",
       "      <th>B</th>\n",
       "      <th>AA</th>\n",
       "      <th>C</th>\n",
       "      <th>D</th>\n",
       "      <th>First_name</th>\n",
       "      <th>Last_Name</th>\n",
       "    </tr>\n",
       "  </thead>\n",
       "  <tbody>\n",
       "    <tr>\n",
       "      <th>2</th>\n",
       "      <td>foo</td>\n",
       "      <td>two</td>\n",
       "      <td>Rohan sharma</td>\n",
       "      <td>2</td>\n",
       "      <td>4</td>\n",
       "      <td>Rohan</td>\n",
       "      <td>sharma</td>\n",
       "    </tr>\n",
       "    <tr>\n",
       "      <th>4</th>\n",
       "      <td>foo</td>\n",
       "      <td>two</td>\n",
       "      <td>Rohit sharma</td>\n",
       "      <td>4</td>\n",
       "      <td>8</td>\n",
       "      <td>Rohit</td>\n",
       "      <td>sharma</td>\n",
       "    </tr>\n",
       "    <tr>\n",
       "      <th>7</th>\n",
       "      <td>foo</td>\n",
       "      <td>three</td>\n",
       "      <td>Rohit sharma</td>\n",
       "      <td>7</td>\n",
       "      <td>14</td>\n",
       "      <td>Rohit</td>\n",
       "      <td>sharma</td>\n",
       "    </tr>\n",
       "  </tbody>\n",
       "</table>\n",
       "</div>"
      ],
      "text/plain": [
       "     A      B            AA  C   D First_name Last_Name\n",
       "2  foo    two  Rohan sharma  2   4      Rohan    sharma\n",
       "4  foo    two  Rohit sharma  4   8      Rohit    sharma\n",
       "7  foo  three  Rohit sharma  7  14      Rohit    sharma"
      ]
     },
     "execution_count": 98,
     "metadata": {},
     "output_type": "execute_result"
    }
   ],
   "source": [
    "df2"
   ]
  },
  {
   "cell_type": "code",
   "execution_count": 100,
   "id": "19ba25e9",
   "metadata": {},
   "outputs": [],
   "source": [
    "df3 = df[df['First_name']== 'Rohit']"
   ]
  },
  {
   "cell_type": "code",
   "execution_count": 101,
   "id": "a45181df",
   "metadata": {},
   "outputs": [
    {
     "data": {
      "text/html": [
       "<div>\n",
       "<style scoped>\n",
       "    .dataframe tbody tr th:only-of-type {\n",
       "        vertical-align: middle;\n",
       "    }\n",
       "\n",
       "    .dataframe tbody tr th {\n",
       "        vertical-align: top;\n",
       "    }\n",
       "\n",
       "    .dataframe thead th {\n",
       "        text-align: right;\n",
       "    }\n",
       "</style>\n",
       "<table border=\"1\" class=\"dataframe\">\n",
       "  <thead>\n",
       "    <tr style=\"text-align: right;\">\n",
       "      <th></th>\n",
       "      <th>A</th>\n",
       "      <th>B</th>\n",
       "      <th>AA</th>\n",
       "      <th>C</th>\n",
       "      <th>D</th>\n",
       "      <th>First_name</th>\n",
       "      <th>Last_Name</th>\n",
       "    </tr>\n",
       "  </thead>\n",
       "  <tbody>\n",
       "    <tr>\n",
       "      <th>0</th>\n",
       "      <td>foo</td>\n",
       "      <td>one</td>\n",
       "      <td>Rohit Ray</td>\n",
       "      <td>0</td>\n",
       "      <td>0</td>\n",
       "      <td>Rohit</td>\n",
       "      <td>Ray</td>\n",
       "    </tr>\n",
       "    <tr>\n",
       "      <th>4</th>\n",
       "      <td>foo</td>\n",
       "      <td>two</td>\n",
       "      <td>Rohit sharma</td>\n",
       "      <td>4</td>\n",
       "      <td>8</td>\n",
       "      <td>Rohit</td>\n",
       "      <td>sharma</td>\n",
       "    </tr>\n",
       "    <tr>\n",
       "      <th>7</th>\n",
       "      <td>foo</td>\n",
       "      <td>three</td>\n",
       "      <td>Rohit sharma</td>\n",
       "      <td>7</td>\n",
       "      <td>14</td>\n",
       "      <td>Rohit</td>\n",
       "      <td>sharma</td>\n",
       "    </tr>\n",
       "  </tbody>\n",
       "</table>\n",
       "</div>"
      ],
      "text/plain": [
       "     A      B            AA  C   D First_name Last_Name\n",
       "0  foo    one     Rohit Ray  0   0      Rohit       Ray\n",
       "4  foo    two  Rohit sharma  4   8      Rohit    sharma\n",
       "7  foo  three  Rohit sharma  7  14      Rohit    sharma"
      ]
     },
     "execution_count": 101,
     "metadata": {},
     "output_type": "execute_result"
    }
   ],
   "source": [
    "df3"
   ]
  },
  {
   "cell_type": "code",
   "execution_count": 116,
   "id": "d7758ae9",
   "metadata": {},
   "outputs": [],
   "source": [
    "s = 'ABCDEFGH'\n",
    "str1 = s.split()"
   ]
  },
  {
   "cell_type": "code",
   "execution_count": 117,
   "id": "16b3b443",
   "metadata": {},
   "outputs": [
    {
     "data": {
      "text/plain": [
       "['ABCDEFGH']"
      ]
     },
     "execution_count": 117,
     "metadata": {},
     "output_type": "execute_result"
    }
   ],
   "source": [
    "str1"
   ]
  },
  {
   "cell_type": "code",
   "execution_count": 118,
   "id": "0814e23a",
   "metadata": {},
   "outputs": [
    {
     "name": "stdout",
     "output_type": "stream",
     "text": [
      "ABCDEFGH\n"
     ]
    }
   ],
   "source": [
    "for i in str1:\n",
    "    print(i)"
   ]
  },
  {
   "cell_type": "code",
   "execution_count": 122,
   "id": "fbf71ed0",
   "metadata": {},
   "outputs": [
    {
     "ename": "TypeError",
     "evalue": "str.join() takes exactly one argument (2 given)",
     "output_type": "error",
     "traceback": [
      "\u001b[1;31m---------------------------------------------------------------------------\u001b[0m",
      "\u001b[1;31mTypeError\u001b[0m                                 Traceback (most recent call last)",
      "\u001b[1;32m~\\AppData\\Local\\Temp\\ipykernel_15004\\3391670651.py\u001b[0m in \u001b[0;36m<module>\u001b[1;34m\u001b[0m\n\u001b[0;32m      1\u001b[0m \u001b[0ma\u001b[0m \u001b[1;33m=\u001b[0m \u001b[1;33m[\u001b[0m\u001b[1;33m]\u001b[0m\u001b[1;33m\u001b[0m\u001b[1;33m\u001b[0m\u001b[0m\n\u001b[0;32m      2\u001b[0m \u001b[1;32mfor\u001b[0m \u001b[0mi\u001b[0m \u001b[1;32min\u001b[0m \u001b[0mrange\u001b[0m\u001b[1;33m(\u001b[0m\u001b[0mlen\u001b[0m\u001b[1;33m(\u001b[0m\u001b[0ms\u001b[0m\u001b[1;33m)\u001b[0m\u001b[1;33m)\u001b[0m\u001b[1;33m:\u001b[0m\u001b[1;33m\u001b[0m\u001b[1;33m\u001b[0m\u001b[0m\n\u001b[1;32m----> 3\u001b[1;33m     \u001b[1;34m''\u001b[0m\u001b[1;33m.\u001b[0m\u001b[0mjoin\u001b[0m\u001b[1;33m(\u001b[0m\u001b[0ms\u001b[0m\u001b[1;33m,\u001b[0m\u001b[1;36m2\u001b[0m\u001b[1;33m)\u001b[0m\u001b[1;33m\u001b[0m\u001b[1;33m\u001b[0m\u001b[0m\n\u001b[0m\u001b[0;32m      4\u001b[0m \u001b[1;33m\u001b[0m\u001b[0m\n",
      "\u001b[1;31mTypeError\u001b[0m: str.join() takes exactly one argument (2 given)"
     ]
    }
   ],
   "source": [
    "a = []\n",
    "for i in range(len(s)):\n",
    "    ''.join(s,2)\n",
    "    "
   ]
  },
  {
   "cell_type": "code",
   "execution_count": 126,
   "id": "48fe5abc",
   "metadata": {},
   "outputs": [],
   "source": [
    "s=\"a\"\n",
    "s1 =\"b\"\n",
    "res= s+s1"
   ]
  },
  {
   "cell_type": "code",
   "execution_count": 127,
   "id": "999ae41a",
   "metadata": {},
   "outputs": [
    {
     "data": {
      "text/plain": [
       "'ab'"
      ]
     },
     "execution_count": 127,
     "metadata": {},
     "output_type": "execute_result"
    }
   ],
   "source": [
    "res"
   ]
  },
  {
   "cell_type": "code",
   "execution_count": 5,
   "id": "4bccae7c",
   "metadata": {},
   "outputs": [],
   "source": [
    "# Below are quick example\n",
    "# Select Rows by Integer Index\n",
    "df2 = df.iloc[2]     # Select Row by Index\n",
    "df2 = df.iloc[[2,3,6]]    # Select Rows by Index List\n",
    "df2 = df.iloc[1:5]   # Select Rows by Integer Index Range\n",
    "df2 = df.iloc[:1]    # Select First Row\n",
    "df2 = df.iloc[:3]    # Select First 3 Rows\n",
    "df2 = df.iloc[-1:]   # Select Last Row\n",
    "df2 = df.iloc[-3:]   # Select Last 3 Row\n",
    "df2 = df.iloc[::2]   # Selects alternate rows\n",
    "\n",
    "# Select Rows by Index Labels\n",
    "df2 = df.loc['r2']          # Select Row by Index Label\n",
    "df2 = df.loc[['r2','r3','r6']]    # Select Rows by Index Label List\n",
    "df2 = df.loc['r1':'r5']     # Select Rows by Label Index Range\n",
    "df2 = df.loc['r1':'r5']     # Select Rows by Label Index Range\n",
    "df2 = df.loc['r1':'r5':2]   # Select Alternate Rows with in Index Labels"
   ]
  },
  {
   "cell_type": "code",
   "execution_count": 6,
   "id": "6c03b13c",
   "metadata": {},
   "outputs": [
    {
     "name": "stdout",
     "output_type": "stream",
     "text": [
      "    Courses    Fee Duration  Discount\n",
      "r1    Spark  20000   30days      1000\n",
      "r2  PySpark  25000   40days      2300\n",
      "r3   Hadoop  26000   35days      1500\n",
      "r4   Python  22000   40days      1200\n",
      "r5   pandas  24000      NaN      2500\n",
      "r6   Oracle  21000     None      2100\n",
      "r7     Java  22000   55days      2000\n"
     ]
    }
   ],
   "source": [
    "import pandas as pd\n",
    "import numpy as np\n",
    "technologies = {\n",
    "    'Courses':[\"Spark\",\"PySpark\",\"Hadoop\",\"Python\",\"pandas\",\"Oracle\",\"Java\"],\n",
    "    'Fee' :[20000,25000,26000,22000,24000,21000,22000],\n",
    "    'Duration':['30days','40days','35days','40days',np.nan,None,'55days'],\n",
    "    'Discount':[1000,2300,1500,1200,2500,2100,2000]\n",
    "               }\n",
    "index_labels=['r1','r2','r3','r4','r5','r6','r7']\n",
    "df = pd.DataFrame(technologies,index=index_labels)\n",
    "print(df)"
   ]
  },
  {
   "cell_type": "code",
   "execution_count": 7,
   "id": "633c5685",
   "metadata": {},
   "outputs": [
    {
     "data": {
      "text/html": [
       "<div>\n",
       "<style scoped>\n",
       "    .dataframe tbody tr th:only-of-type {\n",
       "        vertical-align: middle;\n",
       "    }\n",
       "\n",
       "    .dataframe tbody tr th {\n",
       "        vertical-align: top;\n",
       "    }\n",
       "\n",
       "    .dataframe thead th {\n",
       "        text-align: right;\n",
       "    }\n",
       "</style>\n",
       "<table border=\"1\" class=\"dataframe\">\n",
       "  <thead>\n",
       "    <tr style=\"text-align: right;\">\n",
       "      <th></th>\n",
       "      <th>Courses</th>\n",
       "      <th>Fee</th>\n",
       "      <th>Duration</th>\n",
       "      <th>Discount</th>\n",
       "    </tr>\n",
       "  </thead>\n",
       "  <tbody>\n",
       "    <tr>\n",
       "      <th>r1</th>\n",
       "      <td>Spark</td>\n",
       "      <td>20000</td>\n",
       "      <td>30days</td>\n",
       "      <td>1000</td>\n",
       "    </tr>\n",
       "    <tr>\n",
       "      <th>r2</th>\n",
       "      <td>PySpark</td>\n",
       "      <td>25000</td>\n",
       "      <td>40days</td>\n",
       "      <td>2300</td>\n",
       "    </tr>\n",
       "    <tr>\n",
       "      <th>r3</th>\n",
       "      <td>Hadoop</td>\n",
       "      <td>26000</td>\n",
       "      <td>35days</td>\n",
       "      <td>1500</td>\n",
       "    </tr>\n",
       "    <tr>\n",
       "      <th>r4</th>\n",
       "      <td>Python</td>\n",
       "      <td>22000</td>\n",
       "      <td>40days</td>\n",
       "      <td>1200</td>\n",
       "    </tr>\n",
       "    <tr>\n",
       "      <th>r5</th>\n",
       "      <td>pandas</td>\n",
       "      <td>24000</td>\n",
       "      <td>NaN</td>\n",
       "      <td>2500</td>\n",
       "    </tr>\n",
       "    <tr>\n",
       "      <th>r6</th>\n",
       "      <td>Oracle</td>\n",
       "      <td>21000</td>\n",
       "      <td>None</td>\n",
       "      <td>2100</td>\n",
       "    </tr>\n",
       "    <tr>\n",
       "      <th>r7</th>\n",
       "      <td>Java</td>\n",
       "      <td>22000</td>\n",
       "      <td>55days</td>\n",
       "      <td>2000</td>\n",
       "    </tr>\n",
       "  </tbody>\n",
       "</table>\n",
       "</div>"
      ],
      "text/plain": [
       "    Courses    Fee Duration  Discount\n",
       "r1    Spark  20000   30days      1000\n",
       "r2  PySpark  25000   40days      2300\n",
       "r3   Hadoop  26000   35days      1500\n",
       "r4   Python  22000   40days      1200\n",
       "r5   pandas  24000      NaN      2500\n",
       "r6   Oracle  21000     None      2100\n",
       "r7     Java  22000   55days      2000"
      ]
     },
     "execution_count": 7,
     "metadata": {},
     "output_type": "execute_result"
    }
   ],
   "source": [
    "df"
   ]
  },
  {
   "cell_type": "code",
   "execution_count": 8,
   "id": "03ebe475",
   "metadata": {},
   "outputs": [
    {
     "data": {
      "text/plain": [
       "Courses     Hadoop\n",
       "Fee          26000\n",
       "Duration    35days\n",
       "Discount      1500\n",
       "Name: r3, dtype: object"
      ]
     },
     "execution_count": 8,
     "metadata": {},
     "output_type": "execute_result"
    }
   ],
   "source": [
    "df.iloc[2]"
   ]
  },
  {
   "cell_type": "code",
   "execution_count": 10,
   "id": "176ce2fc",
   "metadata": {},
   "outputs": [
    {
     "data": {
      "text/html": [
       "<div>\n",
       "<style scoped>\n",
       "    .dataframe tbody tr th:only-of-type {\n",
       "        vertical-align: middle;\n",
       "    }\n",
       "\n",
       "    .dataframe tbody tr th {\n",
       "        vertical-align: top;\n",
       "    }\n",
       "\n",
       "    .dataframe thead th {\n",
       "        text-align: right;\n",
       "    }\n",
       "</style>\n",
       "<table border=\"1\" class=\"dataframe\">\n",
       "  <thead>\n",
       "    <tr style=\"text-align: right;\">\n",
       "      <th></th>\n",
       "      <th>Courses</th>\n",
       "      <th>Fee</th>\n",
       "      <th>Duration</th>\n",
       "      <th>Discount</th>\n",
       "    </tr>\n",
       "  </thead>\n",
       "  <tbody>\n",
       "    <tr>\n",
       "      <th>r2</th>\n",
       "      <td>PySpark</td>\n",
       "      <td>25000</td>\n",
       "      <td>40days</td>\n",
       "      <td>2300</td>\n",
       "    </tr>\n",
       "    <tr>\n",
       "      <th>r4</th>\n",
       "      <td>Python</td>\n",
       "      <td>22000</td>\n",
       "      <td>40days</td>\n",
       "      <td>1200</td>\n",
       "    </tr>\n",
       "    <tr>\n",
       "      <th>r6</th>\n",
       "      <td>Oracle</td>\n",
       "      <td>21000</td>\n",
       "      <td>None</td>\n",
       "      <td>2100</td>\n",
       "    </tr>\n",
       "  </tbody>\n",
       "</table>\n",
       "</div>"
      ],
      "text/plain": [
       "    Courses    Fee Duration  Discount\n",
       "r2  PySpark  25000   40days      2300\n",
       "r4   Python  22000   40days      1200\n",
       "r6   Oracle  21000     None      2100"
      ]
     },
     "execution_count": 10,
     "metadata": {},
     "output_type": "execute_result"
    }
   ],
   "source": [
    "df.iloc[[1,3,5]]"
   ]
  },
  {
   "cell_type": "markdown",
   "id": "0f05a850",
   "metadata": {},
   "source": [
    "# Quick Examples of Select Columns from Pandas DataFrame"
   ]
  },
  {
   "cell_type": "code",
   "execution_count": 11,
   "id": "fef5ce6c",
   "metadata": {},
   "outputs": [
    {
     "name": "stdout",
     "output_type": "stream",
     "text": [
      "   Courses    Fee Duration  Discount\n",
      "0    Spark  20000   30days      1000\n",
      "1  PySpark  25000   40days      2300\n"
     ]
    }
   ],
   "source": [
    "import pandas as pd\n",
    "technologies = {\n",
    "    'Courses':[\"Spark\",\"PySpark\"],\n",
    "    'Fee' :[20000,25000],\n",
    "    'Duration':['30days','40days'],\n",
    "    'Discount':[1000,2300]\n",
    "              }\n",
    "df = pd.DataFrame(technologies)\n",
    "print(df)"
   ]
  },
  {
   "cell_type": "code",
   "execution_count": 13,
   "id": "7be2f052",
   "metadata": {},
   "outputs": [
    {
     "data": {
      "text/html": [
       "<div>\n",
       "<style scoped>\n",
       "    .dataframe tbody tr th:only-of-type {\n",
       "        vertical-align: middle;\n",
       "    }\n",
       "\n",
       "    .dataframe tbody tr th {\n",
       "        vertical-align: top;\n",
       "    }\n",
       "\n",
       "    .dataframe thead th {\n",
       "        text-align: right;\n",
       "    }\n",
       "</style>\n",
       "<table border=\"1\" class=\"dataframe\">\n",
       "  <thead>\n",
       "    <tr style=\"text-align: right;\">\n",
       "      <th></th>\n",
       "      <th>Courses</th>\n",
       "      <th>Fee</th>\n",
       "      <th>Duration</th>\n",
       "      <th>Discount</th>\n",
       "    </tr>\n",
       "  </thead>\n",
       "  <tbody>\n",
       "    <tr>\n",
       "      <th>0</th>\n",
       "      <td>Spark</td>\n",
       "      <td>20000</td>\n",
       "      <td>30days</td>\n",
       "      <td>1000</td>\n",
       "    </tr>\n",
       "    <tr>\n",
       "      <th>1</th>\n",
       "      <td>PySpark</td>\n",
       "      <td>25000</td>\n",
       "      <td>40days</td>\n",
       "      <td>2300</td>\n",
       "    </tr>\n",
       "  </tbody>\n",
       "</table>\n",
       "</div>"
      ],
      "text/plain": [
       "   Courses    Fee Duration  Discount\n",
       "0    Spark  20000   30days      1000\n",
       "1  PySpark  25000   40days      2300"
      ]
     },
     "execution_count": 13,
     "metadata": {},
     "output_type": "execute_result"
    }
   ],
   "source": [
    "df"
   ]
  },
  {
   "cell_type": "code",
   "execution_count": 18,
   "id": "1434f5ea",
   "metadata": {},
   "outputs": [
    {
     "data": {
      "text/html": [
       "<div>\n",
       "<style scoped>\n",
       "    .dataframe tbody tr th:only-of-type {\n",
       "        vertical-align: middle;\n",
       "    }\n",
       "\n",
       "    .dataframe tbody tr th {\n",
       "        vertical-align: top;\n",
       "    }\n",
       "\n",
       "    .dataframe thead th {\n",
       "        text-align: right;\n",
       "    }\n",
       "</style>\n",
       "<table border=\"1\" class=\"dataframe\">\n",
       "  <thead>\n",
       "    <tr style=\"text-align: right;\">\n",
       "      <th></th>\n",
       "      <th>Courses</th>\n",
       "      <th>Fee</th>\n",
       "      <th>Duration</th>\n",
       "      <th>Discount</th>\n",
       "    </tr>\n",
       "  </thead>\n",
       "  <tbody>\n",
       "    <tr>\n",
       "      <th>0</th>\n",
       "      <td>Spark</td>\n",
       "      <td>20000</td>\n",
       "      <td>30days</td>\n",
       "      <td>1000</td>\n",
       "    </tr>\n",
       "    <tr>\n",
       "      <th>1</th>\n",
       "      <td>PySpark</td>\n",
       "      <td>25000</td>\n",
       "      <td>40days</td>\n",
       "      <td>2300</td>\n",
       "    </tr>\n",
       "  </tbody>\n",
       "</table>\n",
       "</div>"
      ],
      "text/plain": [
       "   Courses    Fee Duration  Discount\n",
       "0    Spark  20000   30days      1000\n",
       "1  PySpark  25000   40days      2300"
      ]
     },
     "execution_count": 18,
     "metadata": {},
     "output_type": "execute_result"
    }
   ],
   "source": [
    "df.loc[:,'Courses':]"
   ]
  },
  {
   "cell_type": "code",
   "execution_count": 19,
   "id": "dd0b60f8",
   "metadata": {},
   "outputs": [
    {
     "data": {
      "text/html": [
       "<div>\n",
       "<style scoped>\n",
       "    .dataframe tbody tr th:only-of-type {\n",
       "        vertical-align: middle;\n",
       "    }\n",
       "\n",
       "    .dataframe tbody tr th {\n",
       "        vertical-align: top;\n",
       "    }\n",
       "\n",
       "    .dataframe thead th {\n",
       "        text-align: right;\n",
       "    }\n",
       "</style>\n",
       "<table border=\"1\" class=\"dataframe\">\n",
       "  <thead>\n",
       "    <tr style=\"text-align: right;\">\n",
       "      <th></th>\n",
       "      <th>Courses</th>\n",
       "      <th>Fee</th>\n",
       "      <th>Duration</th>\n",
       "    </tr>\n",
       "  </thead>\n",
       "  <tbody>\n",
       "    <tr>\n",
       "      <th>0</th>\n",
       "      <td>Spark</td>\n",
       "      <td>20000</td>\n",
       "      <td>30days</td>\n",
       "    </tr>\n",
       "    <tr>\n",
       "      <th>1</th>\n",
       "      <td>PySpark</td>\n",
       "      <td>25000</td>\n",
       "      <td>40days</td>\n",
       "    </tr>\n",
       "  </tbody>\n",
       "</table>\n",
       "</div>"
      ],
      "text/plain": [
       "   Courses    Fee Duration\n",
       "0    Spark  20000   30days\n",
       "1  PySpark  25000   40days"
      ]
     },
     "execution_count": 19,
     "metadata": {},
     "output_type": "execute_result"
    }
   ],
   "source": [
    "df[[\"Courses\",\"Fee\",\"Duration\"]]"
   ]
  },
  {
   "cell_type": "code",
   "execution_count": 22,
   "id": "d34229c7",
   "metadata": {},
   "outputs": [
    {
     "data": {
      "text/html": [
       "<div>\n",
       "<style scoped>\n",
       "    .dataframe tbody tr th:only-of-type {\n",
       "        vertical-align: middle;\n",
       "    }\n",
       "\n",
       "    .dataframe tbody tr th {\n",
       "        vertical-align: top;\n",
       "    }\n",
       "\n",
       "    .dataframe thead th {\n",
       "        text-align: right;\n",
       "    }\n",
       "</style>\n",
       "<table border=\"1\" class=\"dataframe\">\n",
       "  <thead>\n",
       "    <tr style=\"text-align: right;\">\n",
       "      <th></th>\n",
       "      <th>Courses</th>\n",
       "      <th>Fee</th>\n",
       "      <th>Duration</th>\n",
       "    </tr>\n",
       "  </thead>\n",
       "  <tbody>\n",
       "    <tr>\n",
       "      <th>0</th>\n",
       "      <td>Spark</td>\n",
       "      <td>20000</td>\n",
       "      <td>30days</td>\n",
       "    </tr>\n",
       "    <tr>\n",
       "      <th>1</th>\n",
       "      <td>PySpark</td>\n",
       "      <td>25000</td>\n",
       "      <td>40days</td>\n",
       "    </tr>\n",
       "  </tbody>\n",
       "</table>\n",
       "</div>"
      ],
      "text/plain": [
       "   Courses    Fee Duration\n",
       "0    Spark  20000   30days\n",
       "1  PySpark  25000   40days"
      ]
     },
     "execution_count": 22,
     "metadata": {},
     "output_type": "execute_result"
    }
   ],
   "source": [
    "df.loc[:,[\"Courses\",\"Fee\",\"Duration\"]]"
   ]
  },
  {
   "cell_type": "code",
   "execution_count": 23,
   "id": "f40b7a11",
   "metadata": {},
   "outputs": [
    {
     "name": "stdout",
     "output_type": "stream",
     "text": [
      "   Courses    Fee Duration  Discount   Tutor\n",
      "0    Spark  20000   30days      1000  Michel\n",
      "1  PySpark  25000   40days      2300     Sam\n",
      "   Courses    Fee Duration\n",
      "0    Spark  20000   30days\n",
      "1  PySpark  25000   40days\n",
      "   Courses    Fee  Discount\n",
      "0    Spark  20000      1000\n",
      "1  PySpark  25000      2300\n",
      "     Fee Duration  Discount\n",
      "0  20000   30days      1000\n",
      "1  25000   40days      2300\n",
      "  Duration  Discount   Tutor\n",
      "0   30days      1000  Michel\n",
      "1   40days      2300     Sam\n",
      "   Courses    Fee Duration\n",
      "0    Spark  20000   30days\n",
      "1  PySpark  25000   40days\n",
      "   Courses Duration   Tutor\n",
      "0    Spark   30days  Michel\n",
      "1  PySpark   40days     Sam\n",
      "     Fee  Discount   Tutor\n",
      "0  20000      1000  Michel\n",
      "1  25000      2300     Sam\n",
      "     Fee Duration  Discount\n",
      "0  20000   30days      1000\n",
      "1  25000   40days      2300\n",
      "  Duration  Discount   Tutor\n",
      "0   30days      1000  Michel\n",
      "1   40days      2300     Sam\n",
      "   Courses    Fee\n",
      "0    Spark  20000\n",
      "1  PySpark  25000\n"
     ]
    }
   ],
   "source": [
    "import pandas as pd\n",
    "technologies = {\n",
    "    'Courses':[\"Spark\",\"PySpark\"],\n",
    "    'Fee' :[20000,25000],\n",
    "    'Duration':['30days','40days'],\n",
    "    'Discount':[1000,2300],\n",
    "    'Tutor':['Michel','Sam']\n",
    "              }\n",
    "df = pd.DataFrame(technologies)\n",
    "print(df)\n",
    "\n",
    "# Select multiple columns\n",
    "print(df[[\"Courses\",\"Fee\",\"Duration\"]])\n",
    "\n",
    "# Select Random columns\n",
    "print(df.loc[:, [\"Courses\",\"Fee\",\"Discount\"]])\n",
    "\n",
    "# Select columns by range\n",
    "print(df.loc[:,'Fee':'Discount']) \n",
    "print(df.loc[:,'Duration':])\n",
    "print(df.loc[:,:'Duration'])\n",
    "\n",
    "# Select every alternate column\n",
    "print(df.loc[:,::2])\n",
    "\n",
    "# Selected by column position\n",
    "print(df.iloc[:,[1,3,4]])\n",
    "\n",
    "# Select between indexes 1 and 4 (2,3,4)\n",
    "print(df.iloc[:,1:4])\n",
    "\n",
    "# Select From 3rd to end\n",
    "print(df.iloc[:,2:])\n",
    "\n",
    "# Select First Two Columns\n",
    "print(df.iloc[:,:2])"
   ]
  },
  {
   "cell_type": "code",
   "execution_count": 53,
   "id": "1c5edf98",
   "metadata": {},
   "outputs": [],
   "source": [
    "import pandas as pd\n",
    "import numpy as np\n",
    "technologies= {\n",
    "    'Courses':[\"Spark\",\"PySpark\",\"Hadoop\",\"Python\",\"Pandas\"],\n",
    "    'Fee' :[22000,25000,23000,24000,26000],\n",
    "    'Duration':['30days','50days','30days', None,np.nan],\n",
    "    'Discount':[1000,2300,1000,1200,2500]\n",
    "          }\n",
    "df = pd.DataFrame(technologies)"
   ]
  },
  {
   "cell_type": "code",
   "execution_count": 54,
   "id": "08700d52",
   "metadata": {},
   "outputs": [
    {
     "data": {
      "text/html": [
       "<div>\n",
       "<style scoped>\n",
       "    .dataframe tbody tr th:only-of-type {\n",
       "        vertical-align: middle;\n",
       "    }\n",
       "\n",
       "    .dataframe tbody tr th {\n",
       "        vertical-align: top;\n",
       "    }\n",
       "\n",
       "    .dataframe thead th {\n",
       "        text-align: right;\n",
       "    }\n",
       "</style>\n",
       "<table border=\"1\" class=\"dataframe\">\n",
       "  <thead>\n",
       "    <tr style=\"text-align: right;\">\n",
       "      <th></th>\n",
       "      <th>Courses</th>\n",
       "      <th>Fee</th>\n",
       "      <th>Duration</th>\n",
       "      <th>Discount</th>\n",
       "    </tr>\n",
       "  </thead>\n",
       "  <tbody>\n",
       "    <tr>\n",
       "      <th>0</th>\n",
       "      <td>Spark</td>\n",
       "      <td>22000</td>\n",
       "      <td>30days</td>\n",
       "      <td>1000</td>\n",
       "    </tr>\n",
       "    <tr>\n",
       "      <th>1</th>\n",
       "      <td>PySpark</td>\n",
       "      <td>25000</td>\n",
       "      <td>50days</td>\n",
       "      <td>2300</td>\n",
       "    </tr>\n",
       "    <tr>\n",
       "      <th>2</th>\n",
       "      <td>Hadoop</td>\n",
       "      <td>23000</td>\n",
       "      <td>30days</td>\n",
       "      <td>1000</td>\n",
       "    </tr>\n",
       "    <tr>\n",
       "      <th>3</th>\n",
       "      <td>Python</td>\n",
       "      <td>24000</td>\n",
       "      <td>None</td>\n",
       "      <td>1200</td>\n",
       "    </tr>\n",
       "    <tr>\n",
       "      <th>4</th>\n",
       "      <td>Pandas</td>\n",
       "      <td>26000</td>\n",
       "      <td>NaN</td>\n",
       "      <td>2500</td>\n",
       "    </tr>\n",
       "  </tbody>\n",
       "</table>\n",
       "</div>"
      ],
      "text/plain": [
       "   Courses    Fee Duration  Discount\n",
       "0    Spark  22000   30days      1000\n",
       "1  PySpark  25000   50days      2300\n",
       "2   Hadoop  23000   30days      1000\n",
       "3   Python  24000     None      1200\n",
       "4   Pandas  26000      NaN      2500"
      ]
     },
     "execution_count": 54,
     "metadata": {},
     "output_type": "execute_result"
    }
   ],
   "source": [
    "df"
   ]
  },
  {
   "cell_type": "code",
   "execution_count": 55,
   "id": "808d4791",
   "metadata": {},
   "outputs": [
    {
     "data": {
      "text/html": [
       "<div>\n",
       "<style scoped>\n",
       "    .dataframe tbody tr th:only-of-type {\n",
       "        vertical-align: middle;\n",
       "    }\n",
       "\n",
       "    .dataframe tbody tr th {\n",
       "        vertical-align: top;\n",
       "    }\n",
       "\n",
       "    .dataframe thead th {\n",
       "        text-align: right;\n",
       "    }\n",
       "</style>\n",
       "<table border=\"1\" class=\"dataframe\">\n",
       "  <thead>\n",
       "    <tr style=\"text-align: right;\">\n",
       "      <th></th>\n",
       "      <th>Courses</th>\n",
       "      <th>Fee</th>\n",
       "      <th>Duration</th>\n",
       "      <th>Discount</th>\n",
       "    </tr>\n",
       "  </thead>\n",
       "  <tbody>\n",
       "    <tr>\n",
       "      <th>0</th>\n",
       "      <td>Spark</td>\n",
       "      <td>22000</td>\n",
       "      <td>30days</td>\n",
       "      <td>1000</td>\n",
       "    </tr>\n",
       "  </tbody>\n",
       "</table>\n",
       "</div>"
      ],
      "text/plain": [
       "  Courses    Fee Duration  Discount\n",
       "0   Spark  22000   30days      1000"
      ]
     },
     "execution_count": 55,
     "metadata": {},
     "output_type": "execute_result"
    }
   ],
   "source": [
    "df.query('Courses ==\"Spark\"')"
   ]
  },
  {
   "cell_type": "code",
   "execution_count": 39,
   "id": "8cdd9480",
   "metadata": {},
   "outputs": [
    {
     "name": "stdout",
     "output_type": "stream",
     "text": [
      "  Courses    Fee Duration  Discount\n",
      "0   Spark  22000   30days      1000\n"
     ]
    }
   ],
   "source": [
    "df.query('Courses == \"Spark\"',inplace=True)\n",
    "print(df)"
   ]
  },
  {
   "cell_type": "code",
   "execution_count": 56,
   "id": "5a95f080",
   "metadata": {},
   "outputs": [
    {
     "name": "stdout",
     "output_type": "stream",
     "text": [
      "   Courses    Fee Duration  Discount\n",
      "0    Spark  22000   30days      1000\n",
      "1  PySpark  25000   50days      2300\n",
      "2   Hadoop  23000   30days      1000\n",
      "3   Python  24000     None      1200\n",
      "4   Pandas  26000      NaN      2500\n"
     ]
    }
   ],
   "source": [
    "print(df)"
   ]
  },
  {
   "cell_type": "code",
   "execution_count": 57,
   "id": "5e5aef4e",
   "metadata": {},
   "outputs": [
    {
     "data": {
      "text/html": [
       "<div>\n",
       "<style scoped>\n",
       "    .dataframe tbody tr th:only-of-type {\n",
       "        vertical-align: middle;\n",
       "    }\n",
       "\n",
       "    .dataframe tbody tr th {\n",
       "        vertical-align: top;\n",
       "    }\n",
       "\n",
       "    .dataframe thead th {\n",
       "        text-align: right;\n",
       "    }\n",
       "</style>\n",
       "<table border=\"1\" class=\"dataframe\">\n",
       "  <thead>\n",
       "    <tr style=\"text-align: right;\">\n",
       "      <th></th>\n",
       "      <th>Courses</th>\n",
       "      <th>Fee</th>\n",
       "      <th>Duration</th>\n",
       "      <th>Discount</th>\n",
       "    </tr>\n",
       "  </thead>\n",
       "  <tbody>\n",
       "    <tr>\n",
       "      <th>1</th>\n",
       "      <td>PySpark</td>\n",
       "      <td>25000</td>\n",
       "      <td>50days</td>\n",
       "      <td>2300</td>\n",
       "    </tr>\n",
       "    <tr>\n",
       "      <th>2</th>\n",
       "      <td>Hadoop</td>\n",
       "      <td>23000</td>\n",
       "      <td>30days</td>\n",
       "      <td>1000</td>\n",
       "    </tr>\n",
       "    <tr>\n",
       "      <th>3</th>\n",
       "      <td>Python</td>\n",
       "      <td>24000</td>\n",
       "      <td>None</td>\n",
       "      <td>1200</td>\n",
       "    </tr>\n",
       "    <tr>\n",
       "      <th>4</th>\n",
       "      <td>Pandas</td>\n",
       "      <td>26000</td>\n",
       "      <td>NaN</td>\n",
       "      <td>2500</td>\n",
       "    </tr>\n",
       "  </tbody>\n",
       "</table>\n",
       "</div>"
      ],
      "text/plain": [
       "   Courses    Fee Duration  Discount\n",
       "1  PySpark  25000   50days      2300\n",
       "2   Hadoop  23000   30days      1000\n",
       "3   Python  24000     None      1200\n",
       "4   Pandas  26000      NaN      2500"
      ]
     },
     "execution_count": 57,
     "metadata": {},
     "output_type": "execute_result"
    }
   ],
   "source": [
    "df.query('Courses != \"Spark\"')"
   ]
  },
  {
   "cell_type": "code",
   "execution_count": 58,
   "id": "477177d0",
   "metadata": {},
   "outputs": [],
   "source": [
    "df2=df.query(\"Courses != 'Spark'\")"
   ]
  },
  {
   "cell_type": "code",
   "execution_count": 59,
   "id": "9f21d2cc",
   "metadata": {},
   "outputs": [
    {
     "data": {
      "text/html": [
       "<div>\n",
       "<style scoped>\n",
       "    .dataframe tbody tr th:only-of-type {\n",
       "        vertical-align: middle;\n",
       "    }\n",
       "\n",
       "    .dataframe tbody tr th {\n",
       "        vertical-align: top;\n",
       "    }\n",
       "\n",
       "    .dataframe thead th {\n",
       "        text-align: right;\n",
       "    }\n",
       "</style>\n",
       "<table border=\"1\" class=\"dataframe\">\n",
       "  <thead>\n",
       "    <tr style=\"text-align: right;\">\n",
       "      <th></th>\n",
       "      <th>Courses</th>\n",
       "      <th>Fee</th>\n",
       "      <th>Duration</th>\n",
       "      <th>Discount</th>\n",
       "    </tr>\n",
       "  </thead>\n",
       "  <tbody>\n",
       "    <tr>\n",
       "      <th>1</th>\n",
       "      <td>PySpark</td>\n",
       "      <td>25000</td>\n",
       "      <td>50days</td>\n",
       "      <td>2300</td>\n",
       "    </tr>\n",
       "    <tr>\n",
       "      <th>2</th>\n",
       "      <td>Hadoop</td>\n",
       "      <td>23000</td>\n",
       "      <td>30days</td>\n",
       "      <td>1000</td>\n",
       "    </tr>\n",
       "    <tr>\n",
       "      <th>3</th>\n",
       "      <td>Python</td>\n",
       "      <td>24000</td>\n",
       "      <td>None</td>\n",
       "      <td>1200</td>\n",
       "    </tr>\n",
       "    <tr>\n",
       "      <th>4</th>\n",
       "      <td>Pandas</td>\n",
       "      <td>26000</td>\n",
       "      <td>NaN</td>\n",
       "      <td>2500</td>\n",
       "    </tr>\n",
       "  </tbody>\n",
       "</table>\n",
       "</div>"
      ],
      "text/plain": [
       "   Courses    Fee Duration  Discount\n",
       "1  PySpark  25000   50days      2300\n",
       "2   Hadoop  23000   30days      1000\n",
       "3   Python  24000     None      1200\n",
       "4   Pandas  26000      NaN      2500"
      ]
     },
     "execution_count": 59,
     "metadata": {},
     "output_type": "execute_result"
    }
   ],
   "source": [
    "df2"
   ]
  },
  {
   "cell_type": "code",
   "execution_count": 64,
   "id": "0c705e5d",
   "metadata": {},
   "outputs": [
    {
     "name": "stdout",
     "output_type": "stream",
     "text": [
      "   Courses    Fee Duration  Discount\n",
      "0    Spark  22000   30days      1000\n",
      "1  PySpark  25000   50days      2300\n"
     ]
    }
   ],
   "source": [
    "# Query Rows by list of values\n",
    "values=['Spark','PySpark']\n",
    "print(df.query(\"Courses in @values\"))"
   ]
  },
  {
   "cell_type": "code",
   "execution_count": 69,
   "id": "eb14a260",
   "metadata": {},
   "outputs": [
    {
     "ename": "ValueError",
     "evalue": "('Lengths must match to compare', (5,), (2,))",
     "output_type": "error",
     "traceback": [
      "\u001b[1;31m---------------------------------------------------------------------------\u001b[0m",
      "\u001b[1;31mValueError\u001b[0m                                Traceback (most recent call last)",
      "\u001b[1;32m~\\AppData\\Local\\Temp\\ipykernel_1236\\1717474337.py\u001b[0m in \u001b[0;36m<module>\u001b[1;34m\u001b[0m\n\u001b[0;32m      2\u001b[0m \u001b[0mvalues\u001b[0m \u001b[1;33m=\u001b[0m \u001b[1;33m[\u001b[0m\u001b[1;34m'PySpark'\u001b[0m\u001b[1;33m,\u001b[0m\u001b[1;34m'Spark'\u001b[0m\u001b[1;33m]\u001b[0m\u001b[1;33m\u001b[0m\u001b[1;33m\u001b[0m\u001b[0m\n\u001b[0;32m      3\u001b[0m \u001b[0mdf\u001b[0m\u001b[1;33m[\u001b[0m\u001b[0mdf\u001b[0m\u001b[1;33m[\u001b[0m\u001b[1;34m\"Courses\"\u001b[0m\u001b[1;33m]\u001b[0m \u001b[1;33m==\u001b[0m \u001b[1;34m'Spark'\u001b[0m\u001b[1;33m]\u001b[0m\u001b[1;33m\u001b[0m\u001b[1;33m\u001b[0m\u001b[0m\n\u001b[1;32m----> 4\u001b[1;33m \u001b[0mdf\u001b[0m\u001b[1;33m.\u001b[0m\u001b[0mloc\u001b[0m\u001b[1;33m[\u001b[0m\u001b[0mdf\u001b[0m\u001b[1;33m[\u001b[0m\u001b[1;34m'Courses'\u001b[0m\u001b[1;33m]\u001b[0m \u001b[1;33m==\u001b[0m \u001b[0mvalues\u001b[0m\u001b[1;33m]\u001b[0m\u001b[1;33m\u001b[0m\u001b[1;33m\u001b[0m\u001b[0m\n\u001b[0m\u001b[0;32m      5\u001b[0m \u001b[0mdf\u001b[0m\u001b[1;33m.\u001b[0m\u001b[0mloc\u001b[0m\u001b[1;33m[\u001b[0m\u001b[0mdf\u001b[0m\u001b[1;33m[\u001b[0m\u001b[1;34m'Courses'\u001b[0m\u001b[1;33m]\u001b[0m \u001b[1;33m!=\u001b[0m \u001b[1;34m'Spark'\u001b[0m\u001b[1;33m]\u001b[0m\u001b[1;33m\u001b[0m\u001b[1;33m\u001b[0m\u001b[0m\n\u001b[0;32m      6\u001b[0m \u001b[0mdf\u001b[0m\u001b[1;33m.\u001b[0m\u001b[0mloc\u001b[0m\u001b[1;33m[\u001b[0m\u001b[0mdf\u001b[0m\u001b[1;33m[\u001b[0m\u001b[1;34m'Courses'\u001b[0m\u001b[1;33m]\u001b[0m\u001b[1;33m.\u001b[0m\u001b[0misin\u001b[0m\u001b[1;33m(\u001b[0m\u001b[0mvalues\u001b[0m\u001b[1;33m)\u001b[0m\u001b[1;33m]\u001b[0m\u001b[1;33m\u001b[0m\u001b[1;33m\u001b[0m\u001b[0m\n",
      "\u001b[1;32m~\\anaconda3\\lib\\site-packages\\pandas\\core\\ops\\common.py\u001b[0m in \u001b[0;36mnew_method\u001b[1;34m(self, other)\u001b[0m\n\u001b[0;32m     68\u001b[0m         \u001b[0mother\u001b[0m \u001b[1;33m=\u001b[0m \u001b[0mitem_from_zerodim\u001b[0m\u001b[1;33m(\u001b[0m\u001b[0mother\u001b[0m\u001b[1;33m)\u001b[0m\u001b[1;33m\u001b[0m\u001b[1;33m\u001b[0m\u001b[0m\n\u001b[0;32m     69\u001b[0m \u001b[1;33m\u001b[0m\u001b[0m\n\u001b[1;32m---> 70\u001b[1;33m         \u001b[1;32mreturn\u001b[0m \u001b[0mmethod\u001b[0m\u001b[1;33m(\u001b[0m\u001b[0mself\u001b[0m\u001b[1;33m,\u001b[0m \u001b[0mother\u001b[0m\u001b[1;33m)\u001b[0m\u001b[1;33m\u001b[0m\u001b[1;33m\u001b[0m\u001b[0m\n\u001b[0m\u001b[0;32m     71\u001b[0m \u001b[1;33m\u001b[0m\u001b[0m\n\u001b[0;32m     72\u001b[0m     \u001b[1;32mreturn\u001b[0m \u001b[0mnew_method\u001b[0m\u001b[1;33m\u001b[0m\u001b[1;33m\u001b[0m\u001b[0m\n",
      "\u001b[1;32m~\\anaconda3\\lib\\site-packages\\pandas\\core\\arraylike.py\u001b[0m in \u001b[0;36m__eq__\u001b[1;34m(self, other)\u001b[0m\n\u001b[0;32m     38\u001b[0m     \u001b[1;33m@\u001b[0m\u001b[0munpack_zerodim_and_defer\u001b[0m\u001b[1;33m(\u001b[0m\u001b[1;34m\"__eq__\"\u001b[0m\u001b[1;33m)\u001b[0m\u001b[1;33m\u001b[0m\u001b[1;33m\u001b[0m\u001b[0m\n\u001b[0;32m     39\u001b[0m     \u001b[1;32mdef\u001b[0m \u001b[0m__eq__\u001b[0m\u001b[1;33m(\u001b[0m\u001b[0mself\u001b[0m\u001b[1;33m,\u001b[0m \u001b[0mother\u001b[0m\u001b[1;33m)\u001b[0m\u001b[1;33m:\u001b[0m\u001b[1;33m\u001b[0m\u001b[1;33m\u001b[0m\u001b[0m\n\u001b[1;32m---> 40\u001b[1;33m         \u001b[1;32mreturn\u001b[0m \u001b[0mself\u001b[0m\u001b[1;33m.\u001b[0m\u001b[0m_cmp_method\u001b[0m\u001b[1;33m(\u001b[0m\u001b[0mother\u001b[0m\u001b[1;33m,\u001b[0m \u001b[0moperator\u001b[0m\u001b[1;33m.\u001b[0m\u001b[0meq\u001b[0m\u001b[1;33m)\u001b[0m\u001b[1;33m\u001b[0m\u001b[1;33m\u001b[0m\u001b[0m\n\u001b[0m\u001b[0;32m     41\u001b[0m \u001b[1;33m\u001b[0m\u001b[0m\n\u001b[0;32m     42\u001b[0m     \u001b[1;33m@\u001b[0m\u001b[0munpack_zerodim_and_defer\u001b[0m\u001b[1;33m(\u001b[0m\u001b[1;34m\"__ne__\"\u001b[0m\u001b[1;33m)\u001b[0m\u001b[1;33m\u001b[0m\u001b[1;33m\u001b[0m\u001b[0m\n",
      "\u001b[1;32m~\\anaconda3\\lib\\site-packages\\pandas\\core\\series.py\u001b[0m in \u001b[0;36m_cmp_method\u001b[1;34m(self, other, op)\u001b[0m\n\u001b[0;32m   5621\u001b[0m \u001b[1;33m\u001b[0m\u001b[0m\n\u001b[0;32m   5622\u001b[0m         \u001b[1;32mwith\u001b[0m \u001b[0mnp\u001b[0m\u001b[1;33m.\u001b[0m\u001b[0merrstate\u001b[0m\u001b[1;33m(\u001b[0m\u001b[0mall\u001b[0m\u001b[1;33m=\u001b[0m\u001b[1;34m\"ignore\"\u001b[0m\u001b[1;33m)\u001b[0m\u001b[1;33m:\u001b[0m\u001b[1;33m\u001b[0m\u001b[1;33m\u001b[0m\u001b[0m\n\u001b[1;32m-> 5623\u001b[1;33m             \u001b[0mres_values\u001b[0m \u001b[1;33m=\u001b[0m \u001b[0mops\u001b[0m\u001b[1;33m.\u001b[0m\u001b[0mcomparison_op\u001b[0m\u001b[1;33m(\u001b[0m\u001b[0mlvalues\u001b[0m\u001b[1;33m,\u001b[0m \u001b[0mrvalues\u001b[0m\u001b[1;33m,\u001b[0m \u001b[0mop\u001b[0m\u001b[1;33m)\u001b[0m\u001b[1;33m\u001b[0m\u001b[1;33m\u001b[0m\u001b[0m\n\u001b[0m\u001b[0;32m   5624\u001b[0m \u001b[1;33m\u001b[0m\u001b[0m\n\u001b[0;32m   5625\u001b[0m         \u001b[1;32mreturn\u001b[0m \u001b[0mself\u001b[0m\u001b[1;33m.\u001b[0m\u001b[0m_construct_result\u001b[0m\u001b[1;33m(\u001b[0m\u001b[0mres_values\u001b[0m\u001b[1;33m,\u001b[0m \u001b[0mname\u001b[0m\u001b[1;33m=\u001b[0m\u001b[0mres_name\u001b[0m\u001b[1;33m)\u001b[0m\u001b[1;33m\u001b[0m\u001b[1;33m\u001b[0m\u001b[0m\n",
      "\u001b[1;32m~\\anaconda3\\lib\\site-packages\\pandas\\core\\ops\\array_ops.py\u001b[0m in \u001b[0;36mcomparison_op\u001b[1;34m(left, right, op)\u001b[0m\n\u001b[0;32m    258\u001b[0m         \u001b[1;31m#  The ambiguous case is object-dtype.  See GH#27803\u001b[0m\u001b[1;33m\u001b[0m\u001b[1;33m\u001b[0m\u001b[0m\n\u001b[0;32m    259\u001b[0m         \u001b[1;32mif\u001b[0m \u001b[0mlen\u001b[0m\u001b[1;33m(\u001b[0m\u001b[0mlvalues\u001b[0m\u001b[1;33m)\u001b[0m \u001b[1;33m!=\u001b[0m \u001b[0mlen\u001b[0m\u001b[1;33m(\u001b[0m\u001b[0mrvalues\u001b[0m\u001b[1;33m)\u001b[0m\u001b[1;33m:\u001b[0m\u001b[1;33m\u001b[0m\u001b[1;33m\u001b[0m\u001b[0m\n\u001b[1;32m--> 260\u001b[1;33m             raise ValueError(\n\u001b[0m\u001b[0;32m    261\u001b[0m                 \u001b[1;34m\"Lengths must match to compare\"\u001b[0m\u001b[1;33m,\u001b[0m \u001b[0mlvalues\u001b[0m\u001b[1;33m.\u001b[0m\u001b[0mshape\u001b[0m\u001b[1;33m,\u001b[0m \u001b[0mrvalues\u001b[0m\u001b[1;33m.\u001b[0m\u001b[0mshape\u001b[0m\u001b[1;33m\u001b[0m\u001b[1;33m\u001b[0m\u001b[0m\n\u001b[0;32m    262\u001b[0m             )\n",
      "\u001b[1;31mValueError\u001b[0m: ('Lengths must match to compare', (5,), (2,))"
     ]
    }
   ],
   "source": [
    "# Other examples you can try to query rows\n",
    "values = ['PySpark','Spark']\n",
    "df[df[\"Courses\"] == 'Spark'] \n",
    "df.loc[df['Courses'] == values]\n",
    "df.loc[df['Courses'] != 'Spark']\n",
    "df.loc[df['Courses'].isin(values)]\n",
    "df.loc[~df['Courses'].isin(values)]\n",
    "df.loc[(df['Discount'] >= 1000) & (df['Discount'] <= 2000)]\n",
    "df.loc[(df['Discount'] >= 1200) & (df['Fee'] >= 23000 )]\n",
    "\n",
    "# Select based on value contains\n",
    "print(df[df['Courses'].str.contains(\"Spark\")])\n",
    "\n",
    "# Select after converting values\n",
    "print(df[df['Courses'].str.lower().str.contains(\"spark\")])\n",
    "\n",
    "#Select startswith\n",
    "print(df[df['Courses'].str.startswith(\"P\")])"
   ]
  },
  {
   "cell_type": "code",
   "execution_count": 70,
   "id": "404c8867",
   "metadata": {},
   "outputs": [
    {
     "name": "stdout",
     "output_type": "stream",
     "text": [
      "    Courses    Fee Duration  Discount\n",
      "r1    Spark  24000    30day      1000\n",
      "r2  PySpark  25000   50days      2300\n",
      "r3   Hadoop  25000   55days      1000\n",
      "r4   Python  24000   40days      1200\n",
      "r5   pandas  24000   60days      2500\n"
     ]
    }
   ],
   "source": []
  },
  {
   "cell_type": "code",
   "execution_count": null,
   "id": "712d7bab",
   "metadata": {},
   "outputs": [],
   "source": []
  },
  {
   "cell_type": "code",
   "execution_count": 73,
   "id": "96be4140",
   "metadata": {},
   "outputs": [
    {
     "data": {
      "text/plain": [
       "'Hadoop'"
      ]
     },
     "execution_count": 73,
     "metadata": {},
     "output_type": "execute_result"
    }
   ],
   "source": [
    "df.loc['r3']['Courses']"
   ]
  },
  {
   "cell_type": "code",
   "execution_count": null,
   "id": "2e0c7ab0",
   "metadata": {},
   "outputs": [],
   "source": [
    "# Add new column to the DataFrame\n",
    "tutors = ['William', 'Henry', 'Michael', 'John', 'Messi']\n",
    "df2 = df.assign(TutorsAssigned=tutors)\n",
    "\n",
    "# Add a multiple columns to the DataFrame\n",
    "MNCCompanies = ['TATA','HCL','Infosys','Google','Amazon']\n",
    "df2 =df.assign(MNCComp = MNCCompanies,TutorsAssigned=tutors )\n",
    "\n",
    "# Derive New Column from Existing Column\n",
    "df = pd.DataFrame(technologies)\n",
    "df2=df.assign(Discount_Percent=lambda x: x.Fee * x.Discount / 100)\n",
    "\n",
    "# Add a constant or empty value to the DataFrame.\n",
    "df = pd.DataFrame(technologies)\n",
    "df2=df.assign(A=None,B=0,C=\"\")\n",
    "\n",
    "# Add New column to the existing DataFrame\n",
    "df = pd.DataFrame(technologies)\n",
    "df[\"MNCCompanies\"] = MNCCompanies\n",
    "\n",
    "# Add new column at the specific position\n",
    "df = pd.DataFrame(technologies)\n",
    "df.insert(0,'Tutors', tutors )"
   ]
  },
  {
   "cell_type": "code",
   "execution_count": 74,
   "id": "6d866cce",
   "metadata": {},
   "outputs": [
    {
     "name": "stdout",
     "output_type": "stream",
     "text": [
      "    Courses    Fee Duration  Discount\n",
      "r1    Spark  24000    30day      1000\n",
      "r2  PySpark  25000   50days      2300\n",
      "r3   Hadoop  25000   55days      1000\n",
      "r4   Python  24000   40days      1200\n",
      "r5   pandas  24000   60days      2500\n"
     ]
    }
   ],
   "source": [
    "import pandas as pd\n",
    "technologies = {\n",
    "     'Courses':[\"Spark\",\"PySpark\",\"Hadoop\",\"Python\",\"pandas\"],\n",
    "     'Fee' :[24000,25000,25000,24000,24000],\n",
    "     'Duration':['30day','50days','55days', '40days','60days'],\n",
    "     'Discount':[1000,2300,1000,1200,2500]\n",
    "          }\n",
    "index_labels=['r1','r2','r3','r4','r5']\n",
    "df = pd.DataFrame(technologies, index=index_labels)\n",
    "print(df)"
   ]
  },
  {
   "cell_type": "code",
   "execution_count": 75,
   "id": "81cb002b",
   "metadata": {},
   "outputs": [
    {
     "data": {
      "text/html": [
       "<div>\n",
       "<style scoped>\n",
       "    .dataframe tbody tr th:only-of-type {\n",
       "        vertical-align: middle;\n",
       "    }\n",
       "\n",
       "    .dataframe tbody tr th {\n",
       "        vertical-align: top;\n",
       "    }\n",
       "\n",
       "    .dataframe thead th {\n",
       "        text-align: right;\n",
       "    }\n",
       "</style>\n",
       "<table border=\"1\" class=\"dataframe\">\n",
       "  <thead>\n",
       "    <tr style=\"text-align: right;\">\n",
       "      <th></th>\n",
       "      <th>Courses</th>\n",
       "      <th>Fee</th>\n",
       "      <th>Duration</th>\n",
       "      <th>Discount</th>\n",
       "    </tr>\n",
       "  </thead>\n",
       "  <tbody>\n",
       "    <tr>\n",
       "      <th>r1</th>\n",
       "      <td>Spark</td>\n",
       "      <td>24000</td>\n",
       "      <td>30day</td>\n",
       "      <td>1000</td>\n",
       "    </tr>\n",
       "    <tr>\n",
       "      <th>r2</th>\n",
       "      <td>PySpark</td>\n",
       "      <td>25000</td>\n",
       "      <td>50days</td>\n",
       "      <td>2300</td>\n",
       "    </tr>\n",
       "    <tr>\n",
       "      <th>r3</th>\n",
       "      <td>Hadoop</td>\n",
       "      <td>25000</td>\n",
       "      <td>55days</td>\n",
       "      <td>1000</td>\n",
       "    </tr>\n",
       "    <tr>\n",
       "      <th>r4</th>\n",
       "      <td>Python</td>\n",
       "      <td>24000</td>\n",
       "      <td>40days</td>\n",
       "      <td>1200</td>\n",
       "    </tr>\n",
       "    <tr>\n",
       "      <th>r5</th>\n",
       "      <td>pandas</td>\n",
       "      <td>24000</td>\n",
       "      <td>60days</td>\n",
       "      <td>2500</td>\n",
       "    </tr>\n",
       "  </tbody>\n",
       "</table>\n",
       "</div>"
      ],
      "text/plain": [
       "    Courses    Fee Duration  Discount\n",
       "r1    Spark  24000    30day      1000\n",
       "r2  PySpark  25000   50days      2300\n",
       "r3   Hadoop  25000   55days      1000\n",
       "r4   Python  24000   40days      1200\n",
       "r5   pandas  24000   60days      2500"
      ]
     },
     "execution_count": 75,
     "metadata": {},
     "output_type": "execute_result"
    }
   ],
   "source": [
    "df"
   ]
  },
  {
   "cell_type": "code",
   "execution_count": 80,
   "id": "968b5c84",
   "metadata": {},
   "outputs": [],
   "source": [
    "# Add new column to the DataFrame\n",
    "tutors = ['Rohit','Rajan','Shubham','Abshick','Sanjeet']\n",
    "df1 = df.assign(Teacher = tutors)"
   ]
  },
  {
   "cell_type": "code",
   "execution_count": 81,
   "id": "dc02f109",
   "metadata": {},
   "outputs": [
    {
     "data": {
      "text/html": [
       "<div>\n",
       "<style scoped>\n",
       "    .dataframe tbody tr th:only-of-type {\n",
       "        vertical-align: middle;\n",
       "    }\n",
       "\n",
       "    .dataframe tbody tr th {\n",
       "        vertical-align: top;\n",
       "    }\n",
       "\n",
       "    .dataframe thead th {\n",
       "        text-align: right;\n",
       "    }\n",
       "</style>\n",
       "<table border=\"1\" class=\"dataframe\">\n",
       "  <thead>\n",
       "    <tr style=\"text-align: right;\">\n",
       "      <th></th>\n",
       "      <th>Courses</th>\n",
       "      <th>Fee</th>\n",
       "      <th>Duration</th>\n",
       "      <th>Discount</th>\n",
       "      <th>Teacher</th>\n",
       "    </tr>\n",
       "  </thead>\n",
       "  <tbody>\n",
       "    <tr>\n",
       "      <th>r1</th>\n",
       "      <td>Spark</td>\n",
       "      <td>24000</td>\n",
       "      <td>30day</td>\n",
       "      <td>1000</td>\n",
       "      <td>Rohit</td>\n",
       "    </tr>\n",
       "    <tr>\n",
       "      <th>r2</th>\n",
       "      <td>PySpark</td>\n",
       "      <td>25000</td>\n",
       "      <td>50days</td>\n",
       "      <td>2300</td>\n",
       "      <td>Rajan</td>\n",
       "    </tr>\n",
       "    <tr>\n",
       "      <th>r3</th>\n",
       "      <td>Hadoop</td>\n",
       "      <td>25000</td>\n",
       "      <td>55days</td>\n",
       "      <td>1000</td>\n",
       "      <td>Shubham</td>\n",
       "    </tr>\n",
       "    <tr>\n",
       "      <th>r4</th>\n",
       "      <td>Python</td>\n",
       "      <td>24000</td>\n",
       "      <td>40days</td>\n",
       "      <td>1200</td>\n",
       "      <td>Abshick</td>\n",
       "    </tr>\n",
       "    <tr>\n",
       "      <th>r5</th>\n",
       "      <td>pandas</td>\n",
       "      <td>24000</td>\n",
       "      <td>60days</td>\n",
       "      <td>2500</td>\n",
       "      <td>Sanjeet</td>\n",
       "    </tr>\n",
       "  </tbody>\n",
       "</table>\n",
       "</div>"
      ],
      "text/plain": [
       "    Courses    Fee Duration  Discount  Teacher\n",
       "r1    Spark  24000    30day      1000    Rohit\n",
       "r2  PySpark  25000   50days      2300    Rajan\n",
       "r3   Hadoop  25000   55days      1000  Shubham\n",
       "r4   Python  24000   40days      1200  Abshick\n",
       "r5   pandas  24000   60days      2500  Sanjeet"
      ]
     },
     "execution_count": 81,
     "metadata": {},
     "output_type": "execute_result"
    }
   ],
   "source": [
    "df1"
   ]
  },
  {
   "cell_type": "code",
   "execution_count": null,
   "id": "7a161a2a",
   "metadata": {},
   "outputs": [],
   "source": [
    "# Add new column to the DataFrame\n",
    "tutors = ['William', 'Henry', 'Michael', 'John', 'Messi']\n",
    "df2 = df.assign(TutorsAssigned=tutors)\n",
    "\n",
    "# Add a multiple columns to the DataFrame\n",
    "MNCCompanies = ['TATA','HCL','Infosys','Google','Amazon']\n",
    "df2 =df.assign(MNCComp = MNCCompanies,TutorsAssigned=tutors )\n",
    "\n",
    "# Derive New Column from Existing Column\n",
    "df = pd.DataFrame(technologies)\n",
    "df2=df.assign(Discount_Percent=lambda x: x.Fee * x.Discount / 100)\n",
    "\n",
    "# Add a constant or empty value to the DataFrame.\n",
    "df = pd.DataFrame(technologies)\n",
    "df2=df.assign(A=None,B=0,C=\"\")\n",
    "\n",
    "# Add New column to the existing DataFrame\n",
    "df = pd.DataFrame(technologies)\n",
    "df[\"MNCCompanies\"] = MNCCompanies\n",
    "\n",
    "# Add new column at the specific position\n",
    "df = pd.DataFrame(technologies)\n",
    "df.insert(0,'Tutors', tutors ) "
   ]
  },
  {
   "cell_type": "code",
   "execution_count": 82,
   "id": "81617f09",
   "metadata": {},
   "outputs": [],
   "source": [
    "df2 = df.assign(A=None,B=0,C='')"
   ]
  },
  {
   "cell_type": "code",
   "execution_count": 83,
   "id": "022444ef",
   "metadata": {},
   "outputs": [
    {
     "data": {
      "text/html": [
       "<div>\n",
       "<style scoped>\n",
       "    .dataframe tbody tr th:only-of-type {\n",
       "        vertical-align: middle;\n",
       "    }\n",
       "\n",
       "    .dataframe tbody tr th {\n",
       "        vertical-align: top;\n",
       "    }\n",
       "\n",
       "    .dataframe thead th {\n",
       "        text-align: right;\n",
       "    }\n",
       "</style>\n",
       "<table border=\"1\" class=\"dataframe\">\n",
       "  <thead>\n",
       "    <tr style=\"text-align: right;\">\n",
       "      <th></th>\n",
       "      <th>Courses</th>\n",
       "      <th>Fee</th>\n",
       "      <th>Duration</th>\n",
       "      <th>Discount</th>\n",
       "      <th>A</th>\n",
       "      <th>B</th>\n",
       "      <th>C</th>\n",
       "    </tr>\n",
       "  </thead>\n",
       "  <tbody>\n",
       "    <tr>\n",
       "      <th>r1</th>\n",
       "      <td>Spark</td>\n",
       "      <td>24000</td>\n",
       "      <td>30day</td>\n",
       "      <td>1000</td>\n",
       "      <td>None</td>\n",
       "      <td>0</td>\n",
       "      <td></td>\n",
       "    </tr>\n",
       "    <tr>\n",
       "      <th>r2</th>\n",
       "      <td>PySpark</td>\n",
       "      <td>25000</td>\n",
       "      <td>50days</td>\n",
       "      <td>2300</td>\n",
       "      <td>None</td>\n",
       "      <td>0</td>\n",
       "      <td></td>\n",
       "    </tr>\n",
       "    <tr>\n",
       "      <th>r3</th>\n",
       "      <td>Hadoop</td>\n",
       "      <td>25000</td>\n",
       "      <td>55days</td>\n",
       "      <td>1000</td>\n",
       "      <td>None</td>\n",
       "      <td>0</td>\n",
       "      <td></td>\n",
       "    </tr>\n",
       "    <tr>\n",
       "      <th>r4</th>\n",
       "      <td>Python</td>\n",
       "      <td>24000</td>\n",
       "      <td>40days</td>\n",
       "      <td>1200</td>\n",
       "      <td>None</td>\n",
       "      <td>0</td>\n",
       "      <td></td>\n",
       "    </tr>\n",
       "    <tr>\n",
       "      <th>r5</th>\n",
       "      <td>pandas</td>\n",
       "      <td>24000</td>\n",
       "      <td>60days</td>\n",
       "      <td>2500</td>\n",
       "      <td>None</td>\n",
       "      <td>0</td>\n",
       "      <td></td>\n",
       "    </tr>\n",
       "  </tbody>\n",
       "</table>\n",
       "</div>"
      ],
      "text/plain": [
       "    Courses    Fee Duration  Discount     A  B C\n",
       "r1    Spark  24000    30day      1000  None  0  \n",
       "r2  PySpark  25000   50days      2300  None  0  \n",
       "r3   Hadoop  25000   55days      1000  None  0  \n",
       "r4   Python  24000   40days      1200  None  0  \n",
       "r5   pandas  24000   60days      2500  None  0  "
      ]
     },
     "execution_count": 83,
     "metadata": {},
     "output_type": "execute_result"
    }
   ],
   "source": [
    "df2"
   ]
  },
  {
   "cell_type": "code",
   "execution_count": 90,
   "id": "a5f69e65",
   "metadata": {},
   "outputs": [],
   "source": [
    "df2 = df2.assign(discount_percent = lambda x : x.Fee *  x.Discount /100)"
   ]
  },
  {
   "cell_type": "code",
   "execution_count": 91,
   "id": "f3c3a54f",
   "metadata": {},
   "outputs": [
    {
     "data": {
      "text/html": [
       "<div>\n",
       "<style scoped>\n",
       "    .dataframe tbody tr th:only-of-type {\n",
       "        vertical-align: middle;\n",
       "    }\n",
       "\n",
       "    .dataframe tbody tr th {\n",
       "        vertical-align: top;\n",
       "    }\n",
       "\n",
       "    .dataframe thead th {\n",
       "        text-align: right;\n",
       "    }\n",
       "</style>\n",
       "<table border=\"1\" class=\"dataframe\">\n",
       "  <thead>\n",
       "    <tr style=\"text-align: right;\">\n",
       "      <th></th>\n",
       "      <th>Courses</th>\n",
       "      <th>Fee</th>\n",
       "      <th>Duration</th>\n",
       "      <th>Discount</th>\n",
       "      <th>A</th>\n",
       "      <th>B</th>\n",
       "      <th>C</th>\n",
       "      <th>discount_percent</th>\n",
       "    </tr>\n",
       "  </thead>\n",
       "  <tbody>\n",
       "    <tr>\n",
       "      <th>r1</th>\n",
       "      <td>Spark</td>\n",
       "      <td>24000</td>\n",
       "      <td>30day</td>\n",
       "      <td>1000</td>\n",
       "      <td>None</td>\n",
       "      <td>0</td>\n",
       "      <td></td>\n",
       "      <td>240000.0</td>\n",
       "    </tr>\n",
       "    <tr>\n",
       "      <th>r2</th>\n",
       "      <td>PySpark</td>\n",
       "      <td>25000</td>\n",
       "      <td>50days</td>\n",
       "      <td>2300</td>\n",
       "      <td>None</td>\n",
       "      <td>0</td>\n",
       "      <td></td>\n",
       "      <td>575000.0</td>\n",
       "    </tr>\n",
       "    <tr>\n",
       "      <th>r3</th>\n",
       "      <td>Hadoop</td>\n",
       "      <td>25000</td>\n",
       "      <td>55days</td>\n",
       "      <td>1000</td>\n",
       "      <td>None</td>\n",
       "      <td>0</td>\n",
       "      <td></td>\n",
       "      <td>250000.0</td>\n",
       "    </tr>\n",
       "    <tr>\n",
       "      <th>r4</th>\n",
       "      <td>Python</td>\n",
       "      <td>24000</td>\n",
       "      <td>40days</td>\n",
       "      <td>1200</td>\n",
       "      <td>None</td>\n",
       "      <td>0</td>\n",
       "      <td></td>\n",
       "      <td>288000.0</td>\n",
       "    </tr>\n",
       "    <tr>\n",
       "      <th>r5</th>\n",
       "      <td>pandas</td>\n",
       "      <td>24000</td>\n",
       "      <td>60days</td>\n",
       "      <td>2500</td>\n",
       "      <td>None</td>\n",
       "      <td>0</td>\n",
       "      <td></td>\n",
       "      <td>600000.0</td>\n",
       "    </tr>\n",
       "  </tbody>\n",
       "</table>\n",
       "</div>"
      ],
      "text/plain": [
       "    Courses    Fee Duration  Discount     A  B C  discount_percent\n",
       "r1    Spark  24000    30day      1000  None  0            240000.0\n",
       "r2  PySpark  25000   50days      2300  None  0            575000.0\n",
       "r3   Hadoop  25000   55days      1000  None  0            250000.0\n",
       "r4   Python  24000   40days      1200  None  0            288000.0\n",
       "r5   pandas  24000   60days      2500  None  0            600000.0"
      ]
     },
     "execution_count": 91,
     "metadata": {},
     "output_type": "execute_result"
    }
   ],
   "source": [
    "df2"
   ]
  },
  {
   "cell_type": "code",
   "execution_count": 98,
   "id": "1ebed0d7",
   "metadata": {},
   "outputs": [],
   "source": [
    "MNCCompanies = ['TATA','HCL','Infosys','Google','Amazon']\n",
    "df2 = df2.assign(MNC_Company=MNCCompanies)"
   ]
  },
  {
   "cell_type": "code",
   "execution_count": 93,
   "id": "feec6bf2",
   "metadata": {},
   "outputs": [
    {
     "data": {
      "text/html": [
       "<div>\n",
       "<style scoped>\n",
       "    .dataframe tbody tr th:only-of-type {\n",
       "        vertical-align: middle;\n",
       "    }\n",
       "\n",
       "    .dataframe tbody tr th {\n",
       "        vertical-align: top;\n",
       "    }\n",
       "\n",
       "    .dataframe thead th {\n",
       "        text-align: right;\n",
       "    }\n",
       "</style>\n",
       "<table border=\"1\" class=\"dataframe\">\n",
       "  <thead>\n",
       "    <tr style=\"text-align: right;\">\n",
       "      <th></th>\n",
       "      <th>Courses</th>\n",
       "      <th>Fee</th>\n",
       "      <th>Duration</th>\n",
       "      <th>Discount</th>\n",
       "      <th>A</th>\n",
       "      <th>B</th>\n",
       "      <th>C</th>\n",
       "      <th>discount_percent</th>\n",
       "      <th>MNC_Company</th>\n",
       "    </tr>\n",
       "  </thead>\n",
       "  <tbody>\n",
       "    <tr>\n",
       "      <th>r1</th>\n",
       "      <td>Spark</td>\n",
       "      <td>24000</td>\n",
       "      <td>30day</td>\n",
       "      <td>1000</td>\n",
       "      <td>None</td>\n",
       "      <td>0</td>\n",
       "      <td></td>\n",
       "      <td>240000.0</td>\n",
       "      <td>TATA</td>\n",
       "    </tr>\n",
       "    <tr>\n",
       "      <th>r2</th>\n",
       "      <td>PySpark</td>\n",
       "      <td>25000</td>\n",
       "      <td>50days</td>\n",
       "      <td>2300</td>\n",
       "      <td>None</td>\n",
       "      <td>0</td>\n",
       "      <td></td>\n",
       "      <td>575000.0</td>\n",
       "      <td>HCL</td>\n",
       "    </tr>\n",
       "    <tr>\n",
       "      <th>r3</th>\n",
       "      <td>Hadoop</td>\n",
       "      <td>25000</td>\n",
       "      <td>55days</td>\n",
       "      <td>1000</td>\n",
       "      <td>None</td>\n",
       "      <td>0</td>\n",
       "      <td></td>\n",
       "      <td>250000.0</td>\n",
       "      <td>Infosys</td>\n",
       "    </tr>\n",
       "    <tr>\n",
       "      <th>r4</th>\n",
       "      <td>Python</td>\n",
       "      <td>24000</td>\n",
       "      <td>40days</td>\n",
       "      <td>1200</td>\n",
       "      <td>None</td>\n",
       "      <td>0</td>\n",
       "      <td></td>\n",
       "      <td>288000.0</td>\n",
       "      <td>Google</td>\n",
       "    </tr>\n",
       "    <tr>\n",
       "      <th>r5</th>\n",
       "      <td>pandas</td>\n",
       "      <td>24000</td>\n",
       "      <td>60days</td>\n",
       "      <td>2500</td>\n",
       "      <td>None</td>\n",
       "      <td>0</td>\n",
       "      <td></td>\n",
       "      <td>600000.0</td>\n",
       "      <td>Amazon</td>\n",
       "    </tr>\n",
       "  </tbody>\n",
       "</table>\n",
       "</div>"
      ],
      "text/plain": [
       "    Courses    Fee Duration  Discount     A  B C  discount_percent MNC_Company\n",
       "r1    Spark  24000    30day      1000  None  0            240000.0        TATA\n",
       "r2  PySpark  25000   50days      2300  None  0            575000.0         HCL\n",
       "r3   Hadoop  25000   55days      1000  None  0            250000.0     Infosys\n",
       "r4   Python  24000   40days      1200  None  0            288000.0      Google\n",
       "r5   pandas  24000   60days      2500  None  0            600000.0      Amazon"
      ]
     },
     "execution_count": 93,
     "metadata": {},
     "output_type": "execute_result"
    }
   ],
   "source": [
    "df2"
   ]
  },
  {
   "cell_type": "code",
   "execution_count": 96,
   "id": "ce046ba1",
   "metadata": {},
   "outputs": [
    {
     "data": {
      "text/html": [
       "<div>\n",
       "<style scoped>\n",
       "    .dataframe tbody tr th:only-of-type {\n",
       "        vertical-align: middle;\n",
       "    }\n",
       "\n",
       "    .dataframe tbody tr th {\n",
       "        vertical-align: top;\n",
       "    }\n",
       "\n",
       "    .dataframe thead th {\n",
       "        text-align: right;\n",
       "    }\n",
       "</style>\n",
       "<table border=\"1\" class=\"dataframe\">\n",
       "  <thead>\n",
       "    <tr style=\"text-align: right;\">\n",
       "      <th></th>\n",
       "      <th>Courses</th>\n",
       "      <th>Fee</th>\n",
       "      <th>Duration</th>\n",
       "      <th>Discount</th>\n",
       "      <th>A</th>\n",
       "      <th>B</th>\n",
       "      <th>C</th>\n",
       "      <th>discount_percent</th>\n",
       "    </tr>\n",
       "  </thead>\n",
       "  <tbody>\n",
       "    <tr>\n",
       "      <th>r1</th>\n",
       "      <td>Spark</td>\n",
       "      <td>24000</td>\n",
       "      <td>30day</td>\n",
       "      <td>1000</td>\n",
       "      <td>None</td>\n",
       "      <td>0</td>\n",
       "      <td></td>\n",
       "      <td>240000.0</td>\n",
       "    </tr>\n",
       "    <tr>\n",
       "      <th>r2</th>\n",
       "      <td>PySpark</td>\n",
       "      <td>25000</td>\n",
       "      <td>50days</td>\n",
       "      <td>2300</td>\n",
       "      <td>None</td>\n",
       "      <td>0</td>\n",
       "      <td></td>\n",
       "      <td>575000.0</td>\n",
       "    </tr>\n",
       "    <tr>\n",
       "      <th>r3</th>\n",
       "      <td>Hadoop</td>\n",
       "      <td>25000</td>\n",
       "      <td>55days</td>\n",
       "      <td>1000</td>\n",
       "      <td>None</td>\n",
       "      <td>0</td>\n",
       "      <td></td>\n",
       "      <td>250000.0</td>\n",
       "    </tr>\n",
       "    <tr>\n",
       "      <th>r4</th>\n",
       "      <td>Python</td>\n",
       "      <td>24000</td>\n",
       "      <td>40days</td>\n",
       "      <td>1200</td>\n",
       "      <td>None</td>\n",
       "      <td>0</td>\n",
       "      <td></td>\n",
       "      <td>288000.0</td>\n",
       "    </tr>\n",
       "    <tr>\n",
       "      <th>r5</th>\n",
       "      <td>pandas</td>\n",
       "      <td>24000</td>\n",
       "      <td>60days</td>\n",
       "      <td>2500</td>\n",
       "      <td>None</td>\n",
       "      <td>0</td>\n",
       "      <td></td>\n",
       "      <td>600000.0</td>\n",
       "    </tr>\n",
       "  </tbody>\n",
       "</table>\n",
       "</div>"
      ],
      "text/plain": [
       "    Courses    Fee Duration  Discount     A  B C  discount_percent\n",
       "r1    Spark  24000    30day      1000  None  0            240000.0\n",
       "r2  PySpark  25000   50days      2300  None  0            575000.0\n",
       "r3   Hadoop  25000   55days      1000  None  0            250000.0\n",
       "r4   Python  24000   40days      1200  None  0            288000.0\n",
       "r5   pandas  24000   60days      2500  None  0            600000.0"
      ]
     },
     "execution_count": 96,
     "metadata": {},
     "output_type": "execute_result"
    }
   ],
   "source": [
    "df2.drop([\"MNC_Company\"],axis=1)"
   ]
  },
  {
   "cell_type": "code",
   "execution_count": null,
   "id": "08833e47",
   "metadata": {},
   "outputs": [],
   "source": [
    "df2.insert(0,\"MNC_COMP\",MNCCompanies)"
   ]
  },
  {
   "cell_type": "code",
   "execution_count": 105,
   "id": "4c73cf57",
   "metadata": {},
   "outputs": [
    {
     "data": {
      "text/html": [
       "<div>\n",
       "<style scoped>\n",
       "    .dataframe tbody tr th:only-of-type {\n",
       "        vertical-align: middle;\n",
       "    }\n",
       "\n",
       "    .dataframe tbody tr th {\n",
       "        vertical-align: top;\n",
       "    }\n",
       "\n",
       "    .dataframe thead th {\n",
       "        text-align: right;\n",
       "    }\n",
       "</style>\n",
       "<table border=\"1\" class=\"dataframe\">\n",
       "  <thead>\n",
       "    <tr style=\"text-align: right;\">\n",
       "      <th></th>\n",
       "      <th>MNC_COMP</th>\n",
       "      <th>Courses</th>\n",
       "      <th>Fee</th>\n",
       "      <th>Duration</th>\n",
       "      <th>Discount</th>\n",
       "      <th>A</th>\n",
       "      <th>B</th>\n",
       "      <th>C</th>\n",
       "      <th>discount_percent</th>\n",
       "      <th>MNC_Company</th>\n",
       "    </tr>\n",
       "  </thead>\n",
       "  <tbody>\n",
       "    <tr>\n",
       "      <th>r1</th>\n",
       "      <td>TATA</td>\n",
       "      <td>Spark</td>\n",
       "      <td>24000</td>\n",
       "      <td>30day</td>\n",
       "      <td>1000</td>\n",
       "      <td>None</td>\n",
       "      <td>0</td>\n",
       "      <td></td>\n",
       "      <td>240000.0</td>\n",
       "      <td>TATA</td>\n",
       "    </tr>\n",
       "    <tr>\n",
       "      <th>r2</th>\n",
       "      <td>HCL</td>\n",
       "      <td>PySpark</td>\n",
       "      <td>25000</td>\n",
       "      <td>50days</td>\n",
       "      <td>2300</td>\n",
       "      <td>None</td>\n",
       "      <td>0</td>\n",
       "      <td></td>\n",
       "      <td>575000.0</td>\n",
       "      <td>HCL</td>\n",
       "    </tr>\n",
       "    <tr>\n",
       "      <th>r3</th>\n",
       "      <td>Infosys</td>\n",
       "      <td>Hadoop</td>\n",
       "      <td>25000</td>\n",
       "      <td>55days</td>\n",
       "      <td>1000</td>\n",
       "      <td>None</td>\n",
       "      <td>0</td>\n",
       "      <td></td>\n",
       "      <td>250000.0</td>\n",
       "      <td>Infosys</td>\n",
       "    </tr>\n",
       "    <tr>\n",
       "      <th>r4</th>\n",
       "      <td>Google</td>\n",
       "      <td>Python</td>\n",
       "      <td>24000</td>\n",
       "      <td>40days</td>\n",
       "      <td>1200</td>\n",
       "      <td>None</td>\n",
       "      <td>0</td>\n",
       "      <td></td>\n",
       "      <td>288000.0</td>\n",
       "      <td>Google</td>\n",
       "    </tr>\n",
       "    <tr>\n",
       "      <th>r5</th>\n",
       "      <td>Amazon</td>\n",
       "      <td>pandas</td>\n",
       "      <td>24000</td>\n",
       "      <td>60days</td>\n",
       "      <td>2500</td>\n",
       "      <td>None</td>\n",
       "      <td>0</td>\n",
       "      <td></td>\n",
       "      <td>600000.0</td>\n",
       "      <td>Amazon</td>\n",
       "    </tr>\n",
       "  </tbody>\n",
       "</table>\n",
       "</div>"
      ],
      "text/plain": [
       "   MNC_COMP  Courses    Fee Duration  Discount     A  B C  discount_percent  \\\n",
       "r1     TATA    Spark  24000    30day      1000  None  0            240000.0   \n",
       "r2      HCL  PySpark  25000   50days      2300  None  0            575000.0   \n",
       "r3  Infosys   Hadoop  25000   55days      1000  None  0            250000.0   \n",
       "r4   Google   Python  24000   40days      1200  None  0            288000.0   \n",
       "r5   Amazon   pandas  24000   60days      2500  None  0            600000.0   \n",
       "\n",
       "   MNC_Company  \n",
       "r1        TATA  \n",
       "r2         HCL  \n",
       "r3     Infosys  \n",
       "r4      Google  \n",
       "r5      Amazon  "
      ]
     },
     "execution_count": 105,
     "metadata": {},
     "output_type": "execute_result"
    }
   ],
   "source": [
    "df2"
   ]
  },
  {
   "cell_type": "code",
   "execution_count": 106,
   "id": "cfa61810",
   "metadata": {},
   "outputs": [
    {
     "name": "stdout",
     "output_type": "stream",
     "text": [
      "   Courses    Fee Duration  Discount   Tutors\n",
      "0    Spark  24000    30day      1000  William\n",
      "1  PySpark  25000   50days      2300    Henry\n",
      "2   Hadoop  25000   55days      1000  Michael\n",
      "3   Python  24000   40days      1200     John\n",
      "4   pandas  24000   60days      2500    Messi\n"
     ]
    }
   ],
   "source": [
    "# Add new column by mapping to the existing column\n",
    "df = pd.DataFrame(technologies)\n",
    "tutors = {\"Spark\":\"William\", \"PySpark\":\"Henry\", \"Hadoop\":\"Michael\",\"Python\":\"John\", \"pandas\":\"Messi\"}\n",
    "df['Tutors'] = df['Courses'].map(tutors)\n",
    "print(df)"
   ]
  },
  {
   "cell_type": "code",
   "execution_count": 107,
   "id": "9e444587",
   "metadata": {},
   "outputs": [
    {
     "data": {
      "text/html": [
       "<div>\n",
       "<style scoped>\n",
       "    .dataframe tbody tr th:only-of-type {\n",
       "        vertical-align: middle;\n",
       "    }\n",
       "\n",
       "    .dataframe tbody tr th {\n",
       "        vertical-align: top;\n",
       "    }\n",
       "\n",
       "    .dataframe thead th {\n",
       "        text-align: right;\n",
       "    }\n",
       "</style>\n",
       "<table border=\"1\" class=\"dataframe\">\n",
       "  <thead>\n",
       "    <tr style=\"text-align: right;\">\n",
       "      <th></th>\n",
       "      <th>Courses</th>\n",
       "      <th>Fee</th>\n",
       "      <th>Duration</th>\n",
       "      <th>Discount</th>\n",
       "      <th>Tutors</th>\n",
       "    </tr>\n",
       "  </thead>\n",
       "  <tbody>\n",
       "    <tr>\n",
       "      <th>0</th>\n",
       "      <td>Spark</td>\n",
       "      <td>24000</td>\n",
       "      <td>30day</td>\n",
       "      <td>1000</td>\n",
       "      <td>William</td>\n",
       "    </tr>\n",
       "    <tr>\n",
       "      <th>1</th>\n",
       "      <td>PySpark</td>\n",
       "      <td>25000</td>\n",
       "      <td>50days</td>\n",
       "      <td>2300</td>\n",
       "      <td>Henry</td>\n",
       "    </tr>\n",
       "    <tr>\n",
       "      <th>2</th>\n",
       "      <td>Hadoop</td>\n",
       "      <td>25000</td>\n",
       "      <td>55days</td>\n",
       "      <td>1000</td>\n",
       "      <td>Michael</td>\n",
       "    </tr>\n",
       "    <tr>\n",
       "      <th>3</th>\n",
       "      <td>Python</td>\n",
       "      <td>24000</td>\n",
       "      <td>40days</td>\n",
       "      <td>1200</td>\n",
       "      <td>John</td>\n",
       "    </tr>\n",
       "    <tr>\n",
       "      <th>4</th>\n",
       "      <td>pandas</td>\n",
       "      <td>24000</td>\n",
       "      <td>60days</td>\n",
       "      <td>2500</td>\n",
       "      <td>Messi</td>\n",
       "    </tr>\n",
       "  </tbody>\n",
       "</table>\n",
       "</div>"
      ],
      "text/plain": [
       "   Courses    Fee Duration  Discount   Tutors\n",
       "0    Spark  24000    30day      1000  William\n",
       "1  PySpark  25000   50days      2300    Henry\n",
       "2   Hadoop  25000   55days      1000  Michael\n",
       "3   Python  24000   40days      1200     John\n",
       "4   pandas  24000   60days      2500    Messi"
      ]
     },
     "execution_count": 107,
     "metadata": {},
     "output_type": "execute_result"
    }
   ],
   "source": [
    "df"
   ]
  },
  {
   "cell_type": "code",
   "execution_count": 112,
   "id": "7d6cc880",
   "metadata": {},
   "outputs": [],
   "source": [
    "inst_loc ={'Spark' :'Bangalore',\"PySpark\" :'Mysore',\"Hadoop\" : \"Hydrabad\", \"Python\" : 'Patna' ,'pandas' :'Pune'}\n",
    "df['Training center'] = df['Courses'].map(inst_loc)"
   ]
  },
  {
   "cell_type": "code",
   "execution_count": 113,
   "id": "d57686a2",
   "metadata": {},
   "outputs": [
    {
     "data": {
      "text/html": [
       "<div>\n",
       "<style scoped>\n",
       "    .dataframe tbody tr th:only-of-type {\n",
       "        vertical-align: middle;\n",
       "    }\n",
       "\n",
       "    .dataframe tbody tr th {\n",
       "        vertical-align: top;\n",
       "    }\n",
       "\n",
       "    .dataframe thead th {\n",
       "        text-align: right;\n",
       "    }\n",
       "</style>\n",
       "<table border=\"1\" class=\"dataframe\">\n",
       "  <thead>\n",
       "    <tr style=\"text-align: right;\">\n",
       "      <th></th>\n",
       "      <th>Courses</th>\n",
       "      <th>Fee</th>\n",
       "      <th>Duration</th>\n",
       "      <th>Discount</th>\n",
       "      <th>Tutors</th>\n",
       "      <th>Training center</th>\n",
       "    </tr>\n",
       "  </thead>\n",
       "  <tbody>\n",
       "    <tr>\n",
       "      <th>0</th>\n",
       "      <td>Spark</td>\n",
       "      <td>24000</td>\n",
       "      <td>30day</td>\n",
       "      <td>1000</td>\n",
       "      <td>William</td>\n",
       "      <td>Bangalore</td>\n",
       "    </tr>\n",
       "    <tr>\n",
       "      <th>1</th>\n",
       "      <td>PySpark</td>\n",
       "      <td>25000</td>\n",
       "      <td>50days</td>\n",
       "      <td>2300</td>\n",
       "      <td>Henry</td>\n",
       "      <td>Mysore</td>\n",
       "    </tr>\n",
       "    <tr>\n",
       "      <th>2</th>\n",
       "      <td>Hadoop</td>\n",
       "      <td>25000</td>\n",
       "      <td>55days</td>\n",
       "      <td>1000</td>\n",
       "      <td>Michael</td>\n",
       "      <td>Hydrabad</td>\n",
       "    </tr>\n",
       "    <tr>\n",
       "      <th>3</th>\n",
       "      <td>Python</td>\n",
       "      <td>24000</td>\n",
       "      <td>40days</td>\n",
       "      <td>1200</td>\n",
       "      <td>John</td>\n",
       "      <td>Patna</td>\n",
       "    </tr>\n",
       "    <tr>\n",
       "      <th>4</th>\n",
       "      <td>pandas</td>\n",
       "      <td>24000</td>\n",
       "      <td>60days</td>\n",
       "      <td>2500</td>\n",
       "      <td>Messi</td>\n",
       "      <td>Pune</td>\n",
       "    </tr>\n",
       "  </tbody>\n",
       "</table>\n",
       "</div>"
      ],
      "text/plain": [
       "   Courses    Fee Duration  Discount   Tutors Training center\n",
       "0    Spark  24000    30day      1000  William       Bangalore\n",
       "1  PySpark  25000   50days      2300    Henry          Mysore\n",
       "2   Hadoop  25000   55days      1000  Michael        Hydrabad\n",
       "3   Python  24000   40days      1200     John           Patna\n",
       "4   pandas  24000   60days      2500    Messi            Pune"
      ]
     },
     "execution_count": 113,
     "metadata": {},
     "output_type": "execute_result"
    }
   ],
   "source": [
    "df"
   ]
  },
  {
   "cell_type": "code",
   "execution_count": 114,
   "id": "010dc9d5",
   "metadata": {},
   "outputs": [],
   "source": [
    "import pandas as pd\n",
    "technologies = ({\n",
    "  'Courses':[\"Spark\",\"PySpark\",\"Hadoop\",\"Python\",\"pandas\",\"Oracle\",\"Java\"],\n",
    "  'Fee' :[20000,25000,26000,22000,24000,21000,22000],\n",
    "  'Duration':['30day', '40days' ,'35days', '40days', '60days', '50days', '55days']\n",
    "              })\n",
    "df = pd.DataFrame(technologies)\n",
    "#print(df.columns)"
   ]
  },
  {
   "cell_type": "code",
   "execution_count": 115,
   "id": "2d8d426c",
   "metadata": {},
   "outputs": [
    {
     "data": {
      "text/html": [
       "<div>\n",
       "<style scoped>\n",
       "    .dataframe tbody tr th:only-of-type {\n",
       "        vertical-align: middle;\n",
       "    }\n",
       "\n",
       "    .dataframe tbody tr th {\n",
       "        vertical-align: top;\n",
       "    }\n",
       "\n",
       "    .dataframe thead th {\n",
       "        text-align: right;\n",
       "    }\n",
       "</style>\n",
       "<table border=\"1\" class=\"dataframe\">\n",
       "  <thead>\n",
       "    <tr style=\"text-align: right;\">\n",
       "      <th></th>\n",
       "      <th>Courses</th>\n",
       "      <th>Fee</th>\n",
       "      <th>Duration</th>\n",
       "    </tr>\n",
       "  </thead>\n",
       "  <tbody>\n",
       "    <tr>\n",
       "      <th>0</th>\n",
       "      <td>Spark</td>\n",
       "      <td>20000</td>\n",
       "      <td>30day</td>\n",
       "    </tr>\n",
       "    <tr>\n",
       "      <th>1</th>\n",
       "      <td>PySpark</td>\n",
       "      <td>25000</td>\n",
       "      <td>40days</td>\n",
       "    </tr>\n",
       "    <tr>\n",
       "      <th>2</th>\n",
       "      <td>Hadoop</td>\n",
       "      <td>26000</td>\n",
       "      <td>35days</td>\n",
       "    </tr>\n",
       "    <tr>\n",
       "      <th>3</th>\n",
       "      <td>Python</td>\n",
       "      <td>22000</td>\n",
       "      <td>40days</td>\n",
       "    </tr>\n",
       "    <tr>\n",
       "      <th>4</th>\n",
       "      <td>pandas</td>\n",
       "      <td>24000</td>\n",
       "      <td>60days</td>\n",
       "    </tr>\n",
       "    <tr>\n",
       "      <th>5</th>\n",
       "      <td>Oracle</td>\n",
       "      <td>21000</td>\n",
       "      <td>50days</td>\n",
       "    </tr>\n",
       "    <tr>\n",
       "      <th>6</th>\n",
       "      <td>Java</td>\n",
       "      <td>22000</td>\n",
       "      <td>55days</td>\n",
       "    </tr>\n",
       "  </tbody>\n",
       "</table>\n",
       "</div>"
      ],
      "text/plain": [
       "   Courses    Fee Duration\n",
       "0    Spark  20000    30day\n",
       "1  PySpark  25000   40days\n",
       "2   Hadoop  26000   35days\n",
       "3   Python  22000   40days\n",
       "4   pandas  24000   60days\n",
       "5   Oracle  21000   50days\n",
       "6     Java  22000   55days"
      ]
     },
     "execution_count": 115,
     "metadata": {},
     "output_type": "execute_result"
    }
   ],
   "source": [
    "df"
   ]
  },
  {
   "cell_type": "code",
   "execution_count": 116,
   "id": "a3ab7507",
   "metadata": {},
   "outputs": [
    {
     "data": {
      "text/plain": [
       "Index(['Courses', 'Fee', 'Duration'], dtype='object')"
      ]
     },
     "execution_count": 116,
     "metadata": {},
     "output_type": "execute_result"
    }
   ],
   "source": [
    "df.columns"
   ]
  },
  {
   "cell_type": "code",
   "execution_count": 121,
   "id": "be718d4a",
   "metadata": {},
   "outputs": [],
   "source": [
    "df = df.rename(columns={'Courses':\"course_list\"})"
   ]
  },
  {
   "cell_type": "code",
   "execution_count": 122,
   "id": "448db26f",
   "metadata": {},
   "outputs": [
    {
     "data": {
      "text/html": [
       "<div>\n",
       "<style scoped>\n",
       "    .dataframe tbody tr th:only-of-type {\n",
       "        vertical-align: middle;\n",
       "    }\n",
       "\n",
       "    .dataframe tbody tr th {\n",
       "        vertical-align: top;\n",
       "    }\n",
       "\n",
       "    .dataframe thead th {\n",
       "        text-align: right;\n",
       "    }\n",
       "</style>\n",
       "<table border=\"1\" class=\"dataframe\">\n",
       "  <thead>\n",
       "    <tr style=\"text-align: right;\">\n",
       "      <th></th>\n",
       "      <th>course_list</th>\n",
       "      <th>Fee</th>\n",
       "      <th>Duration</th>\n",
       "    </tr>\n",
       "  </thead>\n",
       "  <tbody>\n",
       "    <tr>\n",
       "      <th>0</th>\n",
       "      <td>Spark</td>\n",
       "      <td>20000</td>\n",
       "      <td>30day</td>\n",
       "    </tr>\n",
       "    <tr>\n",
       "      <th>1</th>\n",
       "      <td>PySpark</td>\n",
       "      <td>25000</td>\n",
       "      <td>40days</td>\n",
       "    </tr>\n",
       "    <tr>\n",
       "      <th>2</th>\n",
       "      <td>Hadoop</td>\n",
       "      <td>26000</td>\n",
       "      <td>35days</td>\n",
       "    </tr>\n",
       "    <tr>\n",
       "      <th>3</th>\n",
       "      <td>Python</td>\n",
       "      <td>22000</td>\n",
       "      <td>40days</td>\n",
       "    </tr>\n",
       "    <tr>\n",
       "      <th>4</th>\n",
       "      <td>pandas</td>\n",
       "      <td>24000</td>\n",
       "      <td>60days</td>\n",
       "    </tr>\n",
       "    <tr>\n",
       "      <th>5</th>\n",
       "      <td>Oracle</td>\n",
       "      <td>21000</td>\n",
       "      <td>50days</td>\n",
       "    </tr>\n",
       "    <tr>\n",
       "      <th>6</th>\n",
       "      <td>Java</td>\n",
       "      <td>22000</td>\n",
       "      <td>55days</td>\n",
       "    </tr>\n",
       "  </tbody>\n",
       "</table>\n",
       "</div>"
      ],
      "text/plain": [
       "  course_list    Fee Duration\n",
       "0       Spark  20000    30day\n",
       "1     PySpark  25000   40days\n",
       "2      Hadoop  26000   35days\n",
       "3      Python  22000   40days\n",
       "4      pandas  24000   60days\n",
       "5      Oracle  21000   50days\n",
       "6        Java  22000   55days"
      ]
     },
     "execution_count": 122,
     "metadata": {},
     "output_type": "execute_result"
    }
   ],
   "source": [
    "df"
   ]
  },
  {
   "cell_type": "code",
   "execution_count": 123,
   "id": "50ff9346",
   "metadata": {},
   "outputs": [
    {
     "name": "stdout",
     "output_type": "stream",
     "text": [
      "[3, 1]\n"
     ]
    }
   ],
   "source": [
    "a = [1, 3, 4, 2]\n",
    "print(a[-3:-6:-1])"
   ]
  },
  {
   "cell_type": "code",
   "execution_count": 137,
   "id": "64c11f20",
   "metadata": {},
   "outputs": [],
   "source": [
    " def fib(n):\n",
    "    a, b = 0, 1\n",
    "    for _ in range(n):\n",
    "        yield a\n",
    "        a, b = b, a + b"
   ]
  },
  {
   "cell_type": "code",
   "execution_count": 140,
   "id": "d6b2dad2",
   "metadata": {},
   "outputs": [
    {
     "name": "stdout",
     "output_type": "stream",
     "text": [
      "[0, 1, 1, 2, 3]\n"
     ]
    }
   ],
   "source": [
    "print(list(fib(5)))"
   ]
  },
  {
   "cell_type": "code",
   "execution_count": null,
   "id": "ca89fb8d",
   "metadata": {},
   "outputs": [],
   "source": []
  }
 ],
 "metadata": {
  "kernelspec": {
   "display_name": "Python 3 (ipykernel)",
   "language": "python",
   "name": "python3"
  },
  "language_info": {
   "codemirror_mode": {
    "name": "ipython",
    "version": 3
   },
   "file_extension": ".py",
   "mimetype": "text/x-python",
   "name": "python",
   "nbconvert_exporter": "python",
   "pygments_lexer": "ipython3",
   "version": "3.9.13"
  }
 },
 "nbformat": 4,
 "nbformat_minor": 5
}
